{
 "cells": [
  {
   "cell_type": "markdown",
   "metadata": {
    "id": "GKzu9hbgqw2x"
   },
   "source": [
    "# Setups, Installations and Imports"
   ]
  },
  {
   "cell_type": "code",
   "execution_count": 1,
   "metadata": {
    "id": "C6_Ry2Ib2q8a"
   },
   "outputs": [],
   "source": [
    "%%capture \n",
    "!pip install tensorflow\n",
    "!pip install tensorflow-addons\n",
    "!pip install bayesian-optimization"
   ]
  },
  {
   "cell_type": "code",
   "execution_count": 2,
   "metadata": {
    "id": "9-APP7-6C5uK"
   },
   "outputs": [],
   "source": [
    "import tensorflow as tf\n",
    "\n",
    "from tensorflow import keras\n",
    "from tensorflow.keras.datasets import cifar10\n",
    "from tensorflow.keras.applications import resnet50\n",
    "\n",
    "import tensorflow_addons as tfa\n",
    "import sys"
   ]
  },
  {
   "cell_type": "code",
   "execution_count": 3,
   "metadata": {
    "colab": {
     "base_uri": "https://localhost:8080/"
    },
    "id": "2isnsuDp3B4X",
    "outputId": "2684e912-cfe5-4cfe-a4b8-460291f17535"
   },
   "outputs": [],
   "source": [
    "try:\n",
    "    from google.colab import drive\n",
    "    drive.mount('/content/drive')\n",
    "    IN_COLAB = True\n",
    "except:\n",
    "    IN_COLAB = False"
   ]
  },
  {
   "cell_type": "code",
   "execution_count": 4,
   "metadata": {
    "id": "3Pr3HrMxq8SF"
   },
   "outputs": [],
   "source": [
    "import os\n",
    "os.environ[\"TF_DETERMINISTIC_OPS\"] = \"1\"\n",
    "import time\n",
    "\n",
    "import numpy as np\n",
    "import pandas as pd\n",
    "import matplotlib.pyplot as plt\n",
    "\n",
    "%matplotlib inline\n",
    "\n",
    "import io\n",
    "import itertools\n",
    "from functools import partial\n",
    "from sklearn.metrics import confusion_matrix\n",
    "from sklearn.model_selection import train_test_split\n",
    "from sklearn.metrics import accuracy_score, precision_score, roc_auc_score, recall_score\n",
    "from tqdm.notebook import tqdm_notebook\n",
    "from ipywidgets import IntProgress\n",
    "\n",
    "from sklearn.model_selection import KFold, StratifiedKFold\n",
    "\n",
    "from bayes_opt import BayesianOptimization\n",
    "\n",
    "from sklearn.preprocessing import LabelBinarizer\n"
   ]
  },
  {
   "cell_type": "markdown",
   "metadata": {
    "id": "M3Ln8W0Aru8X"
   },
   "source": [
    "# Download and Prepare Dataset"
   ]
  },
  {
   "cell_type": "code",
   "execution_count": 5,
   "metadata": {
    "colab": {
     "base_uri": "https://localhost:8080/"
    },
    "id": "CiQ37FFv2DqR",
    "outputId": "75145e0f-05cd-4a7d-b0a0-ee504d4537b9"
   },
   "outputs": [
    {
     "name": "stdout",
     "output_type": "stream",
     "text": [
      "Requirement already satisfied: kaggle in c:\\users\\user\\.conda\\envs\\ml_proj\\lib\\site-packages (1.5.12)\n",
      "Requirement already satisfied: python-dateutil in c:\\users\\user\\.conda\\envs\\ml_proj\\lib\\site-packages (from kaggle) (2.8.2)\n",
      "Requirement already satisfied: tqdm in c:\\users\\user\\.conda\\envs\\ml_proj\\lib\\site-packages (from kaggle) (4.61.2)\n",
      "Requirement already satisfied: six>=1.10 in c:\\users\\user\\.conda\\envs\\ml_proj\\lib\\site-packages (from kaggle) (1.15.0)\n",
      "Requirement already satisfied: urllib3 in c:\\users\\user\\.conda\\envs\\ml_proj\\lib\\site-packages (from kaggle) (1.26.6)\n",
      "Requirement already satisfied: requests in c:\\users\\user\\.conda\\envs\\ml_proj\\lib\\site-packages (from kaggle) (2.26.0)\n",
      "Requirement already satisfied: certifi in c:\\users\\user\\.conda\\envs\\ml_proj\\lib\\site-packages (from kaggle) (2021.5.30)\n",
      "Requirement already satisfied: python-slugify in c:\\users\\user\\.conda\\envs\\ml_proj\\lib\\site-packages (from kaggle) (5.0.2)\n",
      "Requirement already satisfied: text-unidecode>=1.3 in c:\\users\\user\\.conda\\envs\\ml_proj\\lib\\site-packages (from python-slugify->kaggle) (1.3)\n",
      "Requirement already satisfied: charset-normalizer~=2.0.0 in c:\\users\\user\\.conda\\envs\\ml_proj\\lib\\site-packages (from requests->kaggle) (2.0.0)\n",
      "Requirement already satisfied: idna<4,>=2.5 in c:\\users\\user\\.conda\\envs\\ml_proj\\lib\\site-packages (from requests->kaggle) (3.1)\n",
      "Requirement already satisfied: colorama in c:\\users\\user\\.conda\\envs\\ml_proj\\lib\\site-packages (from tqdm->kaggle) (0.4.4)\n"
     ]
    },
    {
     "name": "stderr",
     "output_type": "stream",
     "text": [
      "The syntax of the command is incorrect.\n",
      "'touch' is not recognized as an internal or external command,\n",
      "operable program or batch file.\n",
      "The system cannot find the path specified.\n",
      "'cat' is not recognized as an internal or external command,\n",
      "operable program or batch file.\n",
      "'chmod' is not recognized as an internal or external command,\n",
      "operable program or batch file.\n"
     ]
    }
   ],
   "source": [
    "# Insert the directoryimport sys\n",
    "if IN_COLAB:\n",
    "    '''this is the exact path of the mounted direttory. in order to set it, right click on colab notebooks folder and copy path, and insert below '''\n",
    "    COLAB_NOTEBOOKES_PATH = \"/content/drive/MyDrive/Colab Notebooks\"\n",
    "    sys.path.insert(0,COLAB_NOTEBOOKES_PATH)  \n",
    "\n",
    "import Ensembles_prepare_datasets\n"
   ]
  },
  {
   "cell_type": "markdown",
   "metadata": {
    "id": "QZzY01xwxS-f"
   },
   "source": [
    "#### Dataloader"
   ]
  },
  {
   "cell_type": "code",
   "execution_count": 6,
   "metadata": {
    "id": "6TqcgM67xxDF"
   },
   "outputs": [],
   "source": [
    "AUTO = tf.data.experimental.AUTOTUNE\n",
    "BATCH_SIZE = 128\n",
    "\n",
    "def preprocess_image(image, label):\n",
    "  img = tf.cast(image, tf.float32)\n",
    "  img = img/255.\n",
    "\n",
    "  return img, label\n",
    "\n",
    "\n",
    "def get_loaders(x_train, y_train, x_test, y_test):\n",
    "    trainloader = tf.data.Dataset.from_tensor_slices((x_train, y_train))\n",
    "    testloader = tf.data.Dataset.from_tensor_slices((x_test, y_test))\n",
    "    trainloader = (\n",
    "        trainloader\n",
    "        .shuffle(1024)\n",
    "        .map(preprocess_image, num_parallel_calls=AUTO)\n",
    "        .batch(BATCH_SIZE)\n",
    "        .prefetch(AUTO)\n",
    "    )\n",
    "\n",
    "    testloader = (\n",
    "        testloader\n",
    "        .map(preprocess_image, num_parallel_calls=AUTO)\n",
    "        .batch(BATCH_SIZE)\n",
    "        .prefetch(AUTO)\n",
    "    )\n",
    "    return trainloader, testloader"
   ]
  },
  {
   "cell_type": "code",
   "execution_count": 7,
   "metadata": {
    "id": "0mLH4RAc2DqV"
   },
   "outputs": [],
   "source": [
    "ROOT_PATH = './'\n",
    "## SmallCNN models with different initialization\n",
    "models_dir = 'IndependentSolutions'\n",
    "MODEL_PATH = ROOT_PATH+'IndependentSolutions/'\n",
    "\n",
    "if models_dir not in os.listdir(ROOT_PATH):\n",
    "    os.mkdir(models_dir)"
   ]
  },
  {
   "cell_type": "markdown",
   "metadata": {
    "id": "W2xrs00QuVG3"
   },
   "source": [
    "# Model"
   ]
  },
  {
   "cell_type": "code",
   "execution_count": 8,
   "metadata": {
    "id": "_Pv7-2VNsb5N"
   },
   "outputs": [],
   "source": [
    "def Model1(num_labels, img_shape, color = 3):\n",
    "  inputs = keras.layers.Input(shape=(img_shape, img_shape, color))\n",
    "\n",
    "  x = keras.layers.Conv2D(16, (3,3), padding='same')(inputs)\n",
    "  x = keras.activations.relu(x)\n",
    "  x = keras.layers.MaxPooling2D(2, strides=2)(x)\n",
    "\n",
    "  x = keras.layers.Conv2D(32,(3,3), padding='same')(x)\n",
    "  x = keras.activations.relu(x)\n",
    "  x = keras.layers.MaxPooling2D(2, strides=2)(x)\n",
    "\n",
    "  x = keras.layers.Conv2D(32,(3,3), padding='same')(x)\n",
    "  x = keras.activations.relu(x)\n",
    "  x = keras.layers.MaxPooling2D(2, strides=2)(x)\n",
    "\n",
    "  x = keras.layers.GlobalAveragePooling2D()(x)\n",
    "  x = keras.layers.Dense(32, activation='relu')(x)\n",
    "  x = keras.layers.Dropout(0.1)(x)\n",
    "  \n",
    "  outputs = keras.layers.Dense(num_labels, activation='softmax')(x)\n",
    "\n",
    "  return keras.models.Model(inputs=inputs, outputs=outputs)\n",
    "\n",
    "def Model():\n",
    "    if color:\n",
    "        return Model1(num_labels, img_shape,color)\n",
    "    else:\n",
    "        return Model1(num_labels, img_shape)"
   ]
  },
  {
   "cell_type": "markdown",
   "metadata": {
    "id": "FjhCE4Uo2DqW"
   },
   "source": [
    "# Init hyper parameters"
   ]
  },
  {
   "cell_type": "code",
   "execution_count": 9,
   "metadata": {
    "id": "fmICQ1UX2DqW"
   },
   "outputs": [],
   "source": [
    "\n",
    "learning_rate_range = [0.001,0.1]\n",
    "epsilon_range = [1e-08,1e-05]\n"
   ]
  },
  {
   "cell_type": "markdown",
   "metadata": {
    "id": "nkxDAl8pv5pJ"
   },
   "source": [
    "# Callbacks"
   ]
  },
  {
   "cell_type": "markdown",
   "metadata": {
    "id": "B13auR7gDEao"
   },
   "source": [
    "#### LR Scheduler"
   ]
  },
  {
   "cell_type": "code",
   "execution_count": 10,
   "metadata": {
    "id": "j4WY47Kxv8uN"
   },
   "outputs": [],
   "source": [
    "\n",
    "def lr_schedule(epoch,lr):\n",
    "    if (epoch >= 0) & (epoch < 9):\n",
    "        return lr\n",
    "    elif (epoch >= 9) & (epoch < 19):\n",
    "        return lr/2\n",
    "    elif (epoch >= 19) & (epoch < 29):\n",
    "        return lr/4\n",
    "    else:\n",
    "        return lr/8\n",
    "\n",
    "#lr_callback = tf.keras.callbacks.LearningRateScheduler(lambda epoch: lr_schedule(epoch), verbose=True)\n",
    "lr_callback = tf.keras.callbacks.LearningRateScheduler(lr_schedule)"
   ]
  },
  {
   "cell_type": "markdown",
   "metadata": {
    "id": "KLs22v6arEMo"
   },
   "source": [
    "# Independent Solutions"
   ]
  },
  {
   "cell_type": "code",
   "execution_count": 11,
   "metadata": {
    "id": "9wPswwrujNDe"
   },
   "outputs": [],
   "source": [
    "# Saving 5 independent solutions i.e, 5 different inits.\n",
    "# Will save last model snapshot. \n",
    "\n",
    "def run_independent_solutions():\n",
    "\n",
    "    EPOCHS = 10\n",
    "    SAVE_PATH = 'IndependentSolutions/'\n",
    "\n",
    "    for iter in tqdm_notebook(range(5)):\n",
    "      # initialize weights\n",
    "      keras.backend.clear_session()\n",
    "      model = Model()\n",
    "      #optimizer define with name\n",
    "      opt = tf.keras.optimizers.Adam(learning_rate=0.001, epsilon=1e-07, name='Adam'+str(iter))\n",
    "      # compile\n",
    "      model.compile(opt, 'sparse_categorical_crossentropy', metrics=['accuracy'])\n",
    "      # train\n",
    "      _ = model.fit(trainloader,\n",
    "                  epochs=EPOCHS,\n",
    "                  validation_data=testloader,\n",
    "                  callbacks=[lr_callback],\n",
    "                  verbose=0)\n",
    "      # save final model snapshot\n",
    "      model.save(SAVE_PATH+'smallcnn_independent_model_{}.h5'.format(iter))\n",
    "      # evaluate\n",
    "      loss, accuracy = model.evaluate(testloader, verbose=0)\n",
    "      print(\"Test Error Rate: \", round((1-accuracy)*100, 2), '% | Iteration No: ', iter)\n",
    "\n",
    "def run_independent_solutions(lr,ep,trainloader,testloader):\n",
    "\n",
    "    EPOCHS = 10\n",
    "    SAVE_PATH = 'IndependentSolutions/'\n",
    "\n",
    "    for iter in tqdm_notebook(range(5)):\n",
    "      # initialize weights\n",
    "      keras.backend.clear_session()\n",
    "      model = Model()\n",
    "      #optimizer define with name\n",
    "      opt = tf.keras.optimizers.Adam(learning_rate=lr, epsilon=ep, name='Adam'+str(iter))\n",
    "      # compile\n",
    "      model.compile(opt, 'sparse_categorical_crossentropy', metrics=['accuracy'])\n",
    "      # train\n",
    "      _ = model.fit(trainloader,\n",
    "                  epochs=EPOCHS,\n",
    "                  validation_data=testloader,\n",
    "                  callbacks=[lr_callback],\n",
    "                  verbose=0)\n",
    "      # save final model snapshot\n",
    "      model.save(SAVE_PATH+'smallcnn_independent_model_{}.h5'.format(iter))\n",
    "      # evaluate\n",
    "      loss, accuracy = model.evaluate(testloader, verbose=0)\n",
    "      print(\"Test Error Rate: \", round((1-accuracy)*100, 2), '% | Iteration No: ', iter)\n",
    "#run_independent_solutions()"
   ]
  },
  {
   "cell_type": "markdown",
   "metadata": {
    "id": "VngoxffB2DqX"
   },
   "source": [
    "# Ensembles\n"
   ]
  },
  {
   "cell_type": "markdown",
   "metadata": {
    "id": "vrNIgbG82DqY"
   },
   "source": [
    "# Deep Ensembles"
   ]
  },
  {
   "cell_type": "code",
   "execution_count": 12,
   "metadata": {
    "id": "oiQYzIcN2DqY"
   },
   "outputs": [],
   "source": [
    "# make an ensemble prediction for multi-class classification\n",
    "def ensemble_predictions(members):\n",
    "\t# make predictions\n",
    "\tyhats = [model.predict(x_test/255.) for model in members]\n",
    "\tyhats = np.array(yhats)\n",
    "\t# sum across ensemble members\n",
    "\tsummed = np.sum(yhats, axis=0)\n",
    "\t# argmax across classes\n",
    "\tresult = np.argmax(summed, axis=1)\n",
    "\treturn result\n",
    " \n",
    "# evaluate a specific number of members in an ensemble\n",
    "def evaluate_n_members(members):\n",
    "    accuracy_list = []\n",
    "    for n_members in tqdm_notebook(range(1, len(members))):\n",
    "        # select a subset of members\n",
    "        subset = members[:n_members]\n",
    "        print(len(subset))\n",
    "        # make prediction\n",
    "        yhat = ensemble_predictions(subset)\n",
    "        # calculate accuracy\n",
    "        accuracy_list.append(100*accuracy_score(y_test, yhat))\n",
    "\n",
    "    return accuracy_list\n",
    "\n",
    "def ensemble_predictions(members, test):\n",
    "\t# make predictions\n",
    "\tyhats = [model.predict(test/255.) for model in members]\n",
    "\tyhats = np.array(yhats)\n",
    "\t# sum across ensemble members\n",
    "\tsummed = np.sum(yhats, axis=0)\n",
    "\t# argmax across classes\n",
    "\tresult = np.argmax(summed, axis=1)\n",
    "\treturn result"
   ]
  },
  {
   "cell_type": "code",
   "execution_count": 13,
   "metadata": {
    "id": "csxe35W_2DqY"
   },
   "outputs": [],
   "source": [
    "# Run the ensembles for plot\n",
    "def run_ensembles_and_plot():\n",
    "    members = [tf.keras.models.load_model(MODEL_PATH + model_ckpts[i]) \n",
    "                            for i in range(len(model_ckpts))]\n",
    "    \n",
    "    single_model = np.random.choice(members)\n",
    "    accuracy_single_model = single_model.evaluate(testloader)[1] * 100\n",
    "    \n",
    "    accuracy_list = evaluate_n_members(members)\n",
    "    \n",
    "    accuracy_list.insert(0, accuracy_single_model)\n",
    "    rng = [i for i in range(0, len(members))]\n",
    "    \n",
    "    plt.figure(figsize=(9,8))\n",
    "    plt.plot(rng, accuracy_list, label='deep ensemble')\n",
    "    plt.plot(rng, [accuracy_single_model]*len(rng), '--', label='single model')\n",
    "    plt.title(\"Test accuracy as a function of ensemble size\")\n",
    "    plt.xlabel(\"Ensemble size\")\n",
    "    plt.ylabel(\"Test accuracy\")\n",
    "    plt.legend();\n",
    "    plt.savefig('ensemble_func.png')\n",
    "    \n",
    "#run_ensembles_and_plot()"
   ]
  },
  {
   "cell_type": "code",
   "execution_count": 14,
   "metadata": {
    "id": "jppS_U9Q2DqZ"
   },
   "outputs": [],
   "source": [
    "# Bayesian Optimization with k fold validation \n",
    "def iner_kfold(x_train, y_train, lr, ep):\n",
    "    kf = KFold(n_splits = 3, random_state=3, shuffle=True)\n",
    "    accuracy_list = []\n",
    "    for train_index, test_index in kf.split(x_train):\n",
    "        f_x_train, f_x_test = x_train[train_index], x_train[test_index]\n",
    "        f_y_train, f_y_test = y_train[train_index], y_train[test_index]\n",
    "        trainloader, testloader = get_loaders(f_x_train, f_y_train, f_x_test, f_y_test)\n",
    "        run_independent_solutions(lr, ep,trainloader,testloader)\n",
    "        model_ckpts = os.listdir(MODEL_PATH)\n",
    "        members = [tf.keras.models.load_model(MODEL_PATH + model_ckpts[i]) \n",
    "                            for i in range(len(model_ckpts))]\n",
    "        yhat = ensemble_predictions(members,f_x_test)\n",
    "        accuracy = 100*accuracy_score(f_y_test, yhat)\n",
    "        accuracy_list.append(accuracy)\n",
    "    print('accuracy:', np.mean(accuracy_list), '+/-', np.std(accuracy_list))\n",
    "    return np.mean(accuracy_list)\n",
    "\n",
    "def kfold_opt(x_train, y_train):\n",
    "    print(\"finding best hyper parameters\")\n",
    "    fit_with_partial = partial(iner_kfold, x_train, y_train)\n",
    "    pbounds = { 'lr': (0.0001,0.01), 'ep': (1e-8,1e-5)}\n",
    "\n",
    "    optimizer = BayesianOptimization(\n",
    "        f=fit_with_partial,\n",
    "        pbounds=pbounds,\n",
    "        verbose=2,  # verbose = 1 prints only when a maximum is observed, verbose = 0 is silent\n",
    "        random_state=1,\n",
    "    )\n",
    "\n",
    "    optimizer.maximize(init_points=10, n_iter=10)\n",
    "\n",
    "\n",
    "    for i, res in enumerate(optimizer.res):\n",
    "        print(\"Iteration {}: \\n\\t{}\".format(i, res))\n",
    "\n",
    "    print(optimizer.max)\n",
    "    return optimizer.max['params']['lr'], optimizer.max['params']['ep']\n",
    "\n",
    "\n"
   ]
  },
  {
   "cell_type": "code",
   "execution_count": 15,
   "metadata": {
    "id": "r12rohpu2DqZ"
   },
   "outputs": [],
   "source": [
    "#claculating the result TPR and FPR\n",
    "def tpr_fpr(y_true, y_prediction):\n",
    "\n",
    "    cnf_matrix = confusion_matrix(y_true, y_prediction)\n",
    "   \n",
    "    FP = cnf_matrix.sum(axis=0) - np.diag(cnf_matrix)  \n",
    "    FN = cnf_matrix.sum(axis=1) - np.diag(cnf_matrix)\n",
    "    TP = np.diag(cnf_matrix)\n",
    "    TN = cnf_matrix.sum() - (FP + FN + TP)\n",
    "\n",
    "    FP = FP.astype(float).sum()\n",
    "    FN = FN.astype(float).sum()\n",
    "    TP = TP.astype(float).sum()\n",
    "    TN = TN.astype(float).sum()\n",
    "\n",
    "    # Sensitivity, hit rate, recall, or true positive rate\n",
    "    TPR = TP/(TP+FN)\n",
    "    # Specificity or true negative rate\n",
    "    TNR = TN/(TN+FP) \n",
    "    # Precision or positive predictive value\n",
    "    PPV = TP/(TP+FP)\n",
    "    # Negative predictive value\n",
    "    NPV = TN/(TN+FN)\n",
    "    # Fall out or false positive rate\n",
    "    FPR = FP/(FP+TN)\n",
    "    # False negative rate\n",
    "    FNR = FN/(TP+FN)\n",
    "    # False discovery rate\n",
    "    FDR = FP/(TP+FP)\n",
    "    # Overall accuracy\n",
    "    ACC = (TP+TN)/(TP+FP+FN+TN)\n",
    "    return TPR, FPR"
   ]
  },
  {
   "cell_type": "code",
   "execution_count": 16,
   "metadata": {
    "id": "ZccRt0p72DqZ"
   },
   "outputs": [],
   "source": [
    "#writing the results to a file\n",
    "def write_res(name, algo, cros_val, hp_lr, hp_ep, accu, tpr, fpr, preci, auc, train_time):\n",
    "    file_name = name + '-' + algo + \".csv\"\n",
    "    print(file_name)\n",
    "    f = open(file_name, \"a\")\n",
    "    f.write(name+','+algo+','+str(cros_val)+','+str(hp_lr)+','+str(hp_ep)+','\n",
    "            +str(accu)+','+str(tpr)+','+str(fpr)+','+str(preci)+','+str(auc)+','+str(train_time)+'\\n')\n",
    "    f.close()"
   ]
  },
  {
   "cell_type": "code",
   "execution_count": 17,
   "metadata": {
    "id": "JXObZSCG2Dqa"
   },
   "outputs": [],
   "source": [
    "#get AUC of multiclass results\n",
    "def multiclass_roc_auc_score(y_test, y_pred, average=\"macro\"):\n",
    "    lb = LabelBinarizer()\n",
    "    lb.fit(y_test)\n",
    "    y_test = lb.transform(y_test)\n",
    "    y_pred = lb.transform(y_pred)\n",
    "    return roc_auc_score(y_test, y_pred, average=average)"
   ]
  },
  {
   "cell_type": "code",
   "execution_count": 18,
   "metadata": {
    "id": "U0EysR1Q2Dqa"
   },
   "outputs": [],
   "source": [
    "# validate preformence result with kfold \n",
    "def kfold_val():\n",
    "    f = open(n + \"-paper_algo.csv\", \"w\")\n",
    "    f.write('name, algo, cros_val, hp_lr, hp_ep, accu, tpr, fpr, preci, auc, train_time\\n')\n",
    "    f.close()\n",
    "    kf = KFold(n_splits=10, random_state=3, shuffle=True) #should be 10\n",
    "    start1 = time.time()\n",
    "    lr=0.001\n",
    "    ep=1e-07\n",
    "    accuracy_list = []\n",
    "    training_times = []\n",
    "    first_fold = True\n",
    "    cros_iter = 1\n",
    "    for train_index, test_index in kf.split(x):\n",
    "        print(\"TRAIN:\", train_index, \"TEST:\", test_index)\n",
    "        f_x_train, f_x_test = x[train_index], x[test_index]\n",
    "        f_y_train, f_y_test = y[train_index], y[test_index]\n",
    "        start2 = time.time()\n",
    "        if first_fold:\n",
    "            #find best hyperparameters to use\n",
    "            lr, ep = kfold_opt(f_x_train, f_y_train)\n",
    "            first_fold = False\n",
    "        \n",
    "        trainloader, testloader = get_loaders(f_x_train, f_y_train, f_x_test, f_y_test) \n",
    "        run_independent_solutions(lr,ep,trainloader,testloader)\n",
    "        end2 = time.time()\n",
    "        model_ckpts = os.listdir(MODEL_PATH)\n",
    "        members = [tf.keras.models.load_model(MODEL_PATH + model_ckpts[i]) \n",
    "                            for i in range(len(model_ckpts))]\n",
    "        yhat = ensemble_predictions(members,f_x_test)\n",
    "        ##### infer results and saving\n",
    "        accuracy = 100*accuracy_score(f_y_test, yhat)\n",
    "        TPR, FPR = tpr_fpr(f_y_test, yhat)\n",
    "        precision = precision_score(f_y_test, yhat, average='weighted')\n",
    "        auc = multiclass_roc_auc_score(f_y_test,yhat)\n",
    "        accuracy_list.append(accuracy)\n",
    "        train_time = end2 - start2\n",
    "        training_times.append(train_time)\n",
    "        print(\"accuracy: {}\".format(accuracy))\n",
    "        write_res(n, 'paper_algo', cros_iter, lr, ep, accuracy, TPR, FPR, precision, auc, train_time)\n",
    "        cros_iter = cros_iter + 1\n",
    "    end1 = time.time()\n",
    "    print('accuracy:', np.mean(accuracy_list), '+/-', np.std(accuracy_list))\n",
    "    print(\"avarage accuracy: {}\".format(np.average(accuracy_list)) )   \n",
    "    print(\"Network takes {:.3f} minuts to fold validate\".format((end1 - start1)/60))\n",
    "\n",
    "#kfold_val()"
   ]
  },
  {
   "cell_type": "code",
   "execution_count": 19,
   "metadata": {
    "colab": {
     "base_uri": "https://localhost:8080/",
     "height": 1000,
     "referenced_widgets": [
      "ef239ab72974499e9757eb5f38693307",
      "07abe9c66f9b4cde89b0683b9b4ad5de",
      "d2a6161589d347e49d27a82a7641365c",
      "4af5b737d867494785ef6ef12924068a",
      "58a65498c907429080249087f851e3ca",
      "03e942e58e5e42cab903257cd40d9c79",
      "dce95202831c4a14beea2f252f082a9a",
      "d98220e895ed4cff84d330142177bcae",
      "c71709baa9b04ef58c690ff3631488ae",
      "455e735de05c411aa68c1c39d709fb3c",
      "50ea206290bb43069715ebd61aa8ce66",
      "c4698a2173b3444cb7469ad716edccb2",
      "5e2a7abcd2704592b6bbd32b1b967cdd",
      "9c3aa58cc41b465ba295d71efbf5845b",
      "47eec56e4492404198822cc8ed5139e8",
      "9f38cb19ad87463681a1d76afd0db51d",
      "2bf491db94f345139409fefdf0cf8046",
      "4cda6c9e2c0a4b3083bbee084ef3b093",
      "108129bdea894eb2be2615d8818c5081",
      "0a802b56ce554c67a14c7e0a3edc1e2d",
      "8a4e563939104ec9b132540f25e26eb6",
      "1b4d3f68c42c4d30af2c0eccddf722cf",
      "07841006a33a4be89f98e1f1dc346bfc",
      "00b1d1aafeb34ae1ab1a3298d91f2cd6",
      "844b7615e6784a2da32e6367ccc23783",
      "1099863f0b2a4b2aab9a1467f5a6d3bc",
      "30dcce008dca4324875dbd5d14e91ae5",
      "f4f4aa9d6fbe4362985f6cba78b4e394",
      "531f4427cffd4175a3b3b62de2f13a28",
      "3dee94fe5fea4e62938c6caa96af6799",
      "df77e94435ed4342b72f50c0138e1ea1",
      "af0a784605034a13b731d7ae5475426d",
      "aa5ddc893fbc4c1f93204acdc791fc41",
      "2ac3b6438a6149cdb117c413a70620ce",
      "b95a1348d4ab4622b783e5c655bb440d",
      "4c957a079ca6488cb694fc45bf1e8f9c",
      "a906441009364859b1279ff005fd52c8",
      "212c1894535b441a86811b5efc55df63",
      "4ce1091e078444469322f723e4fd515d",
      "4c8c3e324af046b6a160f027e3265526",
      "695db07e531f46c89b5676610e4cc9d2",
      "4700bf71d222483d8f79e4a514bea7f3",
      "340f07f32e92473ab681223719ebb66a",
      "35068a530f0345a7b61cad88c164c14c",
      "c28d2bee3ef44d24b659921402b59104",
      "bce885834f6f49669dd655107c3d328d",
      "a66d38f58b5b4b2698e91834ef428326",
      "666506bbc00045a68f52493d4a31d992",
      "70414f730e4f46dba1d43bad7f310050",
      "b4f9432eba0d4a4892e52c812c9c0fad",
      "43ed5695a8e04f3bb7aa412e17690828",
      "2aebc87901fa4b07aa9852a3a66beef6",
      "de4958ff6a604c049ccb4d95ae26c3a0",
      "00e0df9191c54da9b2cb0c4ae6044158",
      "2a8f1e7a86d14e64b58868315d57e41b",
      "863c5d238ab7463fb11b758f6897231f",
      "dbdf4faa493b4b6ea3735573eda4f354",
      "a1a6fa291ca2494ba504a8a22e0df231",
      "3db5e477a0504b47bbe8c84dc8ebd969",
      "765f27a7f9ac46808697184947b5fb4d",
      "c3a3e6316f8a4c1f9e561d832d81978a",
      "dc043da0d8234ef7b0b048ec1b0187df",
      "7ad9805573464a62985ad5e99b194b39",
      "b31033efd66a41788c498b946cfb4c2c",
      "81c58018987d485a83f6213a3b1b0466",
      "99ce9fbe08744e3aa9fb2f981e6882a2",
      "4ac9fe87749742d9b3f99312bd6432bb",
      "9e3a592aac5c44ff8c4553acf65b4a75",
      "d6a64e14009c462facda0d418e143b7b",
      "d8451fe8251249e3a2a54ca298fb4553",
      "eea19f343fdd4d5ca836af39b8b041a7",
      "c9b9026bdba749e38bbba8806952be2f",
      "8ac60c0c45b84790be4281614fd2c7f4",
      "80f5fbb395e94ffc927bc4fcd82147bb",
      "67139ee69b5f4e2687459335451cbfea",
      "1d2274ec2b75408abf7a8c174a93c639",
      "e4a9c56f99264157946887426b1e7b4a",
      "2f1ef080bd6742f18a2366ff89d0d2df",
      "6427bd8885b844729af34917490c4bd4",
      "7b6aeec6e5ec4f3c9db5ac1b9cee6ab8",
      "ac415d7fbf1042ca9b199b854e6106ac",
      "afe04340f2144b20afae89717dc6f356",
      "ac1e6a17a34f425ab98f990191211783",
      "a8cfa715e52646c088ef54cea70f19d9",
      "57ad75155db0406ba1b1b04f0873474b",
      "c6cf5590ce0e494a99b1d8e3e6ba25a2",
      "1f72871a7f2648e59ca56fb089413ad3",
      "6f4d2041d9aa44d796155b322efb1048",
      "9a59de4d35e34d8ab7ad65b365866878",
      "859ba52de29d4d81a821581d881491cd",
      "5935c2476bee4c08b981f09c4d52f6cf",
      "815f1b7a011b4b0b9999e506ad078ef0",
      "a1d9d12fe73d4e8ba4f6e33dcd6e51df",
      "cfec5c2ca7914538ba130412f74b0899",
      "cb9471babf8245999b87a7169bfc857c",
      "4fbd39b84afd4696b4ecb5a187aa3bd4",
      "868d4a5c7fd24939907318ba3e81d573",
      "5585d048e468417585e82d9b2072583e",
      "7cea1fac368f4beba44df3cda8ad1977",
      "9d0e18f9cc174bed94ae91523cd50b64",
      "9b46c4ab8e5e43f3ab476059d5c96051",
      "6535fbb7566a4a70aa8b9988958c48ab",
      "49e3698da4dc42c59805440df8fee0e5",
      "9fc8cc1ddb5741e0ab1b0f533df572cb",
      "75845cb634d1445c96c109e211f64ee9",
      "0d7ad592648b4424bddcd83d70a842b5",
      "5773901c2ec647bbaad5e8776d3af493",
      "149007f404fe4e77a69dacf40639c81c",
      "4b04cbd2f5994ee985d66e3910fdfc2f",
      "f5afced08058485bb916c878a37393db",
      "074566ca894a43b389a31dce458d9e15",
      "b8fd2d590f494008aaa64d9714724670",
      "8c5730a30c534e618fa2cdfe0a3976bc",
      "3972394587f243fab8bc27ec3c13ad00",
      "fccdfd9687644419b1e03c2761626fe2",
      "8382cb136e714a27bab5c8cb91e9dd86",
      "ceaf4419e3c747b0991bd33e9935543d",
      "6441238e96d8476eae4cee5a22c21724",
      "ad98e2a02be04d6d8820bf84cc86fb6c",
      "796256fe49e84d51b9fe8c37f6818d03",
      "a6eff010d9a6476cb093849d1116b819",
      "b6327c64e5e54e46ac6a935da7312399",
      "aa83b870e7fb415f924eb9c1da955d8b",
      "6392610f67254a6e8c317c8ed5f24c55",
      "a79d7842d816479aafb12f3681dbc4c7",
      "4760405b4cfd4db1a2071db41f6d5c4a",
      "ca51fd33f8af4ab88f2292a2bf500bcc",
      "93d73ebac8ba4ac2a6c25ec27c400d4e",
      "360f2eac712a4ea899e617223ce10c7e",
      "6d60d30067874deea2e5280aa3118044",
      "a6eb5e80e1a14e539c9152bd53d41371",
      "2e0ac1b50f974cc997e97e366ca4014f",
      "1a4569ba50eb42e7bd35be9d3d6b2e75",
      "322ab4561d08464ba8c6cc4f4e7beb5c",
      "1d482a3b8b72463f818755ba7f920b4c",
      "a2a81e3789ce4db2bf2f17f2114ee948",
      "66870a3d5e614c97b76817d14bae78a0",
      "b759512c397d4bef9a6859e48fc72531",
      "d0bc46d3efdb4900b37742a8df21cd94",
      "a1dac20cbae1480e83efa65b2e5aeaf5",
      "1cefec8d7a1e43ad938d58888d6089ea",
      "799f90eaa2a5464fa26df03cd8f8dd15",
      "59bf4995f7af488f981eb9e5e6fe8065",
      "11eb954fab934ecfa0c026645195d108",
      "60ee71af19124d4798f02d3601bb27f0",
      "a831f7aa202b4a1aab4b7ea4a88d3470",
      "61eb4854244a410fa022db2128f1293f",
      "7d4d759da89c48158931f07983e9db62",
      "a98b9727d68f4b1b90e89a7733a93228",
      "bc8d0cbd23664d668406931b181fcb64",
      "a7d0f623d09f405ba233deb532a76c23",
      "7b5e0508ff3842bc8b8792bd8b8e9da7",
      "a072c05ffae3480193e3f4b1429cd3c8",
      "7c71bd96a79f4e718e42526e6ddeb101",
      "1c450332d03643b4bd93692bdc4633ae",
      "01f303550f924aa9b11d8c99b56a00d8",
      "3fccb0b80b7f4218804561882c00515f",
      "81f898ccd8e244f79be236e0cc3e939d",
      "ac9640353088407bae39e65c95ba9707",
      "099de3c6f5f54a1489d880b55ba8ee58",
      "718f84558b964c08bcb2d927400608e7",
      "abe60bba69f6484f81eac293e61adedb",
      "599867fd6f6b44b8b7649683ddd43b5b",
      "b86fb84075bf4d4e94785ce808a3e1fb",
      "4f9882bf13c24dc4834c0cdf6d93df76",
      "9821042a3aac4311b2265b11fb68b518",
      "062b83f74eed48bd95b6731a6c623337",
      "0eb389c8577447dfa43778c01b7d8276",
      "f398613409e54c2a9141b7055a557080",
      "4d1f1a66e55f485c8b119c75640d7d1b",
      "758f83345f814dde9af0bbfa19431cf7",
      "999c5a8668cf4a939be84e738e4431ed",
      "1ca2100a20e140f1854c0cdb756078cd",
      "1d647859d90c4c53a310311001050db4",
      "d1996480f6d3464d9c579eacb022775f",
      "464bd262f31942c4bca6e2b5597853f9",
      "e4c83de1d6074790b338402a21d8f503",
      "6fdadd86176c48e29e99ec7c479d70ed",
      "1d867217aa0543028d2fba8eb1acb38f",
      "4170752352464201a21b3987a906fe7c",
      "da131e358dfa4363a41a0029fd1bf799",
      "7e156dfdf8a945bb8be3dcc01c6de8ef",
      "c5c5ec55c91447c98063e7ff85a8d8cf",
      "8e1aa29c65764559bd8113e158d0c07f",
      "34b660592a484b4583683e293af63afb",
      "87becdd85ba4414397d18bc25a630776",
      "94664029c3f54a70b77551d9441656ce",
      "f307a7bee5d044b2918252ee679a8443",
      "f2f607f3ce874d11872d146fb8c4b8ae",
      "994567c2dca049b2a9269a102bdbf73b",
      "67bc91ed40044c6493e33e1ede136c1c",
      "aa0a848d054f4a409bc95004190fba5c",
      "e4b4b5f2e4cf4f39bc954f8c511e0e4f",
      "79c09a43f5cc40b699232d4a5db6a4c0",
      "6b0f0de1689f432584c2aaf2dce824f0",
      "eb20c07284b444ce9eb51d9beb4a75bd",
      "d029fbc0322641978c8d97181bc102ec",
      "96952d45e3dd4a70ae100a93d185f265",
      "e0b5f26ded8b406ab71ab1c90c6320d4",
      "e82e2a2daf93481f802b3673f0420c5a"
     ]
    },
    "id": "xlgM9hRk2Dqa",
    "outputId": "4ff522da-c070-48ee-c8a6-1ce9ba548c0e"
   },
   "outputs": [
    {
     "name": "stdout",
     "output_type": "stream",
     "text": [
      "TRAIN: [   1    2    3 ... 4091 4092 4093] TEST: [   0    6   21   22   33   34   38   59   69   70   72  111  115  121\n",
      "  122  154  160  173  175  183  192  198  202  203  215  226  236  240\n",
      "  250  261  272  273  285  287  318  322  323  325  328  349  370  371\n",
      "  377  392  404  406  407  422  433  445  447  448  454  458  464  475\n",
      "  499  509  528  529  532  537  549  557  563  575  583  591  602  603\n",
      "  626  632  654  658  660  668  685  696  701  718  719  725  741  749\n",
      "  768  779  781  785  800  805  818  820  821  849  871  877  880  901\n",
      "  904  908  911  915  920  922  953  967  973  976  981  989 1008 1013\n",
      " 1020 1031 1032 1041 1044 1049 1054 1061 1069 1089 1097 1099 1111 1113\n",
      " 1119 1123 1130 1136 1150 1151 1162 1163 1165 1168 1182 1196 1198 1210\n",
      " 1218 1260 1273 1281 1312 1336 1344 1354 1365 1371 1379 1390 1392 1400\n",
      " 1407 1411 1414 1417 1440 1443 1444 1453 1460 1491 1502 1511 1547 1549\n",
      " 1563 1610 1620 1627 1631 1634 1635 1651 1656 1660 1668 1671 1673 1675\n",
      " 1706 1722 1726 1730 1731 1741 1748 1771 1778 1779 1785 1820 1839 1843\n",
      " 1853 1859 1863 1865 1890 1922 1924 1930 1940 1946 1959 1961 1971 1978\n",
      " 1982 1993 2001 2002 2003 2004 2011 2033 2037 2062 2098 2109 2112 2113\n",
      " 2153 2175 2189 2199 2200 2207 2218 2278 2291 2313 2328 2337 2343 2345\n",
      " 2352 2365 2366 2375 2376 2393 2395 2410 2434 2437 2459 2474 2482 2483\n",
      " 2496 2520 2530 2533 2539 2563 2564 2572 2582 2589 2590 2600 2608 2614\n",
      " 2616 2632 2634 2635 2645 2648 2658 2663 2671 2672 2683 2686 2726 2734\n",
      " 2746 2750 2758 2760 2761 2776 2787 2808 2823 2832 2864 2879 2883 2890\n",
      " 2891 2905 2913 2914 2919 2933 2940 2945 2950 2953 2959 2969 2973 2979\n",
      " 2982 3017 3023 3027 3028 3030 3033 3043 3059 3062 3068 3076 3084 3085\n",
      " 3102 3107 3137 3167 3169 3179 3195 3203 3226 3229 3236 3242 3247 3278\n",
      " 3298 3302 3307 3352 3385 3391 3398 3405 3427 3431 3432 3445 3456 3458\n",
      " 3461 3490 3491 3508 3519 3525 3528 3530 3532 3547 3552 3555 3566 3595\n",
      " 3599 3600 3606 3608 3611 3621 3631 3642 3658 3661 3676 3698 3705 3707\n",
      " 3753 3763 3770 3771 3786 3807 3839 3846 3850 3854 3883 3896 3898 3899\n",
      " 3920 3935 3943 3950 3967 3988 4004 4008 4022 4026 4032 4046 4059 4062\n",
      " 4068 4073 4085 4086]\n",
      "finding best hyper parameters\n",
      "|   iter    |  target   |    ep     |    lr     |\n",
      "-------------------------------------------------\n"
     ]
    },
    {
     "data": {
      "application/vnd.jupyter.widget-view+json": {
       "model_id": "f34323cccacf439683815e7bd62f6763",
       "version_major": 2,
       "version_minor": 0
      },
      "text/plain": [
       "  0%|          | 0/5 [00:00<?, ?it/s]"
      ]
     },
     "metadata": {},
     "output_type": "display_data"
    },
    {
     "name": "stdout",
     "output_type": "stream",
     "text": [
      "Test Error Rate:  85.34 % | Iteration No:  0\n",
      "Test Error Rate:  83.47 % | Iteration No:  1\n",
      "Test Error Rate:  87.54 % | Iteration No:  2\n",
      "Test Error Rate:  82.41 % | Iteration No:  3\n",
      "Test Error Rate:  84.04 % | Iteration No:  4\n"
     ]
    },
    {
     "data": {
      "application/vnd.jupyter.widget-view+json": {
       "model_id": "29d3598510f04abe86c352dc4afcbc48",
       "version_major": 2,
       "version_minor": 0
      },
      "text/plain": [
       "  0%|          | 0/5 [00:00<?, ?it/s]"
      ]
     },
     "metadata": {},
     "output_type": "display_data"
    },
    {
     "name": "stdout",
     "output_type": "stream",
     "text": [
      "Test Error Rate:  85.5 % | Iteration No:  0\n",
      "Test Error Rate:  90.47 % | Iteration No:  1\n",
      "Test Error Rate:  85.34 % | Iteration No:  2\n",
      "Test Error Rate:  86.32 % | Iteration No:  3\n",
      "Test Error Rate:  88.68 % | Iteration No:  4\n"
     ]
    },
    {
     "data": {
      "application/vnd.jupyter.widget-view+json": {
       "model_id": "51143e66ece5488490110f4a6d8b5e66",
       "version_major": 2,
       "version_minor": 0
      },
      "text/plain": [
       "  0%|          | 0/5 [00:00<?, ?it/s]"
      ]
     },
     "metadata": {},
     "output_type": "display_data"
    },
    {
     "name": "stdout",
     "output_type": "stream",
     "text": [
      "Test Error Rate:  87.05 % | Iteration No:  0\n",
      "Test Error Rate:  84.61 % | Iteration No:  1\n",
      "Test Error Rate:  88.36 % | Iteration No:  2\n",
      "Test Error Rate:  90.8 % | Iteration No:  3\n",
      "Test Error Rate:  90.72 % | Iteration No:  4\n",
      "accuracy: 15.933767643865366 +/- 1.0002999876595158\n",
      "| \u001b[0m 1       \u001b[0m | \u001b[0m 15.93   \u001b[0m | \u001b[0m 4.176e-0\u001b[0m | \u001b[0m 0.007231\u001b[0m |\n"
     ]
    },
    {
     "data": {
      "application/vnd.jupyter.widget-view+json": {
       "model_id": "a1a27fe1dda54af0b9d6b343da897d66",
       "version_major": 2,
       "version_minor": 0
      },
      "text/plain": [
       "  0%|          | 0/5 [00:00<?, ?it/s]"
      ]
     },
     "metadata": {},
     "output_type": "display_data"
    },
    {
     "name": "stdout",
     "output_type": "stream",
     "text": [
      "Test Error Rate:  93.0 % | Iteration No:  0\n",
      "Test Error Rate:  91.45 % | Iteration No:  1\n",
      "Test Error Rate:  85.91 % | Iteration No:  2\n",
      "Test Error Rate:  86.16 % | Iteration No:  3\n",
      "Test Error Rate:  86.48 % | Iteration No:  4\n"
     ]
    },
    {
     "data": {
      "application/vnd.jupyter.widget-view+json": {
       "model_id": "96a676159cc445318e19fbc7dafb4f55",
       "version_major": 2,
       "version_minor": 0
      },
      "text/plain": [
       "  0%|          | 0/5 [00:00<?, ?it/s]"
      ]
     },
     "metadata": {},
     "output_type": "display_data"
    },
    {
     "name": "stdout",
     "output_type": "stream",
     "text": [
      "Test Error Rate:  88.76 % | Iteration No:  0\n",
      "Test Error Rate:  87.05 % | Iteration No:  1\n",
      "Test Error Rate:  88.27 % | Iteration No:  2\n",
      "Test Error Rate:  89.25 % | Iteration No:  3\n",
      "Test Error Rate:  91.45 % | Iteration No:  4\n"
     ]
    },
    {
     "data": {
      "application/vnd.jupyter.widget-view+json": {
       "model_id": "458e8b767b9d4ee086e790a2b17e9b0c",
       "version_major": 2,
       "version_minor": 0
      },
      "text/plain": [
       "  0%|          | 0/5 [00:00<?, ?it/s]"
      ]
     },
     "metadata": {},
     "output_type": "display_data"
    },
    {
     "name": "stdout",
     "output_type": "stream",
     "text": [
      "Test Error Rate:  86.73 % | Iteration No:  0\n",
      "Test Error Rate:  89.17 % | Iteration No:  1\n",
      "Test Error Rate:  86.16 % | Iteration No:  2\n",
      "Test Error Rate:  87.7 % | Iteration No:  3\n",
      "Test Error Rate:  88.03 % | Iteration No:  4\n",
      "accuracy: 13.816503800217156 +/- 0.9958705932597253\n",
      "| \u001b[0m 2       \u001b[0m | \u001b[0m 13.82   \u001b[0m | \u001b[0m 1.114e-0\u001b[0m | \u001b[0m 0.003093\u001b[0m |\n"
     ]
    },
    {
     "data": {
      "application/vnd.jupyter.widget-view+json": {
       "model_id": "25f44d7ef8a64be29e910747ef348ca7",
       "version_major": 2,
       "version_minor": 0
      },
      "text/plain": [
       "  0%|          | 0/5 [00:00<?, ?it/s]"
      ]
     },
     "metadata": {},
     "output_type": "display_data"
    },
    {
     "name": "stdout",
     "output_type": "stream",
     "text": [
      "Test Error Rate:  90.8 % | Iteration No:  0\n",
      "Test Error Rate:  93.65 % | Iteration No:  1\n",
      "Test Error Rate:  92.59 % | Iteration No:  2\n",
      "Test Error Rate:  91.21 % | Iteration No:  3\n",
      "Test Error Rate:  94.3 % | Iteration No:  4\n"
     ]
    },
    {
     "data": {
      "application/vnd.jupyter.widget-view+json": {
       "model_id": "a0cbbb07c2e14e1c806e48e80c669555",
       "version_major": 2,
       "version_minor": 0
      },
      "text/plain": [
       "  0%|          | 0/5 [00:00<?, ?it/s]"
      ]
     },
     "metadata": {},
     "output_type": "display_data"
    },
    {
     "name": "stdout",
     "output_type": "stream",
     "text": [
      "Test Error Rate:  90.8 % | Iteration No:  0\n",
      "Test Error Rate:  90.23 % | Iteration No:  1\n",
      "Test Error Rate:  94.54 % | Iteration No:  2\n",
      "Test Error Rate:  94.87 % | Iteration No:  3\n",
      "Test Error Rate:  90.47 % | Iteration No:  4\n"
     ]
    },
    {
     "data": {
      "application/vnd.jupyter.widget-view+json": {
       "model_id": "b42a8ade99c4497299af68ab8b80f369",
       "version_major": 2,
       "version_minor": 0
      },
      "text/plain": [
       "  0%|          | 0/5 [00:00<?, ?it/s]"
      ]
     },
     "metadata": {},
     "output_type": "display_data"
    },
    {
     "name": "stdout",
     "output_type": "stream",
     "text": [
      "Test Error Rate:  92.35 % | Iteration No:  0\n",
      "Test Error Rate:  92.67 % | Iteration No:  1\n",
      "Test Error Rate:  93.0 % | Iteration No:  2\n",
      "Test Error Rate:  93.4 % | Iteration No:  3\n",
      "Test Error Rate:  93.0 % | Iteration No:  4\n",
      "accuracy: 8.387622149837133 +/- 0.8061477961410146\n",
      "| \u001b[0m 3       \u001b[0m | \u001b[0m 8.388   \u001b[0m | \u001b[0m 1.476e-0\u001b[0m | \u001b[0m 0.001014\u001b[0m |\n"
     ]
    },
    {
     "data": {
      "application/vnd.jupyter.widget-view+json": {
       "model_id": "c7c62a0034a14b73bd114951a8e2be9e",
       "version_major": 2,
       "version_minor": 0
      },
      "text/plain": [
       "  0%|          | 0/5 [00:00<?, ?it/s]"
      ]
     },
     "metadata": {},
     "output_type": "display_data"
    },
    {
     "name": "stdout",
     "output_type": "stream",
     "text": [
      "Test Error Rate:  84.85 % | Iteration No:  0\n",
      "Test Error Rate:  86.81 % | Iteration No:  1\n",
      "Test Error Rate:  86.56 % | Iteration No:  2\n",
      "Test Error Rate:  87.46 % | Iteration No:  3\n",
      "Test Error Rate:  88.6 % | Iteration No:  4\n"
     ]
    },
    {
     "data": {
      "application/vnd.jupyter.widget-view+json": {
       "model_id": "ed3aff8772824aea814a940ddc059dad",
       "version_major": 2,
       "version_minor": 0
      },
      "text/plain": [
       "  0%|          | 0/5 [00:00<?, ?it/s]"
      ]
     },
     "metadata": {},
     "output_type": "display_data"
    },
    {
     "name": "stdout",
     "output_type": "stream",
     "text": [
      "Test Error Rate:  87.38 % | Iteration No:  0\n",
      "Test Error Rate:  87.87 % | Iteration No:  1\n",
      "Test Error Rate:  86.81 % | Iteration No:  2\n",
      "Test Error Rate:  87.21 % | Iteration No:  3\n",
      "Test Error Rate:  87.62 % | Iteration No:  4\n"
     ]
    },
    {
     "data": {
      "application/vnd.jupyter.widget-view+json": {
       "model_id": "2b7aa2ceb6e04a3fa97f71336ae5fc38",
       "version_major": 2,
       "version_minor": 0
      },
      "text/plain": [
       "  0%|          | 0/5 [00:00<?, ?it/s]"
      ]
     },
     "metadata": {},
     "output_type": "display_data"
    },
    {
     "name": "stdout",
     "output_type": "stream",
     "text": [
      "Test Error Rate:  88.11 % | Iteration No:  0\n",
      "Test Error Rate:  84.93 % | Iteration No:  1\n",
      "Test Error Rate:  84.36 % | Iteration No:  2\n",
      "Test Error Rate:  88.44 % | Iteration No:  3\n",
      "Test Error Rate:  89.25 % | Iteration No:  4\n",
      "accuracy: 14.60369163952226 +/- 0.7323961760712291\n",
      "| \u001b[0m 4       \u001b[0m | \u001b[0m 14.6    \u001b[0m | \u001b[0m 1.871e-0\u001b[0m | \u001b[0m 0.003521\u001b[0m |\n"
     ]
    },
    {
     "data": {
      "application/vnd.jupyter.widget-view+json": {
       "model_id": "dbbafedc8db0499e98807e9a8d1dc240",
       "version_major": 2,
       "version_minor": 0
      },
      "text/plain": [
       "  0%|          | 0/5 [00:00<?, ?it/s]"
      ]
     },
     "metadata": {},
     "output_type": "display_data"
    },
    {
     "name": "stdout",
     "output_type": "stream",
     "text": [
      "Test Error Rate:  84.45 % | Iteration No:  0\n",
      "Test Error Rate:  85.59 % | Iteration No:  1\n",
      "Test Error Rate:  85.83 % | Iteration No:  2\n",
      "Test Error Rate:  85.75 % | Iteration No:  3\n",
      "Test Error Rate:  81.6 % | Iteration No:  4\n"
     ]
    },
    {
     "data": {
      "application/vnd.jupyter.widget-view+json": {
       "model_id": "216cf9a09cee48119838cf7a8f4407b8",
       "version_major": 2,
       "version_minor": 0
      },
      "text/plain": [
       "  0%|          | 0/5 [00:00<?, ?it/s]"
      ]
     },
     "metadata": {},
     "output_type": "display_data"
    },
    {
     "name": "stdout",
     "output_type": "stream",
     "text": [
      "Test Error Rate:  88.44 % | Iteration No:  0\n",
      "Test Error Rate:  87.54 % | Iteration No:  1\n",
      "Test Error Rate:  86.32 % | Iteration No:  2\n",
      "Test Error Rate:  86.56 % | Iteration No:  3\n",
      "Test Error Rate:  87.13 % | Iteration No:  4\n"
     ]
    },
    {
     "data": {
      "application/vnd.jupyter.widget-view+json": {
       "model_id": "7a5d91c9aac4407396c38c6a719178cf",
       "version_major": 2,
       "version_minor": 0
      },
      "text/plain": [
       "  0%|          | 0/5 [00:00<?, ?it/s]"
      ]
     },
     "metadata": {},
     "output_type": "display_data"
    },
    {
     "name": "stdout",
     "output_type": "stream",
     "text": [
      "Test Error Rate:  81.6 % | Iteration No:  0\n",
      "Test Error Rate:  87.3 % | Iteration No:  1\n",
      "Test Error Rate:  82.82 % | Iteration No:  2\n",
      "Test Error Rate:  87.7 % | Iteration No:  3\n",
      "Test Error Rate:  88.44 % | Iteration No:  4\n",
      "accuracy: 16.313789359391965 +/- 1.1445802737409339\n",
      "| \u001b[95m 5       \u001b[0m | \u001b[95m 16.31   \u001b[0m | \u001b[95m 3.974e-0\u001b[0m | \u001b[95m 0.005434\u001b[0m |\n"
     ]
    },
    {
     "data": {
      "application/vnd.jupyter.widget-view+json": {
       "model_id": "b2472e3d62264402b919e6d1d3c78e68",
       "version_major": 2,
       "version_minor": 0
      },
      "text/plain": [
       "  0%|          | 0/5 [00:00<?, ?it/s]"
      ]
     },
     "metadata": {},
     "output_type": "display_data"
    },
    {
     "name": "stdout",
     "output_type": "stream",
     "text": [
      "Test Error Rate:  85.83 % | Iteration No:  0\n",
      "Test Error Rate:  86.73 % | Iteration No:  1\n",
      "Test Error Rate:  86.73 % | Iteration No:  2\n",
      "Test Error Rate:  82.49 % | Iteration No:  3\n",
      "Test Error Rate:  87.46 % | Iteration No:  4\n"
     ]
    },
    {
     "data": {
      "application/vnd.jupyter.widget-view+json": {
       "model_id": "a37d922f56f048b0b2763ddf54b46fbe",
       "version_major": 2,
       "version_minor": 0
      },
      "text/plain": [
       "  0%|          | 0/5 [00:00<?, ?it/s]"
      ]
     },
     "metadata": {},
     "output_type": "display_data"
    },
    {
     "name": "stdout",
     "output_type": "stream",
     "text": [
      "Test Error Rate:  87.38 % | Iteration No:  0\n",
      "Test Error Rate:  83.55 % | Iteration No:  1\n",
      "Test Error Rate:  82.41 % | Iteration No:  2\n",
      "Test Error Rate:  85.99 % | Iteration No:  3\n",
      "Test Error Rate:  89.74 % | Iteration No:  4\n"
     ]
    },
    {
     "data": {
      "application/vnd.jupyter.widget-view+json": {
       "model_id": "84eb15f281794ebbaca16568cd28b3ca",
       "version_major": 2,
       "version_minor": 0
      },
      "text/plain": [
       "  0%|          | 0/5 [00:00<?, ?it/s]"
      ]
     },
     "metadata": {},
     "output_type": "display_data"
    },
    {
     "name": "stdout",
     "output_type": "stream",
     "text": [
      "Test Error Rate:  82.57 % | Iteration No:  0\n",
      "Test Error Rate:  84.28 % | Iteration No:  1\n",
      "Test Error Rate:  87.13 % | Iteration No:  2\n",
      "Test Error Rate:  83.39 % | Iteration No:  3\n",
      "Test Error Rate:  89.9 % | Iteration No:  4\n",
      "accuracy: 17.56243213897937 +/- 0.38959555087967745\n",
      "| \u001b[95m 6       \u001b[0m | \u001b[95m 17.56   \u001b[0m | \u001b[95m 4.198e-0\u001b[0m | \u001b[95m 0.006884\u001b[0m |\n"
     ]
    },
    {
     "data": {
      "application/vnd.jupyter.widget-view+json": {
       "model_id": "87dd52f9e7a34380a41f11670fd77800",
       "version_major": 2,
       "version_minor": 0
      },
      "text/plain": [
       "  0%|          | 0/5 [00:00<?, ?it/s]"
      ]
     },
     "metadata": {},
     "output_type": "display_data"
    },
    {
     "name": "stdout",
     "output_type": "stream",
     "text": [
      "Test Error Rate:  86.89 % | Iteration No:  0\n",
      "Test Error Rate:  87.62 % | Iteration No:  1\n",
      "Test Error Rate:  86.07 % | Iteration No:  2\n",
      "Test Error Rate:  84.28 % | Iteration No:  3\n",
      "Test Error Rate:  90.39 % | Iteration No:  4\n"
     ]
    },
    {
     "data": {
      "application/vnd.jupyter.widget-view+json": {
       "model_id": "f24990bbf16e426f991fd916da7ba41e",
       "version_major": 2,
       "version_minor": 0
      },
      "text/plain": [
       "  0%|          | 0/5 [00:00<?, ?it/s]"
      ]
     },
     "metadata": {},
     "output_type": "display_data"
    },
    {
     "name": "stdout",
     "output_type": "stream",
     "text": [
      "Test Error Rate:  85.83 % | Iteration No:  0\n",
      "Test Error Rate:  84.45 % | Iteration No:  1\n",
      "Test Error Rate:  84.85 % | Iteration No:  2\n",
      "Test Error Rate:  85.26 % | Iteration No:  3\n",
      "Test Error Rate:  84.61 % | Iteration No:  4\n"
     ]
    },
    {
     "data": {
      "application/vnd.jupyter.widget-view+json": {
       "model_id": "b121c891b69e4eb19fe08a43030a7c41",
       "version_major": 2,
       "version_minor": 0
      },
      "text/plain": [
       "  0%|          | 0/5 [00:00<?, ?it/s]"
      ]
     },
     "metadata": {},
     "output_type": "display_data"
    },
    {
     "name": "stdout",
     "output_type": "stream",
     "text": [
      "Test Error Rate:  81.84 % | Iteration No:  0\n",
      "Test Error Rate:  85.18 % | Iteration No:  1\n",
      "Test Error Rate:  87.05 % | Iteration No:  2\n",
      "Test Error Rate:  85.67 % | Iteration No:  3\n",
      "Test Error Rate:  85.42 % | Iteration No:  4\n",
      "accuracy: 17.69815418023887 +/- 0.2687159320470049\n",
      "| \u001b[95m 7       \u001b[0m | \u001b[95m 17.7    \u001b[0m | \u001b[95m 2.052e-0\u001b[0m | \u001b[95m 0.008793\u001b[0m |\n"
     ]
    },
    {
     "data": {
      "application/vnd.jupyter.widget-view+json": {
       "model_id": "b1d52ce5a5754f25a10d0a844318aa8d",
       "version_major": 2,
       "version_minor": 0
      },
      "text/plain": [
       "  0%|          | 0/5 [00:00<?, ?it/s]"
      ]
     },
     "metadata": {},
     "output_type": "display_data"
    },
    {
     "name": "stdout",
     "output_type": "stream",
     "text": [
      "Test Error Rate:  92.59 % | Iteration No:  0\n",
      "Test Error Rate:  84.69 % | Iteration No:  1\n",
      "Test Error Rate:  85.91 % | Iteration No:  2\n",
      "Test Error Rate:  88.84 % | Iteration No:  3\n",
      "Test Error Rate:  86.73 % | Iteration No:  4\n"
     ]
    },
    {
     "data": {
      "application/vnd.jupyter.widget-view+json": {
       "model_id": "1161fc22b2d7468abfe244c9b0d31577",
       "version_major": 2,
       "version_minor": 0
      },
      "text/plain": [
       "  0%|          | 0/5 [00:00<?, ?it/s]"
      ]
     },
     "metadata": {},
     "output_type": "display_data"
    },
    {
     "name": "stdout",
     "output_type": "stream",
     "text": [
      "Test Error Rate:  89.58 % | Iteration No:  0\n",
      "Test Error Rate:  89.25 % | Iteration No:  1\n",
      "Test Error Rate:  87.87 % | Iteration No:  2\n",
      "Test Error Rate:  85.83 % | Iteration No:  3\n",
      "Test Error Rate:  86.48 % | Iteration No:  4\n"
     ]
    },
    {
     "data": {
      "application/vnd.jupyter.widget-view+json": {
       "model_id": "6d120787b73941b2a6d6b6e74dfdc987",
       "version_major": 2,
       "version_minor": 0
      },
      "text/plain": [
       "  0%|          | 0/5 [00:00<?, ?it/s]"
      ]
     },
     "metadata": {},
     "output_type": "display_data"
    },
    {
     "name": "stdout",
     "output_type": "stream",
     "text": [
      "Test Error Rate:  88.03 % | Iteration No:  0\n",
      "Test Error Rate:  87.21 % | Iteration No:  1\n",
      "Test Error Rate:  84.36 % | Iteration No:  2\n",
      "Test Error Rate:  87.87 % | Iteration No:  3\n",
      "Test Error Rate:  84.85 % | Iteration No:  4\n",
      "accuracy: 15.689467969598264 +/- 0.4222678932167213\n",
      "| \u001b[0m 8       \u001b[0m | \u001b[0m 15.69   \u001b[0m | \u001b[0m 2.836e-0\u001b[0m | \u001b[0m 0.006738\u001b[0m |\n"
     ]
    },
    {
     "data": {
      "application/vnd.jupyter.widget-view+json": {
       "model_id": "9007a33b083e448ab4b361b45da4011e",
       "version_major": 2,
       "version_minor": 0
      },
      "text/plain": [
       "  0%|          | 0/5 [00:00<?, ?it/s]"
      ]
     },
     "metadata": {},
     "output_type": "display_data"
    },
    {
     "name": "stdout",
     "output_type": "stream",
     "text": [
      "Test Error Rate:  89.33 % | Iteration No:  0\n",
      "Test Error Rate:  85.34 % | Iteration No:  1\n",
      "Test Error Rate:  83.88 % | Iteration No:  2\n",
      "Test Error Rate:  89.98 % | Iteration No:  3\n",
      "Test Error Rate:  85.1 % | Iteration No:  4\n"
     ]
    },
    {
     "data": {
      "application/vnd.jupyter.widget-view+json": {
       "model_id": "1c208fd6b2a044d7bd2259eb66edff6a",
       "version_major": 2,
       "version_minor": 0
      },
      "text/plain": [
       "  0%|          | 0/5 [00:00<?, ?it/s]"
      ]
     },
     "metadata": {},
     "output_type": "display_data"
    },
    {
     "name": "stdout",
     "output_type": "stream",
     "text": [
      "Test Error Rate:  86.97 % | Iteration No:  0\n",
      "Test Error Rate:  88.76 % | Iteration No:  1\n",
      "Test Error Rate:  86.16 % | Iteration No:  2\n",
      "Test Error Rate:  84.2 % | Iteration No:  3\n",
      "Test Error Rate:  83.71 % | Iteration No:  4\n"
     ]
    },
    {
     "data": {
      "application/vnd.jupyter.widget-view+json": {
       "model_id": "84283d1f9a084ffb8568a8ec9bf894c9",
       "version_major": 2,
       "version_minor": 0
      },
      "text/plain": [
       "  0%|          | 0/5 [00:00<?, ?it/s]"
      ]
     },
     "metadata": {},
     "output_type": "display_data"
    },
    {
     "name": "stdout",
     "output_type": "stream",
     "text": [
      "Test Error Rate:  82.25 % | Iteration No:  0\n",
      "Test Error Rate:  84.53 % | Iteration No:  1\n",
      "Test Error Rate:  84.04 % | Iteration No:  2\n",
      "Test Error Rate:  87.79 % | Iteration No:  3\n",
      "Test Error Rate:  84.93 % | Iteration No:  4\n",
      "accuracy: 17.56243213897937 +/- 0.767759805848587\n",
      "| \u001b[0m 9       \u001b[0m | \u001b[0m 17.56   \u001b[0m | \u001b[0m 4.179e-0\u001b[0m | \u001b[0m 0.005631\u001b[0m |\n"
     ]
    },
    {
     "data": {
      "application/vnd.jupyter.widget-view+json": {
       "model_id": "eab527941775432b9aff26cd8ebefefa",
       "version_major": 2,
       "version_minor": 0
      },
      "text/plain": [
       "  0%|          | 0/5 [00:00<?, ?it/s]"
      ]
     },
     "metadata": {},
     "output_type": "display_data"
    },
    {
     "name": "stdout",
     "output_type": "stream",
     "text": [
      "Test Error Rate:  88.27 % | Iteration No:  0\n",
      "Test Error Rate:  87.54 % | Iteration No:  1\n",
      "Test Error Rate:  89.17 % | Iteration No:  2\n",
      "Test Error Rate:  89.66 % | Iteration No:  3\n",
      "Test Error Rate:  88.27 % | Iteration No:  4\n"
     ]
    },
    {
     "data": {
      "application/vnd.jupyter.widget-view+json": {
       "model_id": "a24420b6cadf4d3c82be49727e34b51b",
       "version_major": 2,
       "version_minor": 0
      },
      "text/plain": [
       "  0%|          | 0/5 [00:00<?, ?it/s]"
      ]
     },
     "metadata": {},
     "output_type": "display_data"
    },
    {
     "name": "stdout",
     "output_type": "stream",
     "text": [
      "Test Error Rate:  88.52 % | Iteration No:  0\n",
      "Test Error Rate:  89.58 % | Iteration No:  1\n",
      "Test Error Rate:  92.67 % | Iteration No:  2\n",
      "Test Error Rate:  92.18 % | Iteration No:  3\n",
      "Test Error Rate:  88.68 % | Iteration No:  4\n"
     ]
    },
    {
     "data": {
      "application/vnd.jupyter.widget-view+json": {
       "model_id": "366e31e433714a41a92eee031330beb5",
       "version_major": 2,
       "version_minor": 0
      },
      "text/plain": [
       "  0%|          | 0/5 [00:00<?, ?it/s]"
      ]
     },
     "metadata": {},
     "output_type": "display_data"
    },
    {
     "name": "stdout",
     "output_type": "stream",
     "text": [
      "Test Error Rate:  87.95 % | Iteration No:  0\n",
      "Test Error Rate:  88.44 % | Iteration No:  1\n",
      "Test Error Rate:  87.54 % | Iteration No:  2\n",
      "Test Error Rate:  86.64 % | Iteration No:  3\n",
      "Test Error Rate:  93.65 % | Iteration No:  4\n",
      "accuracy: 12.622149837133549 +/- 0.37020037179657667\n",
      "| \u001b[0m 10      \u001b[0m | \u001b[0m 12.62   \u001b[0m | \u001b[0m 1.412e-0\u001b[0m | \u001b[0m 0.002061\u001b[0m |\n"
     ]
    },
    {
     "data": {
      "application/vnd.jupyter.widget-view+json": {
       "model_id": "c15e552fb70c4d2e99ddaab6c3a37100",
       "version_major": 2,
       "version_minor": 0
      },
      "text/plain": [
       "  0%|          | 0/5 [00:00<?, ?it/s]"
      ]
     },
     "metadata": {},
     "output_type": "display_data"
    },
    {
     "name": "stdout",
     "output_type": "stream",
     "text": [
      "Test Error Rate:  84.53 % | Iteration No:  0\n",
      "Test Error Rate:  91.86 % | Iteration No:  1\n",
      "Test Error Rate:  83.47 % | Iteration No:  2\n",
      "Test Error Rate:  85.5 % | Iteration No:  3\n",
      "Test Error Rate:  88.27 % | Iteration No:  4\n"
     ]
    },
    {
     "data": {
      "application/vnd.jupyter.widget-view+json": {
       "model_id": "3c9b3259b9394f0d8403350d47d63ede",
       "version_major": 2,
       "version_minor": 0
      },
      "text/plain": [
       "  0%|          | 0/5 [00:00<?, ?it/s]"
      ]
     },
     "metadata": {},
     "output_type": "display_data"
    },
    {
     "name": "stdout",
     "output_type": "stream",
     "text": [
      "Test Error Rate:  87.87 % | Iteration No:  0\n",
      "Test Error Rate:  82.98 % | Iteration No:  1\n",
      "Test Error Rate:  91.37 % | Iteration No:  2\n",
      "Test Error Rate:  89.25 % | Iteration No:  3\n",
      "Test Error Rate:  85.26 % | Iteration No:  4\n"
     ]
    },
    {
     "data": {
      "application/vnd.jupyter.widget-view+json": {
       "model_id": "cdbb6b0d34da4aba83e079e4f0e7e19a",
       "version_major": 2,
       "version_minor": 0
      },
      "text/plain": [
       "  0%|          | 0/5 [00:00<?, ?it/s]"
      ]
     },
     "metadata": {},
     "output_type": "display_data"
    },
    {
     "name": "stdout",
     "output_type": "stream",
     "text": [
      "Test Error Rate:  82.41 % | Iteration No:  0\n",
      "Test Error Rate:  88.44 % | Iteration No:  1\n",
      "Test Error Rate:  84.77 % | Iteration No:  2\n",
      "Test Error Rate:  90.96 % | Iteration No:  3\n",
      "Test Error Rate:  83.39 % | Iteration No:  4\n",
      "accuracy: 17.10097719869707 +/- 0.5193031072125134\n",
      "| \u001b[0m 11      \u001b[0m | \u001b[0m 17.1    \u001b[0m | \u001b[0m 1.002e-0\u001b[0m | \u001b[0m 0.009211\u001b[0m |\n"
     ]
    },
    {
     "data": {
      "application/vnd.jupyter.widget-view+json": {
       "model_id": "d90bbbd30de1422c80d666014ac8f550",
       "version_major": 2,
       "version_minor": 0
      },
      "text/plain": [
       "  0%|          | 0/5 [00:00<?, ?it/s]"
      ]
     },
     "metadata": {},
     "output_type": "display_data"
    },
    {
     "name": "stdout",
     "output_type": "stream",
     "text": [
      "Test Error Rate:  94.79 % | Iteration No:  0\n",
      "Test Error Rate:  85.75 % | Iteration No:  1\n",
      "Test Error Rate:  88.68 % | Iteration No:  2\n",
      "Test Error Rate:  84.45 % | Iteration No:  3\n",
      "Test Error Rate:  86.4 % | Iteration No:  4\n"
     ]
    },
    {
     "data": {
      "application/vnd.jupyter.widget-view+json": {
       "model_id": "7ae304210d3e4f42af7337120334adaa",
       "version_major": 2,
       "version_minor": 0
      },
      "text/plain": [
       "  0%|          | 0/5 [00:00<?, ?it/s]"
      ]
     },
     "metadata": {},
     "output_type": "display_data"
    },
    {
     "name": "stdout",
     "output_type": "stream",
     "text": [
      "Test Error Rate:  85.83 % | Iteration No:  0\n",
      "Test Error Rate:  91.53 % | Iteration No:  1\n",
      "Test Error Rate:  84.28 % | Iteration No:  2\n",
      "Test Error Rate:  85.02 % | Iteration No:  3\n",
      "Test Error Rate:  90.55 % | Iteration No:  4\n"
     ]
    },
    {
     "data": {
      "application/vnd.jupyter.widget-view+json": {
       "model_id": "dcbfcc0e10cf49ad9038dbef74e2f51b",
       "version_major": 2,
       "version_minor": 0
      },
      "text/plain": [
       "  0%|          | 0/5 [00:00<?, ?it/s]"
      ]
     },
     "metadata": {},
     "output_type": "display_data"
    },
    {
     "name": "stdout",
     "output_type": "stream",
     "text": [
      "Test Error Rate:  82.41 % | Iteration No:  0\n",
      "Test Error Rate:  88.19 % | Iteration No:  1\n",
      "Test Error Rate:  85.67 % | Iteration No:  2\n",
      "Test Error Rate:  86.48 % | Iteration No:  3\n",
      "Test Error Rate:  95.2 % | Iteration No:  4\n",
      "accuracy: 15.743756786102063 +/- 0.5164575893170572\n",
      "| \u001b[0m 12      \u001b[0m | \u001b[0m 15.74   \u001b[0m | \u001b[0m 1.569e-0\u001b[0m | \u001b[0m 0.00878 \u001b[0m |\n"
     ]
    },
    {
     "data": {
      "application/vnd.jupyter.widget-view+json": {
       "model_id": "5668f5da6c1540dca5adf3e65551a704",
       "version_major": 2,
       "version_minor": 0
      },
      "text/plain": [
       "  0%|          | 0/5 [00:00<?, ?it/s]"
      ]
     },
     "metadata": {},
     "output_type": "display_data"
    },
    {
     "name": "stdout",
     "output_type": "stream",
     "text": [
      "Test Error Rate:  83.63 % | Iteration No:  0\n",
      "Test Error Rate:  93.65 % | Iteration No:  1\n",
      "Test Error Rate:  88.44 % | Iteration No:  2\n",
      "Test Error Rate:  91.86 % | Iteration No:  3\n",
      "Test Error Rate:  91.94 % | Iteration No:  4\n"
     ]
    },
    {
     "data": {
      "application/vnd.jupyter.widget-view+json": {
       "model_id": "82b7bf3507274d3ca20377cdedce5eda",
       "version_major": 2,
       "version_minor": 0
      },
      "text/plain": [
       "  0%|          | 0/5 [00:00<?, ?it/s]"
      ]
     },
     "metadata": {},
     "output_type": "display_data"
    },
    {
     "name": "stdout",
     "output_type": "stream",
     "text": [
      "Test Error Rate:  82.08 % | Iteration No:  0\n",
      "Test Error Rate:  86.64 % | Iteration No:  1\n",
      "Test Error Rate:  91.78 % | Iteration No:  2\n",
      "Test Error Rate:  86.16 % | Iteration No:  3\n",
      "Test Error Rate:  90.23 % | Iteration No:  4\n"
     ]
    },
    {
     "data": {
      "application/vnd.jupyter.widget-view+json": {
       "model_id": "49aa0fd8cd1343d88d82616f862bb2db",
       "version_major": 2,
       "version_minor": 0
      },
      "text/plain": [
       "  0%|          | 0/5 [00:00<?, ?it/s]"
      ]
     },
     "metadata": {},
     "output_type": "display_data"
    },
    {
     "name": "stdout",
     "output_type": "stream",
     "text": [
      "Test Error Rate:  87.05 % | Iteration No:  0\n",
      "Test Error Rate:  89.82 % | Iteration No:  1\n",
      "Test Error Rate:  82.33 % | Iteration No:  2\n",
      "Test Error Rate:  88.44 % | Iteration No:  3\n",
      "Test Error Rate:  91.45 % | Iteration No:  4\n",
      "accuracy: 15.662323561346362 +/- 0.7109555295173058\n",
      "| \u001b[0m 13      \u001b[0m | \u001b[0m 15.66   \u001b[0m | \u001b[0m 4.27e-06\u001b[0m | \u001b[0m 0.008816\u001b[0m |\n"
     ]
    },
    {
     "data": {
      "application/vnd.jupyter.widget-view+json": {
       "model_id": "1fc452999cc14a2cb284ac66a7c56014",
       "version_major": 2,
       "version_minor": 0
      },
      "text/plain": [
       "  0%|          | 0/5 [00:00<?, ?it/s]"
      ]
     },
     "metadata": {},
     "output_type": "display_data"
    },
    {
     "name": "stdout",
     "output_type": "stream",
     "text": [
      "Test Error Rate:  84.77 % | Iteration No:  0\n",
      "Test Error Rate:  84.69 % | Iteration No:  1\n",
      "Test Error Rate:  84.45 % | Iteration No:  2\n",
      "Test Error Rate:  84.93 % | Iteration No:  3\n",
      "Test Error Rate:  89.25 % | Iteration No:  4\n"
     ]
    },
    {
     "data": {
      "application/vnd.jupyter.widget-view+json": {
       "model_id": "77fd7b5db2e446fca3e7cdf149ed2ec2",
       "version_major": 2,
       "version_minor": 0
      },
      "text/plain": [
       "  0%|          | 0/5 [00:00<?, ?it/s]"
      ]
     },
     "metadata": {},
     "output_type": "display_data"
    },
    {
     "name": "stdout",
     "output_type": "stream",
     "text": [
      "Test Error Rate:  83.88 % | Iteration No:  0\n",
      "Test Error Rate:  86.24 % | Iteration No:  1\n",
      "Test Error Rate:  84.04 % | Iteration No:  2\n",
      "Test Error Rate:  85.02 % | Iteration No:  3\n",
      "Test Error Rate:  87.05 % | Iteration No:  4\n"
     ]
    },
    {
     "data": {
      "application/vnd.jupyter.widget-view+json": {
       "model_id": "9d2ce3e9d7f64632994c222361f4f1a4",
       "version_major": 2,
       "version_minor": 0
      },
      "text/plain": [
       "  0%|          | 0/5 [00:00<?, ?it/s]"
      ]
     },
     "metadata": {},
     "output_type": "display_data"
    },
    {
     "name": "stdout",
     "output_type": "stream",
     "text": [
      "Test Error Rate:  84.77 % | Iteration No:  0\n",
      "Test Error Rate:  83.79 % | Iteration No:  1\n",
      "Test Error Rate:  82.57 % | Iteration No:  2\n",
      "Test Error Rate:  90.72 % | Iteration No:  3\n",
      "Test Error Rate:  84.36 % | Iteration No:  4\n",
      "accuracy: 17.019543973941367 +/- 1.1303291429781226\n",
      "| \u001b[0m 14      \u001b[0m | \u001b[0m 17.02   \u001b[0m | \u001b[0m 4.037e-0\u001b[0m | \u001b[0m 0.005654\u001b[0m |\n"
     ]
    },
    {
     "data": {
      "application/vnd.jupyter.widget-view+json": {
       "model_id": "ab6a8ed275d240558d523915196b0155",
       "version_major": 2,
       "version_minor": 0
      },
      "text/plain": [
       "  0%|          | 0/5 [00:00<?, ?it/s]"
      ]
     },
     "metadata": {},
     "output_type": "display_data"
    },
    {
     "name": "stdout",
     "output_type": "stream",
     "text": [
      "Test Error Rate:  91.61 % | Iteration No:  0\n",
      "Test Error Rate:  86.56 % | Iteration No:  1\n",
      "Test Error Rate:  86.07 % | Iteration No:  2\n",
      "Test Error Rate:  90.64 % | Iteration No:  3\n",
      "Test Error Rate:  84.69 % | Iteration No:  4\n"
     ]
    },
    {
     "data": {
      "application/vnd.jupyter.widget-view+json": {
       "model_id": "9e27067ebd864799b10dfc63dd333ff8",
       "version_major": 2,
       "version_minor": 0
      },
      "text/plain": [
       "  0%|          | 0/5 [00:00<?, ?it/s]"
      ]
     },
     "metadata": {},
     "output_type": "display_data"
    },
    {
     "name": "stdout",
     "output_type": "stream",
     "text": [
      "Test Error Rate:  83.71 % | Iteration No:  0\n",
      "Test Error Rate:  84.77 % | Iteration No:  1\n",
      "Test Error Rate:  88.68 % | Iteration No:  2\n",
      "Test Error Rate:  85.67 % | Iteration No:  3\n",
      "Test Error Rate:  88.52 % | Iteration No:  4\n"
     ]
    },
    {
     "data": {
      "application/vnd.jupyter.widget-view+json": {
       "model_id": "e6d162af68d04625b62a04ca299531e5",
       "version_major": 2,
       "version_minor": 0
      },
      "text/plain": [
       "  0%|          | 0/5 [00:00<?, ?it/s]"
      ]
     },
     "metadata": {},
     "output_type": "display_data"
    },
    {
     "name": "stdout",
     "output_type": "stream",
     "text": [
      "Test Error Rate:  85.75 % | Iteration No:  0\n",
      "Test Error Rate:  83.22 % | Iteration No:  1\n",
      "Test Error Rate:  82.17 % | Iteration No:  2\n",
      "Test Error Rate:  87.54 % | Iteration No:  3\n",
      "Test Error Rate:  85.91 % | Iteration No:  4\n",
      "accuracy: 16.992399565689468 +/- 1.0748637281880198\n",
      "| \u001b[0m 15      \u001b[0m | \u001b[0m 16.99   \u001b[0m | \u001b[0m 7.988e-0\u001b[0m | \u001b[0m 0.006856\u001b[0m |\n"
     ]
    },
    {
     "data": {
      "application/vnd.jupyter.widget-view+json": {
       "model_id": "4d7152e6cf414089acc6d91c853e2dc1",
       "version_major": 2,
       "version_minor": 0
      },
      "text/plain": [
       "  0%|          | 0/5 [00:00<?, ?it/s]"
      ]
     },
     "metadata": {},
     "output_type": "display_data"
    },
    {
     "name": "stdout",
     "output_type": "stream",
     "text": [
      "Test Error Rate:  83.88 % | Iteration No:  0\n",
      "Test Error Rate:  83.96 % | Iteration No:  1\n",
      "Test Error Rate:  85.26 % | Iteration No:  2\n",
      "Test Error Rate:  87.7 % | Iteration No:  3\n",
      "Test Error Rate:  85.59 % | Iteration No:  4\n"
     ]
    },
    {
     "data": {
      "application/vnd.jupyter.widget-view+json": {
       "model_id": "cc3edb7307c14d4dad3298889a0ffcef",
       "version_major": 2,
       "version_minor": 0
      },
      "text/plain": [
       "  0%|          | 0/5 [00:00<?, ?it/s]"
      ]
     },
     "metadata": {},
     "output_type": "display_data"
    },
    {
     "name": "stdout",
     "output_type": "stream",
     "text": [
      "Test Error Rate:  85.42 % | Iteration No:  0\n",
      "Test Error Rate:  84.61 % | Iteration No:  1\n",
      "Test Error Rate:  86.24 % | Iteration No:  2\n",
      "Test Error Rate:  87.95 % | Iteration No:  3\n",
      "Test Error Rate:  85.1 % | Iteration No:  4\n"
     ]
    },
    {
     "data": {
      "application/vnd.jupyter.widget-view+json": {
       "model_id": "870a6d48659145e4ac78c060389b5e95",
       "version_major": 2,
       "version_minor": 0
      },
      "text/plain": [
       "  0%|          | 0/5 [00:00<?, ?it/s]"
      ]
     },
     "metadata": {},
     "output_type": "display_data"
    },
    {
     "name": "stdout",
     "output_type": "stream",
     "text": [
      "Test Error Rate:  86.07 % | Iteration No:  0\n",
      "Test Error Rate:  85.18 % | Iteration No:  1\n",
      "Test Error Rate:  87.46 % | Iteration No:  2\n",
      "Test Error Rate:  85.5 % | Iteration No:  3\n",
      "Test Error Rate:  88.76 % | Iteration No:  4\n",
      "accuracy: 17.345276872964167 +/- 1.0449715827861117\n",
      "| \u001b[0m 16      \u001b[0m | \u001b[0m 17.35   \u001b[0m | \u001b[0m 9.018e-0\u001b[0m | \u001b[0m 0.006915\u001b[0m |\n"
     ]
    },
    {
     "data": {
      "application/vnd.jupyter.widget-view+json": {
       "model_id": "5b1b6971e5974ebcaecae34a238feb39",
       "version_major": 2,
       "version_minor": 0
      },
      "text/plain": [
       "  0%|          | 0/5 [00:00<?, ?it/s]"
      ]
     },
     "metadata": {},
     "output_type": "display_data"
    },
    {
     "name": "stdout",
     "output_type": "stream",
     "text": [
      "Test Error Rate:  90.23 % | Iteration No:  0\n",
      "Test Error Rate:  88.03 % | Iteration No:  1\n",
      "Test Error Rate:  87.79 % | Iteration No:  2\n",
      "Test Error Rate:  84.45 % | Iteration No:  3\n",
      "Test Error Rate:  86.16 % | Iteration No:  4\n"
     ]
    },
    {
     "data": {
      "application/vnd.jupyter.widget-view+json": {
       "model_id": "9a6d5fd941574119bfcf7d020ff49a20",
       "version_major": 2,
       "version_minor": 0
      },
      "text/plain": [
       "  0%|          | 0/5 [00:00<?, ?it/s]"
      ]
     },
     "metadata": {},
     "output_type": "display_data"
    },
    {
     "name": "stdout",
     "output_type": "stream",
     "text": [
      "Test Error Rate:  89.5 % | Iteration No:  0\n",
      "Test Error Rate:  83.79 % | Iteration No:  1\n",
      "Test Error Rate:  86.4 % | Iteration No:  2\n",
      "Test Error Rate:  90.64 % | Iteration No:  3\n",
      "Test Error Rate:  84.04 % | Iteration No:  4\n"
     ]
    },
    {
     "data": {
      "application/vnd.jupyter.widget-view+json": {
       "model_id": "c0bd274506894f5fb6e52f1fc7644c98",
       "version_major": 2,
       "version_minor": 0
      },
      "text/plain": [
       "  0%|          | 0/5 [00:00<?, ?it/s]"
      ]
     },
     "metadata": {},
     "output_type": "display_data"
    },
    {
     "name": "stdout",
     "output_type": "stream",
     "text": [
      "Test Error Rate:  83.22 % | Iteration No:  0\n",
      "Test Error Rate:  84.77 % | Iteration No:  1\n",
      "Test Error Rate:  83.47 % | Iteration No:  2\n",
      "Test Error Rate:  82.57 % | Iteration No:  3\n",
      "Test Error Rate:  83.63 % | Iteration No:  4\n",
      "accuracy: 17.12812160694897 +/- 0.8978195118643448\n",
      "| \u001b[0m 17      \u001b[0m | \u001b[0m 17.13   \u001b[0m | \u001b[0m 5.801e-0\u001b[0m | \u001b[0m 0.005597\u001b[0m |\n"
     ]
    },
    {
     "data": {
      "application/vnd.jupyter.widget-view+json": {
       "model_id": "91fff96d0ae04c0b800300e016c9297a",
       "version_major": 2,
       "version_minor": 0
      },
      "text/plain": [
       "  0%|          | 0/5 [00:00<?, ?it/s]"
      ]
     },
     "metadata": {},
     "output_type": "display_data"
    },
    {
     "name": "stdout",
     "output_type": "stream",
     "text": [
      "Test Error Rate:  90.55 % | Iteration No:  0\n",
      "Test Error Rate:  85.42 % | Iteration No:  1\n",
      "Test Error Rate:  87.54 % | Iteration No:  2\n",
      "Test Error Rate:  91.29 % | Iteration No:  3\n",
      "Test Error Rate:  85.02 % | Iteration No:  4\n"
     ]
    },
    {
     "data": {
      "application/vnd.jupyter.widget-view+json": {
       "model_id": "58d553f577564b4293c5ea32b6c24867",
       "version_major": 2,
       "version_minor": 0
      },
      "text/plain": [
       "  0%|          | 0/5 [00:00<?, ?it/s]"
      ]
     },
     "metadata": {},
     "output_type": "display_data"
    },
    {
     "name": "stdout",
     "output_type": "stream",
     "text": [
      "Test Error Rate:  82.82 % | Iteration No:  0\n",
      "Test Error Rate:  84.28 % | Iteration No:  1\n",
      "Test Error Rate:  84.2 % | Iteration No:  2\n",
      "Test Error Rate:  84.85 % | Iteration No:  3\n",
      "Test Error Rate:  87.54 % | Iteration No:  4\n"
     ]
    },
    {
     "data": {
      "application/vnd.jupyter.widget-view+json": {
       "model_id": "ef350fcbf13e4cb5aa39ea84dc990667",
       "version_major": 2,
       "version_minor": 0
      },
      "text/plain": [
       "  0%|          | 0/5 [00:00<?, ?it/s]"
      ]
     },
     "metadata": {},
     "output_type": "display_data"
    },
    {
     "name": "stdout",
     "output_type": "stream",
     "text": [
      "Test Error Rate:  84.36 % | Iteration No:  0\n",
      "Test Error Rate:  87.79 % | Iteration No:  1\n",
      "Test Error Rate:  84.12 % | Iteration No:  2\n",
      "Test Error Rate:  93.24 % | Iteration No:  3\n",
      "Test Error Rate:  83.55 % | Iteration No:  4\n",
      "accuracy: 16.992399565689468 +/- 0.8043177193283958\n",
      "| \u001b[0m 18      \u001b[0m | \u001b[0m 16.99   \u001b[0m | \u001b[0m 9.174e-0\u001b[0m | \u001b[0m 0.009173\u001b[0m |\n"
     ]
    },
    {
     "data": {
      "application/vnd.jupyter.widget-view+json": {
       "model_id": "47c10a3118644ae3b0a36921d1bbdf5e",
       "version_major": 2,
       "version_minor": 0
      },
      "text/plain": [
       "  0%|          | 0/5 [00:00<?, ?it/s]"
      ]
     },
     "metadata": {},
     "output_type": "display_data"
    },
    {
     "name": "stdout",
     "output_type": "stream",
     "text": [
      "Test Error Rate:  88.27 % | Iteration No:  0\n",
      "Test Error Rate:  86.64 % | Iteration No:  1\n",
      "Test Error Rate:  85.42 % | Iteration No:  2\n",
      "Test Error Rate:  81.51 % | Iteration No:  3\n",
      "Test Error Rate:  84.04 % | Iteration No:  4\n"
     ]
    },
    {
     "data": {
      "application/vnd.jupyter.widget-view+json": {
       "model_id": "4f3e3b9bb4fc4791a5fd459983434d99",
       "version_major": 2,
       "version_minor": 0
      },
      "text/plain": [
       "  0%|          | 0/5 [00:00<?, ?it/s]"
      ]
     },
     "metadata": {},
     "output_type": "display_data"
    },
    {
     "name": "stdout",
     "output_type": "stream",
     "text": [
      "Test Error Rate:  85.1 % | Iteration No:  0\n",
      "Test Error Rate:  93.73 % | Iteration No:  1\n",
      "Test Error Rate:  86.48 % | Iteration No:  2\n",
      "Test Error Rate:  88.6 % | Iteration No:  3\n",
      "Test Error Rate:  84.85 % | Iteration No:  4\n"
     ]
    },
    {
     "data": {
      "application/vnd.jupyter.widget-view+json": {
       "model_id": "74899b1f1efb4e04aaab24dd990f89df",
       "version_major": 2,
       "version_minor": 0
      },
      "text/plain": [
       "  0%|          | 0/5 [00:00<?, ?it/s]"
      ]
     },
     "metadata": {},
     "output_type": "display_data"
    },
    {
     "name": "stdout",
     "output_type": "stream",
     "text": [
      "Test Error Rate:  87.54 % | Iteration No:  0\n",
      "Test Error Rate:  84.77 % | Iteration No:  1\n",
      "Test Error Rate:  85.26 % | Iteration No:  2\n",
      "Test Error Rate:  86.81 % | Iteration No:  3\n",
      "Test Error Rate:  84.77 % | Iteration No:  4\n",
      "accuracy: 16.639522258414765 +/- 0.7648752879264596\n",
      "| \u001b[0m 19      \u001b[0m | \u001b[0m 16.64   \u001b[0m | \u001b[0m 6.456e-0\u001b[0m | \u001b[0m 0.006955\u001b[0m |\n"
     ]
    },
    {
     "data": {
      "application/vnd.jupyter.widget-view+json": {
       "model_id": "401f8b200c9f475dbafe33103f1c6a96",
       "version_major": 2,
       "version_minor": 0
      },
      "text/plain": [
       "  0%|          | 0/5 [00:00<?, ?it/s]"
      ]
     },
     "metadata": {},
     "output_type": "display_data"
    },
    {
     "name": "stdout",
     "output_type": "stream",
     "text": [
      "Test Error Rate:  85.1 % | Iteration No:  0\n",
      "Test Error Rate:  89.17 % | Iteration No:  1\n",
      "Test Error Rate:  86.89 % | Iteration No:  2\n",
      "Test Error Rate:  90.8 % | Iteration No:  3\n",
      "Test Error Rate:  89.66 % | Iteration No:  4\n"
     ]
    },
    {
     "data": {
      "application/vnd.jupyter.widget-view+json": {
       "model_id": "614e6d5823834d4dab1152d692c94df6",
       "version_major": 2,
       "version_minor": 0
      },
      "text/plain": [
       "  0%|          | 0/5 [00:00<?, ?it/s]"
      ]
     },
     "metadata": {},
     "output_type": "display_data"
    },
    {
     "name": "stdout",
     "output_type": "stream",
     "text": [
      "Test Error Rate:  89.41 % | Iteration No:  0\n",
      "Test Error Rate:  90.88 % | Iteration No:  1\n",
      "Test Error Rate:  87.7 % | Iteration No:  2\n",
      "Test Error Rate:  84.28 % | Iteration No:  3\n",
      "Test Error Rate:  85.5 % | Iteration No:  4\n"
     ]
    },
    {
     "data": {
      "application/vnd.jupyter.widget-view+json": {
       "model_id": "f767bf8ac2774f9c8aa2e7693de9ce65",
       "version_major": 2,
       "version_minor": 0
      },
      "text/plain": [
       "  0%|          | 0/5 [00:00<?, ?it/s]"
      ]
     },
     "metadata": {},
     "output_type": "display_data"
    },
    {
     "name": "stdout",
     "output_type": "stream",
     "text": [
      "Test Error Rate:  85.42 % | Iteration No:  0\n",
      "Test Error Rate:  85.75 % | Iteration No:  1\n",
      "Test Error Rate:  85.1 % | Iteration No:  2\n",
      "Test Error Rate:  89.9 % | Iteration No:  3\n",
      "Test Error Rate:  84.85 % | Iteration No:  4\n",
      "accuracy: 15.770901194353963 +/- 0.4901050511744767\n",
      "| \u001b[0m 20      \u001b[0m | \u001b[0m 15.77   \u001b[0m | \u001b[0m 8.974e-0\u001b[0m | \u001b[0m 0.009251\u001b[0m |\n",
      "=================================================\n",
      "Iteration 0: \n",
      "\t{'target': 15.933767643865366, 'params': {'ep': 4.176049826978715e-06, 'lr': 0.007231212485077366}}\n",
      "Iteration 1: \n",
      "\t{'target': 13.816503800217156, 'params': {'ep': 1.1142604425275417e-08, 'lr': 0.003093092469055214}}\n",
      "Iteration 2: \n",
      "\t{'target': 8.387622149837133, 'params': {'ep': 1.4760913492629593e-06, 'lr': 0.0010141520882110983}}\n",
      "Iteration 3: \n",
      "\t{'target': 14.60369163952226, 'params': {'ep': 1.8707395116629325e-06, 'lr': 0.003521051197726173}}\n",
      "Iteration 4: \n",
      "\t{'target': 16.313789359391965, 'params': {'ep': 3.9737070675643925e-06, 'lr': 0.005434285666633234}}\n",
      "Iteration 5: \n",
      "\t{'target': 17.56243213897937, 'params': {'ep': 4.197753198888915e-06, 'lr': 0.00688367305392792}}\n",
      "Iteration 6: \n",
      "\t{'target': 17.69815418023887, 'params': {'ep': 2.052477974817859e-06, 'lr': 0.00879336262027036}}\n",
      "Iteration 7: \n",
      "\t{'target': 15.689467969598264, 'params': {'ep': 2.836020560472824e-07, 'lr': 0.0067376283507661824}}\n",
      "Iteration 8: \n",
      "\t{'target': 17.56243213897937, 'params': {'ep': 4.1788749756475985e-06, 'lr': 0.005631029301612942}}\n",
      "Iteration 9: \n",
      "\t{'target': 12.622149837133549, 'params': {'ep': 1.4124655165663854e-06, 'lr': 0.0020612047419403}}\n",
      "Iteration 10: \n",
      "\t{'target': 17.10097719869707, 'params': {'ep': 1.0022950433993344e-08, 'lr': 0.009210632418568471}}\n",
      "Iteration 11: \n",
      "\t{'target': 15.743756786102063, 'params': {'ep': 1.5685140332556946e-07, 'lr': 0.008779898883282235}}\n",
      "Iteration 12: \n",
      "\t{'target': 15.662323561346362, 'params': {'ep': 4.2697754104433656e-06, 'lr': 0.008816496241095534}}\n",
      "Iteration 13: \n",
      "\t{'target': 17.019543973941367, 'params': {'ep': 4.037070713438093e-06, 'lr': 0.005653942404261398}}\n",
      "Iteration 14: \n",
      "\t{'target': 16.992399565689468, 'params': {'ep': 7.988090350728255e-07, 'lr': 0.00685596821418857}}\n",
      "Iteration 15: \n",
      "\t{'target': 17.345276872964167, 'params': {'ep': 9.017586091088351e-06, 'lr': 0.006914637321043524}}\n",
      "Iteration 16: \n",
      "\t{'target': 17.12812160694897, 'params': {'ep': 5.800719057048136e-06, 'lr': 0.0055974098245501255}}\n",
      "Iteration 17: \n",
      "\t{'target': 16.992399565689468, 'params': {'ep': 9.173602066346688e-06, 'lr': 0.009173078173572737}}\n",
      "Iteration 18: \n",
      "\t{'target': 16.639522258414765, 'params': {'ep': 6.456013742361889e-06, 'lr': 0.006955425173412243}}\n",
      "Iteration 19: \n",
      "\t{'target': 15.770901194353963, 'params': {'ep': 8.973745281371958e-06, 'lr': 0.009250682784985408}}\n",
      "{'target': 17.69815418023887, 'params': {'ep': 2.052477974817859e-06, 'lr': 0.00879336262027036}}\n"
     ]
    },
    {
     "data": {
      "application/vnd.jupyter.widget-view+json": {
       "model_id": "a91ff1c8aa89433baa51177765cd7743",
       "version_major": 2,
       "version_minor": 0
      },
      "text/plain": [
       "  0%|          | 0/5 [00:00<?, ?it/s]"
      ]
     },
     "metadata": {},
     "output_type": "display_data"
    },
    {
     "name": "stdout",
     "output_type": "stream",
     "text": [
      "Test Error Rate:  83.41 % | Iteration No:  0\n",
      "Test Error Rate:  82.44 % | Iteration No:  1\n",
      "Test Error Rate:  81.95 % | Iteration No:  2\n",
      "Test Error Rate:  86.1 % | Iteration No:  3\n",
      "Test Error Rate:  82.2 % | Iteration No:  4\n"
     ]
    },
    {
     "name": "stderr",
     "output_type": "stream",
     "text": [
      "C:\\Users\\User\\.conda\\envs\\ML_proj\\lib\\site-packages\\sklearn\\metrics\\_classification.py:1248: UndefinedMetricWarning: Precision is ill-defined and being set to 0.0 in labels with no predicted samples. Use `zero_division` parameter to control this behavior.\n",
      "  _warn_prf(average, modifier, msg_start, len(result))\n"
     ]
    },
    {
     "name": "stdout",
     "output_type": "stream",
     "text": [
      "accuracy: 21.70731707317073\n",
      "flowers102-paper_algo.csv\n",
      "TRAIN: [   0    1    2 ... 4090 4092 4093] TEST: [  27   30   37   41   50   58   76   86   87  108  126  134  140  150\n",
      "  157  164  168  188  194  197  208  210  211  216  222  228  244  246\n",
      "  263  265  266  269  293  302  312  317  321  330  334  346  388  398\n",
      "  403  424  437  439  456  469  481  490  493  533  562  577  588  593\n",
      "  597  611  623  628  671  675  692  693  697  711  731  758  760  808\n",
      "  811  824  828  838  841  852  870  879  883  933  940  958  977  982\n",
      "  990 1001 1014 1026 1027 1052 1053 1073 1081 1088 1095 1098 1105 1117\n",
      " 1126 1127 1142 1157 1167 1176 1195 1197 1200 1206 1207 1212 1224 1231\n",
      " 1233 1243 1263 1264 1277 1292 1293 1297 1303 1314 1333 1341 1349 1361\n",
      " 1370 1374 1376 1386 1403 1409 1412 1416 1432 1462 1477 1483 1492 1493\n",
      " 1503 1512 1515 1532 1533 1544 1555 1562 1623 1630 1638 1646 1648 1650\n",
      " 1652 1654 1659 1672 1679 1680 1690 1732 1747 1757 1774 1777 1790 1791\n",
      " 1799 1818 1826 1828 1847 1882 1885 1902 1909 1920 1931 1941 1943 1947\n",
      " 1966 2000 2012 2030 2038 2043 2045 2051 2053 2078 2094 2106 2116 2132\n",
      " 2147 2172 2174 2181 2188 2208 2212 2216 2226 2244 2245 2246 2249 2258\n",
      " 2261 2264 2269 2276 2280 2281 2305 2314 2316 2326 2354 2381 2387 2401\n",
      " 2411 2419 2423 2430 2435 2445 2450 2458 2470 2472 2502 2519 2523 2525\n",
      " 2527 2535 2541 2546 2547 2553 2556 2557 2570 2587 2601 2603 2611 2624\n",
      " 2626 2633 2651 2659 2664 2679 2681 2687 2705 2719 2720 2727 2730 2756\n",
      " 2792 2803 2811 2820 2822 2828 2843 2854 2894 2901 2964 2981 2983 2995\n",
      " 3031 3032 3034 3057 3058 3061 3093 3101 3111 3120 3128 3135 3143 3152\n",
      " 3153 3154 3158 3170 3172 3174 3175 3183 3184 3190 3191 3193 3201 3202\n",
      " 3208 3209 3217 3218 3231 3237 3239 3240 3241 3248 3256 3268 3279 3288\n",
      " 3290 3300 3305 3311 3318 3341 3354 3367 3368 3373 3395 3399 3400 3403\n",
      " 3411 3423 3436 3444 3462 3468 3472 3534 3539 3541 3558 3559 3560 3568\n",
      " 3581 3583 3630 3637 3639 3645 3647 3654 3659 3665 3681 3687 3695 3700\n",
      " 3703 3719 3724 3726 3731 3743 3746 3748 3750 3765 3767 3787 3795 3798\n",
      " 3821 3822 3824 3828 3830 3835 3836 3840 3847 3853 3874 3884 3885 3895\n",
      " 3912 3922 3930 3932 3957 3965 3970 3976 4025 4029 4042 4045 4047 4060\n",
      " 4071 4079 4080 4091]\n"
     ]
    },
    {
     "data": {
      "application/vnd.jupyter.widget-view+json": {
       "model_id": "66732151b4704e9e9f67961542f28209",
       "version_major": 2,
       "version_minor": 0
      },
      "text/plain": [
       "  0%|          | 0/5 [00:00<?, ?it/s]"
      ]
     },
     "metadata": {},
     "output_type": "display_data"
    },
    {
     "name": "stdout",
     "output_type": "stream",
     "text": [
      "Test Error Rate:  85.37 % | Iteration No:  0\n",
      "Test Error Rate:  81.71 % | Iteration No:  1\n",
      "Test Error Rate:  82.44 % | Iteration No:  2\n",
      "Test Error Rate:  85.12 % | Iteration No:  3\n",
      "Test Error Rate:  83.17 % | Iteration No:  4\n"
     ]
    },
    {
     "name": "stderr",
     "output_type": "stream",
     "text": [
      "C:\\Users\\User\\.conda\\envs\\ML_proj\\lib\\site-packages\\sklearn\\metrics\\_classification.py:1248: UndefinedMetricWarning: Precision is ill-defined and being set to 0.0 in labels with no predicted samples. Use `zero_division` parameter to control this behavior.\n",
      "  _warn_prf(average, modifier, msg_start, len(result))\n"
     ]
    },
    {
     "name": "stdout",
     "output_type": "stream",
     "text": [
      "accuracy: 18.29268292682927\n",
      "flowers102-paper_algo.csv\n",
      "TRAIN: [   0    1    2 ... 4091 4092 4093] TEST: [   3    5   25   57   65   91  116  120  123  124  148  156  166  170\n",
      "  179  199  206  209  229  231  235  252  264  288  296  301  308  332\n",
      "  339  347  350  356  361  373  387  389  399  409  414  436  471  472\n",
      "  505  511  517  521  536  540  544  546  550  551  567  581  584  604\n",
      "  617  620  630  636  640  649  661  664  670  691  695  709  710  748\n",
      "  840  845  856  857  867  869  891  892  893  894  912  914  916  934\n",
      "  942  966  971  997 1009 1011 1035 1036 1037 1042 1046 1047 1048 1059\n",
      " 1060 1065 1083 1090 1091 1109 1131 1153 1161 1169 1170 1171 1174 1177\n",
      " 1188 1204 1209 1213 1227 1235 1240 1244 1258 1259 1275 1282 1290 1317\n",
      " 1326 1327 1328 1343 1348 1351 1352 1358 1368 1369 1380 1394 1398 1404\n",
      " 1420 1455 1456 1464 1465 1489 1496 1500 1501 1510 1516 1522 1536 1548\n",
      " 1561 1574 1598 1602 1621 1622 1691 1707 1710 1721 1723 1734 1740 1752\n",
      " 1754 1755 1767 1769 1780 1783 1787 1798 1800 1806 1842 1852 1866 1872\n",
      " 1875 1876 1893 1901 1904 1911 1917 1921 1938 1944 1945 1967 1970 1975\n",
      " 1996 2008 2016 2055 2064 2065 2072 2086 2099 2102 2103 2119 2145 2149\n",
      " 2150 2151 2155 2159 2169 2191 2201 2205 2230 2235 2241 2242 2247 2252\n",
      " 2256 2277 2284 2296 2310 2331 2341 2348 2349 2367 2379 2384 2398 2399\n",
      " 2405 2408 2409 2422 2424 2433 2455 2457 2464 2476 2487 2488 2497 2510\n",
      " 2526 2538 2543 2544 2548 2565 2574 2584 2617 2618 2622 2625 2643 2644\n",
      " 2667 2673 2731 2738 2752 2753 2755 2757 2771 2784 2785 2788 2798 2799\n",
      " 2807 2816 2829 2830 2849 2874 2881 2888 2889 2909 2918 2922 2929 2938\n",
      " 2943 2958 2962 2975 2984 2997 3042 3047 3051 3054 3077 3079 3082 3088\n",
      " 3104 3113 3123 3129 3136 3139 3142 3145 3160 3163 3176 3188 3192 3196\n",
      " 3199 3235 3251 3257 3258 3265 3273 3292 3293 3301 3308 3309 3323 3324\n",
      " 3332 3356 3357 3381 3392 3401 3404 3424 3429 3434 3440 3449 3465 3475\n",
      " 3478 3480 3481 3482 3501 3507 3521 3522 3538 3565 3570 3571 3578 3612\n",
      " 3622 3623 3641 3644 3663 3666 3671 3684 3686 3706 3711 3720 3725 3739\n",
      " 3764 3766 3784 3790 3804 3806 3811 3823 3825 3845 3856 3868 3871 3880\n",
      " 3889 3893 3901 3916 3933 3939 3949 3956 3972 3986 3999 4014 4015 4028\n",
      " 4030 4035 4056 4088]\n"
     ]
    },
    {
     "data": {
      "application/vnd.jupyter.widget-view+json": {
       "model_id": "e796a1453cb3424ca2a4f8f39d4b8431",
       "version_major": 2,
       "version_minor": 0
      },
      "text/plain": [
       "  0%|          | 0/5 [00:00<?, ?it/s]"
      ]
     },
     "metadata": {},
     "output_type": "display_data"
    },
    {
     "name": "stdout",
     "output_type": "stream",
     "text": [
      "Test Error Rate:  78.29 % | Iteration No:  0\n",
      "Test Error Rate:  78.05 % | Iteration No:  1\n",
      "Test Error Rate:  79.02 % | Iteration No:  2\n",
      "Test Error Rate:  77.32 % | Iteration No:  3\n",
      "Test Error Rate:  82.44 % | Iteration No:  4\n"
     ]
    },
    {
     "name": "stderr",
     "output_type": "stream",
     "text": [
      "C:\\Users\\User\\.conda\\envs\\ML_proj\\lib\\site-packages\\sklearn\\metrics\\_classification.py:1248: UndefinedMetricWarning: Precision is ill-defined and being set to 0.0 in labels with no predicted samples. Use `zero_division` parameter to control this behavior.\n",
      "  _warn_prf(average, modifier, msg_start, len(result))\n"
     ]
    },
    {
     "name": "stdout",
     "output_type": "stream",
     "text": [
      "accuracy: 23.902439024390244\n",
      "flowers102-paper_algo.csv\n",
      "TRAIN: [   0    1    2 ... 4091 4092 4093] TEST: [  16   18   23   28   61   62   73   81   82   83  103  106  131  169\n",
      "  181  186  195  212  224  227  245  256  270  289  290  297  303  319\n",
      "  335  340  341  355  359  362  374  378  391  393  400  410  412  416\n",
      "  425  440  443  446  459  463  482  498  500  504  510  515  554  558\n",
      "  566  573  586  590  592  600  605  613  615  627  631  637  646  652\n",
      "  656  669  688  703  706  724  729  730  743  750  751  755  763  765\n",
      "  802  814  822  823  837  850  859  866  884  885  890  895  898  899\n",
      "  902  910  928  932  961  963  972  979  980  991 1000 1007 1028 1050\n",
      " 1055 1072 1074 1075 1079 1082 1092 1107 1115 1120 1155 1156 1175 1192\n",
      " 1193 1208 1211 1251 1253 1255 1271 1283 1300 1301 1325 1331 1338 1360\n",
      " 1364 1367 1373 1387 1389 1406 1410 1423 1424 1435 1476 1482 1495 1529\n",
      " 1546 1571 1577 1585 1586 1604 1605 1617 1624 1625 1637 1639 1655 1686\n",
      " 1687 1698 1703 1727 1770 1807 1816 1817 1824 1830 1831 1834 1860 1868\n",
      " 1903 1912 1914 1934 1942 1954 1955 1969 1986 1989 1992 1998 1999 2009\n",
      " 2019 2029 2032 2036 2040 2047 2049 2052 2054 2075 2076 2082 2087 2096\n",
      " 2105 2107 2118 2120 2123 2133 2135 2157 2171 2186 2190 2214 2223 2225\n",
      " 2238 2251 2257 2263 2267 2285 2286 2287 2295 2311 2312 2317 2325 2340\n",
      " 2364 2370 2372 2374 2380 2426 2438 2443 2453 2462 2463 2468 2473 2477\n",
      " 2491 2500 2509 2513 2532 2550 2562 2573 2591 2602 2604 2629 2641 2650\n",
      " 2655 2662 2665 2674 2680 2698 2713 2715 2722 2723 2724 2733 2754 2764\n",
      " 2766 2777 2801 2814 2824 2825 2836 2839 2846 2869 2872 2882 2886 2896\n",
      " 2899 2906 2937 2951 2957 2967 2971 2986 2991 2996 3004 3005 3011 3012\n",
      " 3016 3019 3037 3067 3072 3086 3134 3148 3150 3157 3168 3180 3189 3204\n",
      " 3205 3216 3222 3238 3249 3255 3267 3271 3272 3281 3286 3330 3342 3345\n",
      " 3351 3371 3374 3380 3384 3387 3394 3396 3421 3441 3447 3467 3474 3476\n",
      " 3503 3510 3512 3518 3524 3533 3542 3549 3556 3562 3577 3584 3586 3587\n",
      " 3593 3594 3609 3614 3624 3635 3638 3640 3670 3673 3680 3710 3714 3755\n",
      " 3768 3775 3788 3793 3809 3818 3820 3849 3851 3852 3859 3863 3869 3882\n",
      " 3891 3894 3902 3909 3927 3940 3982 3983 4001 4005 4020 4037 4040 4051\n",
      " 4061 4063 4077 4084]\n"
     ]
    },
    {
     "data": {
      "application/vnd.jupyter.widget-view+json": {
       "model_id": "29371a539c3444a4a5ef1f51834aeb56",
       "version_major": 2,
       "version_minor": 0
      },
      "text/plain": [
       "  0%|          | 0/5 [00:00<?, ?it/s]"
      ]
     },
     "metadata": {},
     "output_type": "display_data"
    },
    {
     "name": "stdout",
     "output_type": "stream",
     "text": [
      "Test Error Rate:  94.15 % | Iteration No:  0\n",
      "Test Error Rate:  81.22 % | Iteration No:  1\n",
      "Test Error Rate:  83.41 % | Iteration No:  2\n",
      "Test Error Rate:  83.9 % | Iteration No:  3\n",
      "Test Error Rate:  82.68 % | Iteration No:  4\n"
     ]
    },
    {
     "name": "stderr",
     "output_type": "stream",
     "text": [
      "C:\\Users\\User\\.conda\\envs\\ML_proj\\lib\\site-packages\\sklearn\\metrics\\_classification.py:1248: UndefinedMetricWarning: Precision is ill-defined and being set to 0.0 in labels with no predicted samples. Use `zero_division` parameter to control this behavior.\n",
      "  _warn_prf(average, modifier, msg_start, len(result))\n"
     ]
    },
    {
     "name": "stdout",
     "output_type": "stream",
     "text": [
      "accuracy: 20.0\n",
      "flowers102-paper_algo.csv\n",
      "TRAIN: [   0    1    2 ... 4091 4092 4093] TEST: [  11   20   26   31   36   40   43   79   85   97  100  112  119  128\n",
      "  139  144  147  149  162  163  184  204  205  221  232  239  243  248\n",
      "  255  279  281  283  298  300  310  311  314  343  357  379  381  382\n",
      "  402  408  413  441  460  478  485  486  487  488  492  507  513  518\n",
      "  519  520  527  535  542  561  565  568  571  578  579  596  606  614\n",
      "  633  642  663  680  686  687  689  699  700  708  713  715  737  744\n",
      "  759  764  770  792  796  799  803  810  815  851  853  862  875  876\n",
      "  888  896  903  906  907  917  927  938  949  960  993 1038 1040 1043\n",
      " 1051 1057 1070 1085 1087 1093 1094 1102 1122 1125 1132 1141 1183 1187\n",
      " 1194 1199 1201 1203 1221 1222 1223 1228 1234 1237 1279 1287 1288 1311\n",
      " 1330 1337 1347 1377 1382 1402 1439 1441 1450 1451 1459 1480 1504 1506\n",
      " 1535 1540 1543 1545 1552 1559 1567 1576 1584 1589 1594 1597 1599 1601\n",
      " 1609 1611 1615 1643 1663 1670 1685 1700 1701 1708 1729 1735 1736 1737\n",
      " 1743 1745 1746 1750 1756 1775 1776 1793 1795 1796 1797 1802 1808 1821\n",
      " 1833 1835 1840 1849 1850 1869 1879 1884 1891 1897 1915 1948 1956 1958\n",
      " 1979 2007 2010 2021 2046 2073 2079 2093 2114 2117 2121 2125 2131 2137\n",
      " 2144 2152 2160 2165 2176 2179 2180 2193 2194 2195 2215 2250 2307 2319\n",
      " 2332 2335 2336 2339 2351 2359 2360 2382 2386 2403 2404 2413 2425 2428\n",
      " 2448 2466 2469 2471 2475 2499 2505 2506 2536 2540 2552 2554 2560 2597\n",
      " 2605 2621 2654 2656 2693 2694 2696 2697 2708 2725 2751 2765 2775 2794\n",
      " 2818 2826 2835 2841 2842 2844 2848 2853 2867 2868 2871 2893 2895 2911\n",
      " 2912 2917 2924 2925 2927 2934 2939 2941 2942 2946 2948 2963 2978 2990\n",
      " 3010 3022 3026 3039 3045 3071 3075 3090 3115 3118 3124 3126 3130 3162\n",
      " 3164 3185 3186 3187 3215 3219 3223 3244 3254 3262 3263 3264 3276 3285\n",
      " 3294 3299 3304 3316 3319 3335 3347 3353 3362 3376 3382 3402 3407 3418\n",
      " 3428 3437 3459 3471 3495 3496 3499 3500 3520 3526 3544 3546 3569 3590\n",
      " 3596 3633 3634 3636 3648 3651 3656 3657 3668 3672 3682 3690 3704 3708\n",
      " 3715 3728 3734 3757 3769 3814 3817 3834 3837 3843 3864 3865 3876 3879\n",
      " 3897 3919 3923 3929 3947 3975 3991 4009 4010 4017 4027 4041 4050 4066\n",
      " 4083 4089 4090]\n"
     ]
    },
    {
     "data": {
      "application/vnd.jupyter.widget-view+json": {
       "model_id": "4cd8810794c44dd4ba402e9af36f8739",
       "version_major": 2,
       "version_minor": 0
      },
      "text/plain": [
       "  0%|          | 0/5 [00:00<?, ?it/s]"
      ]
     },
     "metadata": {},
     "output_type": "display_data"
    },
    {
     "name": "stdout",
     "output_type": "stream",
     "text": [
      "Test Error Rate:  83.13 % | Iteration No:  0\n",
      "Test Error Rate:  81.91 % | Iteration No:  1\n",
      "Test Error Rate:  78.97 % | Iteration No:  2\n",
      "Test Error Rate:  78.0 % | Iteration No:  3\n",
      "Test Error Rate:  80.68 % | Iteration No:  4\n"
     ]
    },
    {
     "name": "stderr",
     "output_type": "stream",
     "text": [
      "C:\\Users\\User\\.conda\\envs\\ML_proj\\lib\\site-packages\\sklearn\\metrics\\_classification.py:1248: UndefinedMetricWarning: Precision is ill-defined and being set to 0.0 in labels with no predicted samples. Use `zero_division` parameter to control this behavior.\n",
      "  _warn_prf(average, modifier, msg_start, len(result))\n"
     ]
    },
    {
     "name": "stdout",
     "output_type": "stream",
     "text": [
      "accuracy: 22.00488997555012\n",
      "flowers102-paper_algo.csv\n",
      "TRAIN: [   0    1    3 ... 4090 4091 4092] TEST: [   2    4   10   42   46   48   78   80   92   99  101  105  114  137\n",
      "  146  153  165  172  180  193  201  220  238  247  249  258  271  284\n",
      "  304  324  360  394  401  411  420  421  427  450  467  468  474  522\n",
      "  530  552  559  609  610  612  629  634  635  667  679  702  733  734\n",
      "  735  745  752  756  769  782  790  791  804  807  825  829  833  843\n",
      "  846  863  868  874  881  913  921  930  946  948  957  959  962  965\n",
      "  985  995  999 1004 1015 1063 1066 1067 1096 1104 1110 1112 1116 1133\n",
      " 1139 1144 1145 1154 1179 1181 1217 1257 1280 1294 1296 1309 1322 1345\n",
      " 1355 1357 1363 1378 1395 1399 1405 1415 1427 1433 1437 1449 1452 1457\n",
      " 1458 1475 1487 1488 1490 1494 1499 1507 1508 1521 1523 1531 1538 1542\n",
      " 1568 1572 1573 1579 1582 1588 1593 1606 1616 1636 1644 1645 1665 1669\n",
      " 1674 1677 1683 1693 1696 1711 1713 1728 1733 1753 1764 1772 1781 1784\n",
      " 1813 1819 1836 1838 1844 1874 1888 1892 1894 1910 1913 1916 1923 1927\n",
      " 1928 1952 1957 1972 1977 1990 1991 2013 2017 2018 2034 2039 2044 2067\n",
      " 2085 2088 2128 2129 2134 2141 2162 2163 2170 2173 2182 2185 2192 2196\n",
      " 2202 2217 2228 2229 2259 2270 2272 2275 2294 2298 2338 2377 2378 2397\n",
      " 2406 2418 2421 2429 2441 2479 2480 2490 2504 2512 2518 2577 2579 2581\n",
      " 2598 2610 2613 2636 2639 2657 2666 2668 2670 2690 2717 2718 2737 2740\n",
      " 2762 2767 2773 2778 2786 2790 2793 2797 2800 2804 2809 2838 2845 2847\n",
      " 2852 2859 2863 2866 2873 2878 2884 2898 2908 2921 2930 2931 2936 2947\n",
      " 2987 2999 3001 3013 3018 3021 3035 3038 3040 3046 3056 3060 3063 3083\n",
      " 3099 3100 3117 3119 3132 3149 3156 3165 3173 3177 3178 3198 3207 3214\n",
      " 3234 3252 3277 3283 3312 3313 3314 3315 3327 3333 3334 3339 3346 3348\n",
      " 3350 3366 3375 3389 3410 3413 3414 3416 3426 3433 3435 3460 3469 3479\n",
      " 3502 3506 3513 3517 3523 3527 3540 3550 3563 3573 3574 3575 3579 3592\n",
      " 3597 3598 3602 3615 3619 3620 3625 3628 3646 3650 3652 3662 3664 3678\n",
      " 3679 3692 3699 3701 3721 3730 3736 3741 3796 3805 3827 3832 3855 3857\n",
      " 3858 3860 3862 3872 3873 3877 3887 3908 3917 3941 3942 3951 3961 3962\n",
      " 3966 3968 3974 3978 3981 4003 4011 4016 4036 4039 4044 4049 4053 4057\n",
      " 4076 4082 4093]\n"
     ]
    },
    {
     "data": {
      "application/vnd.jupyter.widget-view+json": {
       "model_id": "55088f30311544f5ab9bf9553c7fecbc",
       "version_major": 2,
       "version_minor": 0
      },
      "text/plain": [
       "  0%|          | 0/5 [00:00<?, ?it/s]"
      ]
     },
     "metadata": {},
     "output_type": "display_data"
    },
    {
     "name": "stdout",
     "output_type": "stream",
     "text": [
      "Test Error Rate:  79.22 % | Iteration No:  0\n",
      "Test Error Rate:  81.66 % | Iteration No:  1\n",
      "Test Error Rate:  81.66 % | Iteration No:  2\n",
      "Test Error Rate:  79.22 % | Iteration No:  3\n",
      "Test Error Rate:  80.93 % | Iteration No:  4\n"
     ]
    },
    {
     "name": "stderr",
     "output_type": "stream",
     "text": [
      "C:\\Users\\User\\.conda\\envs\\ML_proj\\lib\\site-packages\\sklearn\\metrics\\_classification.py:1248: UndefinedMetricWarning: Precision is ill-defined and being set to 0.0 in labels with no predicted samples. Use `zero_division` parameter to control this behavior.\n",
      "  _warn_prf(average, modifier, msg_start, len(result))\n"
     ]
    },
    {
     "name": "stdout",
     "output_type": "stream",
     "text": [
      "accuracy: 20.293398533007334\n",
      "flowers102-paper_algo.csv\n",
      "TRAIN: [   0    2    3 ... 4091 4092 4093] TEST: [   1    7   15   19   45   51   56   63   64   74   75   95  107  109\n",
      "  118  132  142  143  152  155  158  178  187  189  190  207  214  237\n",
      "  254  262  268  286  315  316  327  338  342  352  353  380  386  423\n",
      "  429  430  442  457  477  502  514  523  539  547  548  564  570  574\n",
      "  585  587  598  608  616  638  648  677  678  694  720  727  740  746\n",
      "  747  761  762  771  774  783  786  787  801  806  813  816  817  831\n",
      "  839  842  844  854  855  861  886  897  905  919  923  924  925  931\n",
      "  937  945  951  952  954  955  956  978  984 1002 1006 1017 1018 1021\n",
      " 1025 1030 1034 1071 1118 1121 1124 1128 1140 1147 1214 1219 1225 1226\n",
      " 1238 1242 1247 1249 1256 1262 1266 1267 1272 1278 1284 1285 1306 1307\n",
      " 1310 1318 1320 1323 1353 1381 1383 1384 1388 1401 1413 1418 1421 1422\n",
      " 1428 1431 1436 1442 1454 1463 1468 1472 1473 1474 1497 1509 1513 1553\n",
      " 1554 1570 1578 1608 1612 1640 1647 1657 1658 1682 1689 1695 1699 1704\n",
      " 1716 1725 1739 1751 1760 1763 1801 1809 1811 1814 1832 1845 1855 1867\n",
      " 1870 1877 1905 1919 1937 1939 1951 2005 2006 2014 2020 2027 2031 2035\n",
      " 2042 2057 2080 2090 2095 2101 2115 2126 2138 2139 2140 2143 2158 2164\n",
      " 2167 2178 2198 2206 2210 2211 2221 2222 2233 2234 2236 2239 2254 2262\n",
      " 2279 2283 2292 2297 2299 2300 2303 2315 2327 2330 2344 2362 2369 2371\n",
      " 2383 2391 2400 2402 2407 2415 2416 2449 2493 2495 2498 2516 2521 2531\n",
      " 2542 2569 2576 2586 2596 2619 2627 2638 2640 2642 2660 2685 2689 2702\n",
      " 2703 2704 2721 2735 2736 2741 2745 2763 2770 2791 2795 2802 2821 2831\n",
      " 2840 2877 2880 2897 2903 2904 2932 2944 2949 2952 2956 2985 2989 2998\n",
      " 3003 3007 3020 3024 3025 3036 3048 3066 3070 3087 3091 3112 3133 3140\n",
      " 3171 3181 3194 3211 3212 3250 3282 3289 3297 3310 3322 3336 3363 3420\n",
      " 3422 3430 3442 3443 3457 3498 3504 3509 3511 3515 3529 3537 3601 3604\n",
      " 3605 3607 3629 3674 3677 3696 3697 3702 3713 3716 3732 3738 3760 3761\n",
      " 3773 3774 3776 3780 3785 3791 3792 3801 3808 3812 3813 3816 3829 3831\n",
      " 3833 3838 3866 3881 3888 3900 3903 3906 3913 3914 3924 3928 3936 3938\n",
      " 3952 3953 3954 3960 3963 3977 3989 3992 3994 4006 4023 4033 4038 4054\n",
      " 4067 4075 4081]\n"
     ]
    },
    {
     "data": {
      "application/vnd.jupyter.widget-view+json": {
       "model_id": "dee71d6a0fc34a2094fb9267f67073bb",
       "version_major": 2,
       "version_minor": 0
      },
      "text/plain": [
       "  0%|          | 0/5 [00:00<?, ?it/s]"
      ]
     },
     "metadata": {},
     "output_type": "display_data"
    },
    {
     "name": "stdout",
     "output_type": "stream",
     "text": [
      "Test Error Rate:  84.11 % | Iteration No:  0\n",
      "Test Error Rate:  79.22 % | Iteration No:  1\n",
      "Test Error Rate:  84.35 % | Iteration No:  2\n",
      "Test Error Rate:  83.62 % | Iteration No:  3\n",
      "Test Error Rate:  79.22 % | Iteration No:  4\n"
     ]
    },
    {
     "name": "stderr",
     "output_type": "stream",
     "text": [
      "C:\\Users\\User\\.conda\\envs\\ML_proj\\lib\\site-packages\\sklearn\\metrics\\_classification.py:1248: UndefinedMetricWarning: Precision is ill-defined and being set to 0.0 in labels with no predicted samples. Use `zero_division` parameter to control this behavior.\n",
      "  _warn_prf(average, modifier, msg_start, len(result))\n"
     ]
    },
    {
     "name": "stdout",
     "output_type": "stream",
     "text": [
      "accuracy: 20.78239608801956\n",
      "flowers102-paper_algo.csv\n",
      "TRAIN: [   0    1    2 ... 4091 4092 4093] TEST: [   8   14   24   39   49   53   54   55   60   67   68   89   93   98\n",
      "  102  127  130  135  136  138  145  159  171  174  177  218  225  230\n",
      "  294  309  313  320  333  336  348  351  354  358  376  385  415  417\n",
      "  428  431  444  449  452  461  462  465  479  491  506  516  526  543\n",
      "  555  560  594  595  618  619  624  639  643  644  650  653  665  674\n",
      "  682  698  707  712  716  717  721  723  726  736  742  757  766  777\n",
      "  778  780  784  809  819  847  872  889  909  929  935  943  944  947\n",
      "  950  969  975  986  987  988 1005 1012 1016 1022 1029 1056 1068 1100\n",
      " 1101 1106 1129 1134 1135 1137 1148 1149 1152 1158 1160 1173 1216 1220\n",
      " 1230 1236 1239 1248 1250 1261 1270 1289 1305 1315 1319 1321 1329 1332\n",
      " 1335 1391 1419 1430 1434 1446 1461 1469 1470 1471 1478 1481 1525 1527\n",
      " 1530 1550 1551 1556 1557 1558 1566 1580 1581 1583 1587 1600 1613 1641\n",
      " 1661 1662 1664 1678 1681 1692 1697 1702 1714 1719 1724 1765 1773 1788\n",
      " 1804 1805 1827 1841 1861 1873 1878 1883 1886 1887 1889 1895 1896 1899\n",
      " 1907 1908 1918 1935 1962 1965 1968 1974 1987 1997 2015 2022 2023 2048\n",
      " 2056 2058 2060 2070 2089 2100 2122 2127 2156 2166 2177 2183 2184 2187\n",
      " 2203 2227 2237 2240 2243 2253 2265 2290 2302 2309 2318 2320 2324 2342\n",
      " 2353 2385 2390 2414 2431 2432 2439 2440 2444 2454 2460 2467 2485 2486\n",
      " 2494 2503 2507 2508 2514 2517 2537 2566 2571 2575 2585 2588 2593 2594\n",
      " 2606 2615 2631 2637 2647 2649 2661 2669 2677 2684 2692 2706 2711 2712\n",
      " 2729 2732 2742 2759 2768 2769 2774 2780 2781 2806 2817 2819 2834 2855\n",
      " 2857 2861 2870 2885 2902 2907 2916 2928 2961 2966 2974 2977 2992 3002\n",
      " 3006 3029 3052 3095 3103 3110 3116 3125 3127 3151 3155 3159 3200 3206\n",
      " 3227 3253 3260 3261 3266 3269 3296 3306 3328 3331 3338 3343 3349 3359\n",
      " 3360 3365 3370 3377 3386 3390 3393 3397 3408 3419 3438 3439 3448 3453\n",
      " 3463 3473 3483 3485 3487 3488 3489 3493 3514 3553 3580 3582 3585 3589\n",
      " 3618 3643 3689 3691 3693 3718 3723 3727 3729 3733 3737 3740 3745 3772\n",
      " 3781 3789 3800 3802 3815 3826 3842 3844 3861 3867 3875 3886 3910 3911\n",
      " 3926 3937 3945 3948 3973 3979 3980 3985 3990 4000 4013 4021 4064 4065\n",
      " 4070 4074 4078]\n"
     ]
    },
    {
     "data": {
      "application/vnd.jupyter.widget-view+json": {
       "model_id": "018d1a050acd4afdabd10a6ac2b01069",
       "version_major": 2,
       "version_minor": 0
      },
      "text/plain": [
       "  0%|          | 0/5 [00:00<?, ?it/s]"
      ]
     },
     "metadata": {},
     "output_type": "display_data"
    },
    {
     "name": "stdout",
     "output_type": "stream",
     "text": [
      "Test Error Rate:  85.57 % | Iteration No:  0\n",
      "Test Error Rate:  86.55 % | Iteration No:  1\n",
      "Test Error Rate:  89.0 % | Iteration No:  2\n",
      "Test Error Rate:  86.8 % | Iteration No:  3\n",
      "Test Error Rate:  84.6 % | Iteration No:  4\n"
     ]
    },
    {
     "name": "stderr",
     "output_type": "stream",
     "text": [
      "C:\\Users\\User\\.conda\\envs\\ML_proj\\lib\\site-packages\\sklearn\\metrics\\_classification.py:1248: UndefinedMetricWarning: Precision is ill-defined and being set to 0.0 in labels with no predicted samples. Use `zero_division` parameter to control this behavior.\n",
      "  _warn_prf(average, modifier, msg_start, len(result))\n"
     ]
    },
    {
     "name": "stdout",
     "output_type": "stream",
     "text": [
      "accuracy: 15.403422982885084\n",
      "flowers102-paper_algo.csv\n",
      "TRAIN: [   0    1    2 ... 4091 4092 4093] TEST: [   9   29   47   66   71   84   88   90   94   96  104  110  113  129\n",
      "  151  161  167  185  191  196  200  219  233  234  241  251  253  257\n",
      "  260  275  276  280  291  305  306  307  326  329  331  345  364  365\n",
      "  366  369  384  390  395  396  397  405  419  432  451  453  466  473\n",
      "  494  495  496  501  512  524  525  531  534  541  556  569  572  582\n",
      "  589  599  645  651  662  666  673  676  681  683  705  714  722  739\n",
      "  753  772  773  793  794  797  812  827  832  835  873  878  882  918\n",
      "  926  936  941  992  996  998 1039 1064 1076 1077 1078 1080 1103 1108\n",
      " 1138 1146 1159 1164 1166 1178 1185 1189 1190 1205 1215 1232 1241 1246\n",
      " 1254 1265 1268 1269 1274 1286 1295 1298 1302 1304 1308 1313 1324 1334\n",
      " 1339 1342 1346 1350 1362 1366 1372 1375 1385 1397 1408 1425 1426 1448\n",
      " 1466 1467 1484 1485 1514 1518 1524 1537 1539 1560 1565 1569 1591 1592\n",
      " 1595 1603 1618 1619 1629 1649 1653 1666 1676 1715 1718 1749 1759 1766\n",
      " 1794 1812 1815 1822 1823 1825 1846 1854 1856 1857 1858 1862 1864 1871\n",
      " 1880 1881 1906 1925 1926 1929 1933 1949 1950 1963 1980 1984 1988 2025\n",
      " 2026 2028 2041 2063 2066 2068 2069 2071 2077 2081 2091 2097 2104 2130\n",
      " 2136 2146 2154 2204 2209 2219 2266 2271 2273 2288 2289 2301 2308 2321\n",
      " 2323 2334 2346 2347 2355 2358 2361 2363 2388 2392 2394 2412 2417 2420\n",
      " 2436 2447 2452 2465 2478 2481 2501 2515 2529 2534 2549 2558 2561 2578\n",
      " 2580 2583 2620 2623 2628 2652 2676 2678 2688 2691 2695 2699 2700 2701\n",
      " 2709 2714 2716 2728 2739 2744 2748 2749 2772 2783 2789 2810 2813 2815\n",
      " 2827 2833 2837 2851 2856 2858 2860 2862 2875 2900 2915 2926 2968 2970\n",
      " 2976 2980 2988 2994 3008 3041 3050 3053 3055 3080 3089 3096 3097 3108\n",
      " 3109 3121 3122 3131 3138 3146 3161 3182 3210 3221 3225 3228 3230 3233\n",
      " 3246 3259 3274 3275 3287 3326 3340 3344 3355 3358 3364 3378 3406 3412\n",
      " 3417 3425 3450 3451 3454 3455 3464 3466 3470 3484 3486 3505 3531 3535\n",
      " 3536 3548 3551 3554 3564 3567 3591 3616 3626 3627 3655 3667 3685 3709\n",
      " 3712 3717 3752 3759 3778 3779 3782 3803 3810 3841 3848 3870 3892 3904\n",
      " 3907 3931 3944 3946 3955 3969 3993 3995 3996 3997 3998 4007 4012 4018\n",
      " 4024 4048 4069]\n"
     ]
    },
    {
     "data": {
      "application/vnd.jupyter.widget-view+json": {
       "model_id": "cbc2bd42577e47a2931bcd13f5819b8a",
       "version_major": 2,
       "version_minor": 0
      },
      "text/plain": [
       "  0%|          | 0/5 [00:00<?, ?it/s]"
      ]
     },
     "metadata": {},
     "output_type": "display_data"
    },
    {
     "name": "stdout",
     "output_type": "stream",
     "text": [
      "Test Error Rate:  76.53 % | Iteration No:  0\n",
      "Test Error Rate:  84.6 % | Iteration No:  1\n",
      "Test Error Rate:  78.24 % | Iteration No:  2\n",
      "Test Error Rate:  89.24 % | Iteration No:  3\n",
      "Test Error Rate:  79.46 % | Iteration No:  4\n"
     ]
    },
    {
     "name": "stderr",
     "output_type": "stream",
     "text": [
      "C:\\Users\\User\\.conda\\envs\\ML_proj\\lib\\site-packages\\sklearn\\metrics\\_classification.py:1248: UndefinedMetricWarning: Precision is ill-defined and being set to 0.0 in labels with no predicted samples. Use `zero_division` parameter to control this behavior.\n",
      "  _warn_prf(average, modifier, msg_start, len(result))\n"
     ]
    },
    {
     "name": "stdout",
     "output_type": "stream",
     "text": [
      "accuracy: 22.73838630806846\n",
      "flowers102-paper_algo.csv\n",
      "TRAIN: [   0    1    2 ... 4090 4091 4093] TEST: [  12   13   17   32   35   44   52   77  117  125  133  141  176  182\n",
      "  213  217  223  242  259  267  274  277  278  282  292  295  299  337\n",
      "  344  363  367  368  372  375  383  418  426  434  435  438  455  470\n",
      "  476  480  483  484  489  497  503  508  538  545  553  576  580  601\n",
      "  607  621  622  625  641  647  655  657  659  672  684  690  704  728\n",
      "  732  738  754  767  775  776  788  789  795  798  826  830  834  836\n",
      "  848  858  860  864  865  887  900  939  964  968  970  974  983  994\n",
      " 1003 1010 1019 1023 1024 1033 1045 1058 1062 1084 1086 1114 1143 1172\n",
      " 1180 1184 1186 1191 1202 1229 1245 1252 1276 1291 1299 1316 1340 1356\n",
      " 1359 1393 1396 1429 1438 1445 1447 1479 1486 1498 1505 1517 1519 1520\n",
      " 1526 1528 1534 1541 1564 1575 1590 1596 1607 1614 1626 1628 1632 1633\n",
      " 1642 1667 1684 1688 1694 1705 1709 1712 1717 1720 1738 1742 1744 1758\n",
      " 1761 1762 1768 1782 1786 1789 1792 1803 1810 1829 1837 1848 1851 1898\n",
      " 1900 1932 1936 1953 1960 1964 1973 1976 1981 1983 1985 1994 1995 2024\n",
      " 2050 2059 2061 2074 2083 2084 2092 2108 2110 2111 2124 2142 2148 2161\n",
      " 2168 2197 2213 2220 2224 2231 2232 2248 2255 2260 2268 2274 2282 2293\n",
      " 2304 2306 2322 2329 2333 2350 2356 2357 2368 2373 2389 2396 2427 2442\n",
      " 2446 2451 2456 2461 2484 2489 2492 2511 2522 2524 2528 2545 2551 2555\n",
      " 2559 2567 2568 2592 2595 2599 2607 2609 2612 2630 2646 2653 2675 2682\n",
      " 2707 2710 2743 2747 2779 2782 2796 2805 2812 2850 2865 2876 2887 2892\n",
      " 2910 2920 2923 2935 2954 2955 2960 2965 2972 2993 3000 3009 3014 3015\n",
      " 3044 3049 3064 3065 3069 3073 3074 3078 3081 3092 3094 3098 3105 3106\n",
      " 3114 3141 3144 3147 3166 3197 3213 3220 3224 3232 3243 3245 3270 3280\n",
      " 3284 3291 3295 3303 3317 3320 3321 3325 3329 3337 3361 3369 3372 3379\n",
      " 3383 3388 3409 3415 3446 3452 3477 3492 3494 3497 3516 3543 3545 3557\n",
      " 3561 3572 3576 3588 3603 3610 3613 3617 3632 3649 3653 3660 3669 3675\n",
      " 3683 3688 3694 3722 3735 3742 3744 3747 3749 3751 3754 3756 3758 3762\n",
      " 3777 3783 3794 3797 3799 3819 3878 3890 3905 3915 3918 3921 3925 3934\n",
      " 3958 3959 3964 3971 3984 3987 4002 4019 4031 4034 4043 4052 4055 4058\n",
      " 4072 4087 4092]\n"
     ]
    },
    {
     "data": {
      "application/vnd.jupyter.widget-view+json": {
       "model_id": "9cacb0d59e7b48098217eb5bb2c33ac3",
       "version_major": 2,
       "version_minor": 0
      },
      "text/plain": [
       "  0%|          | 0/5 [00:00<?, ?it/s]"
      ]
     },
     "metadata": {},
     "output_type": "display_data"
    },
    {
     "name": "stdout",
     "output_type": "stream",
     "text": [
      "Test Error Rate:  92.18 % | Iteration No:  0\n",
      "Test Error Rate:  83.62 % | Iteration No:  1\n",
      "Test Error Rate:  85.09 % | Iteration No:  2\n",
      "Test Error Rate:  87.29 % | Iteration No:  3\n",
      "Test Error Rate:  82.64 % | Iteration No:  4\n"
     ]
    },
    {
     "name": "stderr",
     "output_type": "stream",
     "text": [
      "C:\\Users\\User\\.conda\\envs\\ML_proj\\lib\\site-packages\\sklearn\\metrics\\_classification.py:1248: UndefinedMetricWarning: Precision is ill-defined and being set to 0.0 in labels with no predicted samples. Use `zero_division` parameter to control this behavior.\n",
      "  _warn_prf(average, modifier, msg_start, len(result))\n"
     ]
    },
    {
     "name": "stdout",
     "output_type": "stream",
     "text": [
      "accuracy: 17.6039119804401\n",
      "flowers102-paper_algo.csv\n",
      "accuracy: 20.27288448923609 +/- 2.437223048201639\n",
      "avarage accuracy: 20.27288448923609\n",
      "Network takes 208.159 minuts to fold validate\n"
     ]
    }
   ],
   "source": [
    "#model_list = ['cifar10', 'cifar100', 'mnist', 'flowers102', 'monkeys10', 'intel','cifar10_2', 'cifar100_2', 'mnist_2', 'flowers102_2', 'monkeys10_2', 'intel_2']\n",
    "\n",
    "#model_list = ['cifar100', 'cifar100_2', 'flowers102', 'flowers102_2']\n",
    "model_list = ['flowers102']\n",
    "color = 0\n",
    "for n in model_list:\n",
    "    if n == 'cifar10':\n",
    "        x,x2,y,y2,num_labels,img_shape = Ensembles_prepare_datasets.load_cifar10()\n",
    "    elif n == 'cifar10_2':\n",
    "        x1,x,y1,y,num_labels,img_shape = Ensembles_prepare_datasets.load_cifar10()\n",
    "    elif n == 'cifar100':\n",
    "        x,x2,y,y2,num_labels,img_shape = Ensembles_prepare_datasets.load_cifar100()\n",
    "    elif n == 'cifar100_2':\n",
    "        x1,x,y1,y,num_labels,img_shape = Ensembles_prepare_datasets.load_cifar100()\n",
    "    elif n == 'mnist':\n",
    "        x,x2,y,y2,num_labels,img_shape,color = Ensembles_prepare_datasets.load_mnist()\n",
    "    elif n == 'mnist_2':\n",
    "        x1,x,y1,y,num_labels,img_shape,color = Ensembles_prepare_datasets.load_mnist()\n",
    "    elif n == 'flowers102':\n",
    "        x,x2,y,y2,num_labels,img_shape = Ensembles_prepare_datasets.load_flowers102()\n",
    "    elif n == 'flowers102_2':\n",
    "        x1,x,y1,y,num_labels,img_shape = Ensembles_prepare_datasets.load_flowers102()\n",
    "        \n",
    "    \n",
    "    elif n == 'monkeys10':\n",
    "        x,x2,y,y2,num_labels,img_shape = Ensembles_prepare_datasets.load_monkeys10()\n",
    "    elif n == 'monkeys10_2':\n",
    "        x1,x,y1,y,num_labels,img_shape = Ensembles_prepare_datasets.load_monkeys10()\n",
    "    elif n == 'intel':\n",
    "        x,x2,y,y2,num_labels,img_shape = Ensembles_prepare_datasets.load_intel()\n",
    "    elif n == 'intel_2':\n",
    "        x1,x,y1,y,num_labels,img_shape = Ensembles_prepare_datasets.load_intel()\n",
    "    kfold_val()"
   ]
  }
 ],
 "metadata": {
  "accelerator": "GPU",
  "colab": {
   "collapsed_sections": [
    "nkxDAl8pv5pJ",
    "B13auR7gDEao",
    "VngoxffB2DqX"
   ],
   "machine_shape": "hm",
   "name": "SmallCNN_Ensembles_Fold_Val.ipynb",
   "provenance": []
  },
  "kernelspec": {
   "display_name": "Python 3",
   "language": "python",
   "name": "python3"
  },
  "language_info": {
   "codemirror_mode": {
    "name": "ipython",
    "version": 3
   },
   "file_extension": ".py",
   "mimetype": "text/x-python",
   "name": "python",
   "nbconvert_exporter": "python",
   "pygments_lexer": "ipython3",
   "version": "3.7.11"
  },
  "widgets": {
   "application/vnd.jupyter.widget-state+json": {
    "00b1d1aafeb34ae1ab1a3298d91f2cd6": {
     "model_module": "@jupyter-widgets/base",
     "model_name": "LayoutModel",
     "state": {
      "_model_module": "@jupyter-widgets/base",
      "_model_module_version": "1.2.0",
      "_model_name": "LayoutModel",
      "_view_count": null,
      "_view_module": "@jupyter-widgets/base",
      "_view_module_version": "1.2.0",
      "_view_name": "LayoutView",
      "align_content": null,
      "align_items": null,
      "align_self": null,
      "border": null,
      "bottom": null,
      "display": null,
      "flex": null,
      "flex_flow": null,
      "grid_area": null,
      "grid_auto_columns": null,
      "grid_auto_flow": null,
      "grid_auto_rows": null,
      "grid_column": null,
      "grid_gap": null,
      "grid_row": null,
      "grid_template_areas": null,
      "grid_template_columns": null,
      "grid_template_rows": null,
      "height": null,
      "justify_content": null,
      "justify_items": null,
      "left": null,
      "margin": null,
      "max_height": null,
      "max_width": null,
      "min_height": null,
      "min_width": null,
      "object_fit": null,
      "object_position": null,
      "order": null,
      "overflow": null,
      "overflow_x": null,
      "overflow_y": null,
      "padding": null,
      "right": null,
      "top": null,
      "visibility": null,
      "width": null
     }
    },
    "00e0df9191c54da9b2cb0c4ae6044158": {
     "model_module": "@jupyter-widgets/base",
     "model_name": "LayoutModel",
     "state": {
      "_model_module": "@jupyter-widgets/base",
      "_model_module_version": "1.2.0",
      "_model_name": "LayoutModel",
      "_view_count": null,
      "_view_module": "@jupyter-widgets/base",
      "_view_module_version": "1.2.0",
      "_view_name": "LayoutView",
      "align_content": null,
      "align_items": null,
      "align_self": null,
      "border": null,
      "bottom": null,
      "display": null,
      "flex": null,
      "flex_flow": null,
      "grid_area": null,
      "grid_auto_columns": null,
      "grid_auto_flow": null,
      "grid_auto_rows": null,
      "grid_column": null,
      "grid_gap": null,
      "grid_row": null,
      "grid_template_areas": null,
      "grid_template_columns": null,
      "grid_template_rows": null,
      "height": null,
      "justify_content": null,
      "justify_items": null,
      "left": null,
      "margin": null,
      "max_height": null,
      "max_width": null,
      "min_height": null,
      "min_width": null,
      "object_fit": null,
      "object_position": null,
      "order": null,
      "overflow": null,
      "overflow_x": null,
      "overflow_y": null,
      "padding": null,
      "right": null,
      "top": null,
      "visibility": null,
      "width": null
     }
    },
    "01f303550f924aa9b11d8c99b56a00d8": {
     "model_module": "@jupyter-widgets/controls",
     "model_name": "HTMLModel",
     "state": {
      "_dom_classes": [],
      "_model_module": "@jupyter-widgets/controls",
      "_model_module_version": "1.5.0",
      "_model_name": "HTMLModel",
      "_view_count": null,
      "_view_module": "@jupyter-widgets/controls",
      "_view_module_version": "1.5.0",
      "_view_name": "HTMLView",
      "description": "",
      "description_tooltip": null,
      "layout": "IPY_MODEL_099de3c6f5f54a1489d880b55ba8ee58",
      "placeholder": "​",
      "style": "IPY_MODEL_ac9640353088407bae39e65c95ba9707",
      "value": " 5/5 [02:50&lt;00:00, 34.02s/it]"
     }
    },
    "03e942e58e5e42cab903257cd40d9c79": {
     "model_module": "@jupyter-widgets/base",
     "model_name": "LayoutModel",
     "state": {
      "_model_module": "@jupyter-widgets/base",
      "_model_module_version": "1.2.0",
      "_model_name": "LayoutModel",
      "_view_count": null,
      "_view_module": "@jupyter-widgets/base",
      "_view_module_version": "1.2.0",
      "_view_name": "LayoutView",
      "align_content": null,
      "align_items": null,
      "align_self": null,
      "border": null,
      "bottom": null,
      "display": null,
      "flex": null,
      "flex_flow": null,
      "grid_area": null,
      "grid_auto_columns": null,
      "grid_auto_flow": null,
      "grid_auto_rows": null,
      "grid_column": null,
      "grid_gap": null,
      "grid_row": null,
      "grid_template_areas": null,
      "grid_template_columns": null,
      "grid_template_rows": null,
      "height": null,
      "justify_content": null,
      "justify_items": null,
      "left": null,
      "margin": null,
      "max_height": null,
      "max_width": null,
      "min_height": null,
      "min_width": null,
      "object_fit": null,
      "object_position": null,
      "order": null,
      "overflow": null,
      "overflow_x": null,
      "overflow_y": null,
      "padding": null,
      "right": null,
      "top": null,
      "visibility": null,
      "width": null
     }
    },
    "062b83f74eed48bd95b6731a6c623337": {
     "model_module": "@jupyter-widgets/controls",
     "model_name": "DescriptionStyleModel",
     "state": {
      "_model_module": "@jupyter-widgets/controls",
      "_model_module_version": "1.5.0",
      "_model_name": "DescriptionStyleModel",
      "_view_count": null,
      "_view_module": "@jupyter-widgets/base",
      "_view_module_version": "1.2.0",
      "_view_name": "StyleView",
      "description_width": ""
     }
    },
    "074566ca894a43b389a31dce458d9e15": {
     "model_module": "@jupyter-widgets/controls",
     "model_name": "DescriptionStyleModel",
     "state": {
      "_model_module": "@jupyter-widgets/controls",
      "_model_module_version": "1.5.0",
      "_model_name": "DescriptionStyleModel",
      "_view_count": null,
      "_view_module": "@jupyter-widgets/base",
      "_view_module_version": "1.2.0",
      "_view_name": "StyleView",
      "description_width": ""
     }
    },
    "07841006a33a4be89f98e1f1dc346bfc": {
     "model_module": "@jupyter-widgets/controls",
     "model_name": "DescriptionStyleModel",
     "state": {
      "_model_module": "@jupyter-widgets/controls",
      "_model_module_version": "1.5.0",
      "_model_name": "DescriptionStyleModel",
      "_view_count": null,
      "_view_module": "@jupyter-widgets/base",
      "_view_module_version": "1.2.0",
      "_view_name": "StyleView",
      "description_width": ""
     }
    },
    "07abe9c66f9b4cde89b0683b9b4ad5de": {
     "model_module": "@jupyter-widgets/base",
     "model_name": "LayoutModel",
     "state": {
      "_model_module": "@jupyter-widgets/base",
      "_model_module_version": "1.2.0",
      "_model_name": "LayoutModel",
      "_view_count": null,
      "_view_module": "@jupyter-widgets/base",
      "_view_module_version": "1.2.0",
      "_view_name": "LayoutView",
      "align_content": null,
      "align_items": null,
      "align_self": null,
      "border": null,
      "bottom": null,
      "display": null,
      "flex": null,
      "flex_flow": null,
      "grid_area": null,
      "grid_auto_columns": null,
      "grid_auto_flow": null,
      "grid_auto_rows": null,
      "grid_column": null,
      "grid_gap": null,
      "grid_row": null,
      "grid_template_areas": null,
      "grid_template_columns": null,
      "grid_template_rows": null,
      "height": null,
      "justify_content": null,
      "justify_items": null,
      "left": null,
      "margin": null,
      "max_height": null,
      "max_width": null,
      "min_height": null,
      "min_width": null,
      "object_fit": null,
      "object_position": null,
      "order": null,
      "overflow": null,
      "overflow_x": null,
      "overflow_y": null,
      "padding": null,
      "right": null,
      "top": null,
      "visibility": null,
      "width": null
     }
    },
    "099de3c6f5f54a1489d880b55ba8ee58": {
     "model_module": "@jupyter-widgets/base",
     "model_name": "LayoutModel",
     "state": {
      "_model_module": "@jupyter-widgets/base",
      "_model_module_version": "1.2.0",
      "_model_name": "LayoutModel",
      "_view_count": null,
      "_view_module": "@jupyter-widgets/base",
      "_view_module_version": "1.2.0",
      "_view_name": "LayoutView",
      "align_content": null,
      "align_items": null,
      "align_self": null,
      "border": null,
      "bottom": null,
      "display": null,
      "flex": null,
      "flex_flow": null,
      "grid_area": null,
      "grid_auto_columns": null,
      "grid_auto_flow": null,
      "grid_auto_rows": null,
      "grid_column": null,
      "grid_gap": null,
      "grid_row": null,
      "grid_template_areas": null,
      "grid_template_columns": null,
      "grid_template_rows": null,
      "height": null,
      "justify_content": null,
      "justify_items": null,
      "left": null,
      "margin": null,
      "max_height": null,
      "max_width": null,
      "min_height": null,
      "min_width": null,
      "object_fit": null,
      "object_position": null,
      "order": null,
      "overflow": null,
      "overflow_x": null,
      "overflow_y": null,
      "padding": null,
      "right": null,
      "top": null,
      "visibility": null,
      "width": null
     }
    },
    "0a802b56ce554c67a14c7e0a3edc1e2d": {
     "model_module": "@jupyter-widgets/controls",
     "model_name": "HTMLModel",
     "state": {
      "_dom_classes": [],
      "_model_module": "@jupyter-widgets/controls",
      "_model_module_version": "1.5.0",
      "_model_name": "HTMLModel",
      "_view_count": null,
      "_view_module": "@jupyter-widgets/controls",
      "_view_module_version": "1.5.0",
      "_view_name": "HTMLView",
      "description": "",
      "description_tooltip": null,
      "layout": "IPY_MODEL_00b1d1aafeb34ae1ab1a3298d91f2cd6",
      "placeholder": "​",
      "style": "IPY_MODEL_07841006a33a4be89f98e1f1dc346bfc",
      "value": " 5/5 [02:18&lt;00:00, 27.62s/it]"
     }
    },
    "0d7ad592648b4424bddcd83d70a842b5": {
     "model_module": "@jupyter-widgets/base",
     "model_name": "LayoutModel",
     "state": {
      "_model_module": "@jupyter-widgets/base",
      "_model_module_version": "1.2.0",
      "_model_name": "LayoutModel",
      "_view_count": null,
      "_view_module": "@jupyter-widgets/base",
      "_view_module_version": "1.2.0",
      "_view_name": "LayoutView",
      "align_content": null,
      "align_items": null,
      "align_self": null,
      "border": null,
      "bottom": null,
      "display": null,
      "flex": null,
      "flex_flow": null,
      "grid_area": null,
      "grid_auto_columns": null,
      "grid_auto_flow": null,
      "grid_auto_rows": null,
      "grid_column": null,
      "grid_gap": null,
      "grid_row": null,
      "grid_template_areas": null,
      "grid_template_columns": null,
      "grid_template_rows": null,
      "height": null,
      "justify_content": null,
      "justify_items": null,
      "left": null,
      "margin": null,
      "max_height": null,
      "max_width": null,
      "min_height": null,
      "min_width": null,
      "object_fit": null,
      "object_position": null,
      "order": null,
      "overflow": null,
      "overflow_x": null,
      "overflow_y": null,
      "padding": null,
      "right": null,
      "top": null,
      "visibility": null,
      "width": null
     }
    },
    "0eb389c8577447dfa43778c01b7d8276": {
     "model_module": "@jupyter-widgets/base",
     "model_name": "LayoutModel",
     "state": {
      "_model_module": "@jupyter-widgets/base",
      "_model_module_version": "1.2.0",
      "_model_name": "LayoutModel",
      "_view_count": null,
      "_view_module": "@jupyter-widgets/base",
      "_view_module_version": "1.2.0",
      "_view_name": "LayoutView",
      "align_content": null,
      "align_items": null,
      "align_self": null,
      "border": null,
      "bottom": null,
      "display": null,
      "flex": null,
      "flex_flow": null,
      "grid_area": null,
      "grid_auto_columns": null,
      "grid_auto_flow": null,
      "grid_auto_rows": null,
      "grid_column": null,
      "grid_gap": null,
      "grid_row": null,
      "grid_template_areas": null,
      "grid_template_columns": null,
      "grid_template_rows": null,
      "height": null,
      "justify_content": null,
      "justify_items": null,
      "left": null,
      "margin": null,
      "max_height": null,
      "max_width": null,
      "min_height": null,
      "min_width": null,
      "object_fit": null,
      "object_position": null,
      "order": null,
      "overflow": null,
      "overflow_x": null,
      "overflow_y": null,
      "padding": null,
      "right": null,
      "top": null,
      "visibility": null,
      "width": null
     }
    },
    "108129bdea894eb2be2615d8818c5081": {
     "model_module": "@jupyter-widgets/controls",
     "model_name": "FloatProgressModel",
     "state": {
      "_dom_classes": [],
      "_model_module": "@jupyter-widgets/controls",
      "_model_module_version": "1.5.0",
      "_model_name": "FloatProgressModel",
      "_view_count": null,
      "_view_module": "@jupyter-widgets/controls",
      "_view_module_version": "1.5.0",
      "_view_name": "ProgressView",
      "bar_style": "success",
      "description": "100%",
      "description_tooltip": null,
      "layout": "IPY_MODEL_1b4d3f68c42c4d30af2c0eccddf722cf",
      "max": 5,
      "min": 0,
      "orientation": "horizontal",
      "style": "IPY_MODEL_8a4e563939104ec9b132540f25e26eb6",
      "value": 5
     }
    },
    "1099863f0b2a4b2aab9a1467f5a6d3bc": {
     "model_module": "@jupyter-widgets/base",
     "model_name": "LayoutModel",
     "state": {
      "_model_module": "@jupyter-widgets/base",
      "_model_module_version": "1.2.0",
      "_model_name": "LayoutModel",
      "_view_count": null,
      "_view_module": "@jupyter-widgets/base",
      "_view_module_version": "1.2.0",
      "_view_name": "LayoutView",
      "align_content": null,
      "align_items": null,
      "align_self": null,
      "border": null,
      "bottom": null,
      "display": null,
      "flex": null,
      "flex_flow": null,
      "grid_area": null,
      "grid_auto_columns": null,
      "grid_auto_flow": null,
      "grid_auto_rows": null,
      "grid_column": null,
      "grid_gap": null,
      "grid_row": null,
      "grid_template_areas": null,
      "grid_template_columns": null,
      "grid_template_rows": null,
      "height": null,
      "justify_content": null,
      "justify_items": null,
      "left": null,
      "margin": null,
      "max_height": null,
      "max_width": null,
      "min_height": null,
      "min_width": null,
      "object_fit": null,
      "object_position": null,
      "order": null,
      "overflow": null,
      "overflow_x": null,
      "overflow_y": null,
      "padding": null,
      "right": null,
      "top": null,
      "visibility": null,
      "width": null
     }
    },
    "11eb954fab934ecfa0c026645195d108": {
     "model_module": "@jupyter-widgets/base",
     "model_name": "LayoutModel",
     "state": {
      "_model_module": "@jupyter-widgets/base",
      "_model_module_version": "1.2.0",
      "_model_name": "LayoutModel",
      "_view_count": null,
      "_view_module": "@jupyter-widgets/base",
      "_view_module_version": "1.2.0",
      "_view_name": "LayoutView",
      "align_content": null,
      "align_items": null,
      "align_self": null,
      "border": null,
      "bottom": null,
      "display": null,
      "flex": null,
      "flex_flow": null,
      "grid_area": null,
      "grid_auto_columns": null,
      "grid_auto_flow": null,
      "grid_auto_rows": null,
      "grid_column": null,
      "grid_gap": null,
      "grid_row": null,
      "grid_template_areas": null,
      "grid_template_columns": null,
      "grid_template_rows": null,
      "height": null,
      "justify_content": null,
      "justify_items": null,
      "left": null,
      "margin": null,
      "max_height": null,
      "max_width": null,
      "min_height": null,
      "min_width": null,
      "object_fit": null,
      "object_position": null,
      "order": null,
      "overflow": null,
      "overflow_x": null,
      "overflow_y": null,
      "padding": null,
      "right": null,
      "top": null,
      "visibility": null,
      "width": null
     }
    },
    "149007f404fe4e77a69dacf40639c81c": {
     "model_module": "@jupyter-widgets/controls",
     "model_name": "HTMLModel",
     "state": {
      "_dom_classes": [],
      "_model_module": "@jupyter-widgets/controls",
      "_model_module_version": "1.5.0",
      "_model_name": "HTMLModel",
      "_view_count": null,
      "_view_module": "@jupyter-widgets/controls",
      "_view_module_version": "1.5.0",
      "_view_name": "HTMLView",
      "description": "",
      "description_tooltip": null,
      "layout": "IPY_MODEL_b8fd2d590f494008aaa64d9714724670",
      "placeholder": "​",
      "style": "IPY_MODEL_074566ca894a43b389a31dce458d9e15",
      "value": " 5/5 [04:11&lt;00:00, 50.21s/it]"
     }
    },
    "1a4569ba50eb42e7bd35be9d3d6b2e75": {
     "model_module": "@jupyter-widgets/controls",
     "model_name": "ProgressStyleModel",
     "state": {
      "_model_module": "@jupyter-widgets/controls",
      "_model_module_version": "1.5.0",
      "_model_name": "ProgressStyleModel",
      "_view_count": null,
      "_view_module": "@jupyter-widgets/base",
      "_view_module_version": "1.2.0",
      "_view_name": "StyleView",
      "bar_color": null,
      "description_width": "initial"
     }
    },
    "1b4d3f68c42c4d30af2c0eccddf722cf": {
     "model_module": "@jupyter-widgets/base",
     "model_name": "LayoutModel",
     "state": {
      "_model_module": "@jupyter-widgets/base",
      "_model_module_version": "1.2.0",
      "_model_name": "LayoutModel",
      "_view_count": null,
      "_view_module": "@jupyter-widgets/base",
      "_view_module_version": "1.2.0",
      "_view_name": "LayoutView",
      "align_content": null,
      "align_items": null,
      "align_self": null,
      "border": null,
      "bottom": null,
      "display": null,
      "flex": null,
      "flex_flow": null,
      "grid_area": null,
      "grid_auto_columns": null,
      "grid_auto_flow": null,
      "grid_auto_rows": null,
      "grid_column": null,
      "grid_gap": null,
      "grid_row": null,
      "grid_template_areas": null,
      "grid_template_columns": null,
      "grid_template_rows": null,
      "height": null,
      "justify_content": null,
      "justify_items": null,
      "left": null,
      "margin": null,
      "max_height": null,
      "max_width": null,
      "min_height": null,
      "min_width": null,
      "object_fit": null,
      "object_position": null,
      "order": null,
      "overflow": null,
      "overflow_x": null,
      "overflow_y": null,
      "padding": null,
      "right": null,
      "top": null,
      "visibility": null,
      "width": null
     }
    },
    "1c450332d03643b4bd93692bdc4633ae": {
     "model_module": "@jupyter-widgets/controls",
     "model_name": "FloatProgressModel",
     "state": {
      "_dom_classes": [],
      "_model_module": "@jupyter-widgets/controls",
      "_model_module_version": "1.5.0",
      "_model_name": "FloatProgressModel",
      "_view_count": null,
      "_view_module": "@jupyter-widgets/controls",
      "_view_module_version": "1.5.0",
      "_view_name": "ProgressView",
      "bar_style": "success",
      "description": "100%",
      "description_tooltip": null,
      "layout": "IPY_MODEL_81f898ccd8e244f79be236e0cc3e939d",
      "max": 5,
      "min": 0,
      "orientation": "horizontal",
      "style": "IPY_MODEL_3fccb0b80b7f4218804561882c00515f",
      "value": 5
     }
    },
    "1ca2100a20e140f1854c0cdb756078cd": {
     "model_module": "@jupyter-widgets/controls",
     "model_name": "ProgressStyleModel",
     "state": {
      "_model_module": "@jupyter-widgets/controls",
      "_model_module_version": "1.5.0",
      "_model_name": "ProgressStyleModel",
      "_view_count": null,
      "_view_module": "@jupyter-widgets/base",
      "_view_module_version": "1.2.0",
      "_view_name": "StyleView",
      "bar_color": null,
      "description_width": "initial"
     }
    },
    "1cefec8d7a1e43ad938d58888d6089ea": {
     "model_module": "@jupyter-widgets/controls",
     "model_name": "ProgressStyleModel",
     "state": {
      "_model_module": "@jupyter-widgets/controls",
      "_model_module_version": "1.5.0",
      "_model_name": "ProgressStyleModel",
      "_view_count": null,
      "_view_module": "@jupyter-widgets/base",
      "_view_module_version": "1.2.0",
      "_view_name": "StyleView",
      "bar_color": null,
      "description_width": "initial"
     }
    },
    "1d2274ec2b75408abf7a8c174a93c639": {
     "model_module": "@jupyter-widgets/controls",
     "model_name": "HTMLModel",
     "state": {
      "_dom_classes": [],
      "_model_module": "@jupyter-widgets/controls",
      "_model_module_version": "1.5.0",
      "_model_name": "HTMLModel",
      "_view_count": null,
      "_view_module": "@jupyter-widgets/controls",
      "_view_module_version": "1.5.0",
      "_view_name": "HTMLView",
      "description": "",
      "description_tooltip": null,
      "layout": "IPY_MODEL_7b6aeec6e5ec4f3c9db5ac1b9cee6ab8",
      "placeholder": "​",
      "style": "IPY_MODEL_6427bd8885b844729af34917490c4bd4",
      "value": " 5/5 [04:40&lt;00:00, 56.08s/it]"
     }
    },
    "1d482a3b8b72463f818755ba7f920b4c": {
     "model_module": "@jupyter-widgets/controls",
     "model_name": "DescriptionStyleModel",
     "state": {
      "_model_module": "@jupyter-widgets/controls",
      "_model_module_version": "1.5.0",
      "_model_name": "DescriptionStyleModel",
      "_view_count": null,
      "_view_module": "@jupyter-widgets/base",
      "_view_module_version": "1.2.0",
      "_view_name": "StyleView",
      "description_width": ""
     }
    },
    "1d647859d90c4c53a310311001050db4": {
     "model_module": "@jupyter-widgets/base",
     "model_name": "LayoutModel",
     "state": {
      "_model_module": "@jupyter-widgets/base",
      "_model_module_version": "1.2.0",
      "_model_name": "LayoutModel",
      "_view_count": null,
      "_view_module": "@jupyter-widgets/base",
      "_view_module_version": "1.2.0",
      "_view_name": "LayoutView",
      "align_content": null,
      "align_items": null,
      "align_self": null,
      "border": null,
      "bottom": null,
      "display": null,
      "flex": null,
      "flex_flow": null,
      "grid_area": null,
      "grid_auto_columns": null,
      "grid_auto_flow": null,
      "grid_auto_rows": null,
      "grid_column": null,
      "grid_gap": null,
      "grid_row": null,
      "grid_template_areas": null,
      "grid_template_columns": null,
      "grid_template_rows": null,
      "height": null,
      "justify_content": null,
      "justify_items": null,
      "left": null,
      "margin": null,
      "max_height": null,
      "max_width": null,
      "min_height": null,
      "min_width": null,
      "object_fit": null,
      "object_position": null,
      "order": null,
      "overflow": null,
      "overflow_x": null,
      "overflow_y": null,
      "padding": null,
      "right": null,
      "top": null,
      "visibility": null,
      "width": null
     }
    },
    "1d867217aa0543028d2fba8eb1acb38f": {
     "model_module": "@jupyter-widgets/controls",
     "model_name": "FloatProgressModel",
     "state": {
      "_dom_classes": [],
      "_model_module": "@jupyter-widgets/controls",
      "_model_module_version": "1.5.0",
      "_model_name": "FloatProgressModel",
      "_view_count": null,
      "_view_module": "@jupyter-widgets/controls",
      "_view_module_version": "1.5.0",
      "_view_name": "ProgressView",
      "bar_style": "success",
      "description": "100%",
      "description_tooltip": null,
      "layout": "IPY_MODEL_7e156dfdf8a945bb8be3dcc01c6de8ef",
      "max": 5,
      "min": 0,
      "orientation": "horizontal",
      "style": "IPY_MODEL_da131e358dfa4363a41a0029fd1bf799",
      "value": 5
     }
    },
    "1f72871a7f2648e59ca56fb089413ad3": {
     "model_module": "@jupyter-widgets/controls",
     "model_name": "DescriptionStyleModel",
     "state": {
      "_model_module": "@jupyter-widgets/controls",
      "_model_module_version": "1.5.0",
      "_model_name": "DescriptionStyleModel",
      "_view_count": null,
      "_view_module": "@jupyter-widgets/base",
      "_view_module_version": "1.2.0",
      "_view_name": "StyleView",
      "description_width": ""
     }
    },
    "212c1894535b441a86811b5efc55df63": {
     "model_module": "@jupyter-widgets/base",
     "model_name": "LayoutModel",
     "state": {
      "_model_module": "@jupyter-widgets/base",
      "_model_module_version": "1.2.0",
      "_model_name": "LayoutModel",
      "_view_count": null,
      "_view_module": "@jupyter-widgets/base",
      "_view_module_version": "1.2.0",
      "_view_name": "LayoutView",
      "align_content": null,
      "align_items": null,
      "align_self": null,
      "border": null,
      "bottom": null,
      "display": null,
      "flex": null,
      "flex_flow": null,
      "grid_area": null,
      "grid_auto_columns": null,
      "grid_auto_flow": null,
      "grid_auto_rows": null,
      "grid_column": null,
      "grid_gap": null,
      "grid_row": null,
      "grid_template_areas": null,
      "grid_template_columns": null,
      "grid_template_rows": null,
      "height": null,
      "justify_content": null,
      "justify_items": null,
      "left": null,
      "margin": null,
      "max_height": null,
      "max_width": null,
      "min_height": null,
      "min_width": null,
      "object_fit": null,
      "object_position": null,
      "order": null,
      "overflow": null,
      "overflow_x": null,
      "overflow_y": null,
      "padding": null,
      "right": null,
      "top": null,
      "visibility": null,
      "width": null
     }
    },
    "2a8f1e7a86d14e64b58868315d57e41b": {
     "model_module": "@jupyter-widgets/controls",
     "model_name": "DescriptionStyleModel",
     "state": {
      "_model_module": "@jupyter-widgets/controls",
      "_model_module_version": "1.5.0",
      "_model_name": "DescriptionStyleModel",
      "_view_count": null,
      "_view_module": "@jupyter-widgets/base",
      "_view_module_version": "1.2.0",
      "_view_name": "StyleView",
      "description_width": ""
     }
    },
    "2ac3b6438a6149cdb117c413a70620ce": {
     "model_module": "@jupyter-widgets/base",
     "model_name": "LayoutModel",
     "state": {
      "_model_module": "@jupyter-widgets/base",
      "_model_module_version": "1.2.0",
      "_model_name": "LayoutModel",
      "_view_count": null,
      "_view_module": "@jupyter-widgets/base",
      "_view_module_version": "1.2.0",
      "_view_name": "LayoutView",
      "align_content": null,
      "align_items": null,
      "align_self": null,
      "border": null,
      "bottom": null,
      "display": null,
      "flex": null,
      "flex_flow": null,
      "grid_area": null,
      "grid_auto_columns": null,
      "grid_auto_flow": null,
      "grid_auto_rows": null,
      "grid_column": null,
      "grid_gap": null,
      "grid_row": null,
      "grid_template_areas": null,
      "grid_template_columns": null,
      "grid_template_rows": null,
      "height": null,
      "justify_content": null,
      "justify_items": null,
      "left": null,
      "margin": null,
      "max_height": null,
      "max_width": null,
      "min_height": null,
      "min_width": null,
      "object_fit": null,
      "object_position": null,
      "order": null,
      "overflow": null,
      "overflow_x": null,
      "overflow_y": null,
      "padding": null,
      "right": null,
      "top": null,
      "visibility": null,
      "width": null
     }
    },
    "2aebc87901fa4b07aa9852a3a66beef6": {
     "model_module": "@jupyter-widgets/controls",
     "model_name": "HTMLModel",
     "state": {
      "_dom_classes": [],
      "_model_module": "@jupyter-widgets/controls",
      "_model_module_version": "1.5.0",
      "_model_name": "HTMLModel",
      "_view_count": null,
      "_view_module": "@jupyter-widgets/controls",
      "_view_module_version": "1.5.0",
      "_view_name": "HTMLView",
      "description": "",
      "description_tooltip": null,
      "layout": "IPY_MODEL_863c5d238ab7463fb11b758f6897231f",
      "placeholder": "​",
      "style": "IPY_MODEL_2a8f1e7a86d14e64b58868315d57e41b",
      "value": " 5/5 [02:16&lt;00:00, 27.28s/it]"
     }
    },
    "2bf491db94f345139409fefdf0cf8046": {
     "model_module": "@jupyter-widgets/controls",
     "model_name": "HBoxModel",
     "state": {
      "_dom_classes": [],
      "_model_module": "@jupyter-widgets/controls",
      "_model_module_version": "1.5.0",
      "_model_name": "HBoxModel",
      "_view_count": null,
      "_view_module": "@jupyter-widgets/controls",
      "_view_module_version": "1.5.0",
      "_view_name": "HBoxView",
      "box_style": "",
      "children": [
       "IPY_MODEL_108129bdea894eb2be2615d8818c5081",
       "IPY_MODEL_0a802b56ce554c67a14c7e0a3edc1e2d"
      ],
      "layout": "IPY_MODEL_4cda6c9e2c0a4b3083bbee084ef3b093"
     }
    },
    "2e0ac1b50f974cc997e97e366ca4014f": {
     "model_module": "@jupyter-widgets/controls",
     "model_name": "HTMLModel",
     "state": {
      "_dom_classes": [],
      "_model_module": "@jupyter-widgets/controls",
      "_model_module_version": "1.5.0",
      "_model_name": "HTMLModel",
      "_view_count": null,
      "_view_module": "@jupyter-widgets/controls",
      "_view_module_version": "1.5.0",
      "_view_name": "HTMLView",
      "description": "",
      "description_tooltip": null,
      "layout": "IPY_MODEL_a2a81e3789ce4db2bf2f17f2114ee948",
      "placeholder": "​",
      "style": "IPY_MODEL_1d482a3b8b72463f818755ba7f920b4c",
      "value": " 5/5 [03:39&lt;00:00, 43.96s/it]"
     }
    },
    "2f1ef080bd6742f18a2366ff89d0d2df": {
     "model_module": "@jupyter-widgets/base",
     "model_name": "LayoutModel",
     "state": {
      "_model_module": "@jupyter-widgets/base",
      "_model_module_version": "1.2.0",
      "_model_name": "LayoutModel",
      "_view_count": null,
      "_view_module": "@jupyter-widgets/base",
      "_view_module_version": "1.2.0",
      "_view_name": "LayoutView",
      "align_content": null,
      "align_items": null,
      "align_self": null,
      "border": null,
      "bottom": null,
      "display": null,
      "flex": null,
      "flex_flow": null,
      "grid_area": null,
      "grid_auto_columns": null,
      "grid_auto_flow": null,
      "grid_auto_rows": null,
      "grid_column": null,
      "grid_gap": null,
      "grid_row": null,
      "grid_template_areas": null,
      "grid_template_columns": null,
      "grid_template_rows": null,
      "height": null,
      "justify_content": null,
      "justify_items": null,
      "left": null,
      "margin": null,
      "max_height": null,
      "max_width": null,
      "min_height": null,
      "min_width": null,
      "object_fit": null,
      "object_position": null,
      "order": null,
      "overflow": null,
      "overflow_x": null,
      "overflow_y": null,
      "padding": null,
      "right": null,
      "top": null,
      "visibility": null,
      "width": null
     }
    },
    "30dcce008dca4324875dbd5d14e91ae5": {
     "model_module": "@jupyter-widgets/controls",
     "model_name": "FloatProgressModel",
     "state": {
      "_dom_classes": [],
      "_model_module": "@jupyter-widgets/controls",
      "_model_module_version": "1.5.0",
      "_model_name": "FloatProgressModel",
      "_view_count": null,
      "_view_module": "@jupyter-widgets/controls",
      "_view_module_version": "1.5.0",
      "_view_name": "ProgressView",
      "bar_style": "success",
      "description": "100%",
      "description_tooltip": null,
      "layout": "IPY_MODEL_3dee94fe5fea4e62938c6caa96af6799",
      "max": 5,
      "min": 0,
      "orientation": "horizontal",
      "style": "IPY_MODEL_531f4427cffd4175a3b3b62de2f13a28",
      "value": 5
     }
    },
    "322ab4561d08464ba8c6cc4f4e7beb5c": {
     "model_module": "@jupyter-widgets/base",
     "model_name": "LayoutModel",
     "state": {
      "_model_module": "@jupyter-widgets/base",
      "_model_module_version": "1.2.0",
      "_model_name": "LayoutModel",
      "_view_count": null,
      "_view_module": "@jupyter-widgets/base",
      "_view_module_version": "1.2.0",
      "_view_name": "LayoutView",
      "align_content": null,
      "align_items": null,
      "align_self": null,
      "border": null,
      "bottom": null,
      "display": null,
      "flex": null,
      "flex_flow": null,
      "grid_area": null,
      "grid_auto_columns": null,
      "grid_auto_flow": null,
      "grid_auto_rows": null,
      "grid_column": null,
      "grid_gap": null,
      "grid_row": null,
      "grid_template_areas": null,
      "grid_template_columns": null,
      "grid_template_rows": null,
      "height": null,
      "justify_content": null,
      "justify_items": null,
      "left": null,
      "margin": null,
      "max_height": null,
      "max_width": null,
      "min_height": null,
      "min_width": null,
      "object_fit": null,
      "object_position": null,
      "order": null,
      "overflow": null,
      "overflow_x": null,
      "overflow_y": null,
      "padding": null,
      "right": null,
      "top": null,
      "visibility": null,
      "width": null
     }
    },
    "340f07f32e92473ab681223719ebb66a": {
     "model_module": "@jupyter-widgets/controls",
     "model_name": "FloatProgressModel",
     "state": {
      "_dom_classes": [],
      "_model_module": "@jupyter-widgets/controls",
      "_model_module_version": "1.5.0",
      "_model_name": "FloatProgressModel",
      "_view_count": null,
      "_view_module": "@jupyter-widgets/controls",
      "_view_module_version": "1.5.0",
      "_view_name": "ProgressView",
      "bar_style": "success",
      "description": "100%",
      "description_tooltip": null,
      "layout": "IPY_MODEL_bce885834f6f49669dd655107c3d328d",
      "max": 5,
      "min": 0,
      "orientation": "horizontal",
      "style": "IPY_MODEL_c28d2bee3ef44d24b659921402b59104",
      "value": 5
     }
    },
    "34b660592a484b4583683e293af63afb": {
     "model_module": "@jupyter-widgets/controls",
     "model_name": "HBoxModel",
     "state": {
      "_dom_classes": [],
      "_model_module": "@jupyter-widgets/controls",
      "_model_module_version": "1.5.0",
      "_model_name": "HBoxModel",
      "_view_count": null,
      "_view_module": "@jupyter-widgets/controls",
      "_view_module_version": "1.5.0",
      "_view_name": "HBoxView",
      "box_style": "",
      "children": [
       "IPY_MODEL_94664029c3f54a70b77551d9441656ce",
       "IPY_MODEL_f307a7bee5d044b2918252ee679a8443"
      ],
      "layout": "IPY_MODEL_87becdd85ba4414397d18bc25a630776"
     }
    },
    "35068a530f0345a7b61cad88c164c14c": {
     "model_module": "@jupyter-widgets/controls",
     "model_name": "HTMLModel",
     "state": {
      "_dom_classes": [],
      "_model_module": "@jupyter-widgets/controls",
      "_model_module_version": "1.5.0",
      "_model_name": "HTMLModel",
      "_view_count": null,
      "_view_module": "@jupyter-widgets/controls",
      "_view_module_version": "1.5.0",
      "_view_name": "HTMLView",
      "description": "",
      "description_tooltip": null,
      "layout": "IPY_MODEL_666506bbc00045a68f52493d4a31d992",
      "placeholder": "​",
      "style": "IPY_MODEL_a66d38f58b5b4b2698e91834ef428326",
      "value": " 5/5 [04:40&lt;00:00, 56.01s/it]"
     }
    },
    "360f2eac712a4ea899e617223ce10c7e": {
     "model_module": "@jupyter-widgets/controls",
     "model_name": "HBoxModel",
     "state": {
      "_dom_classes": [],
      "_model_module": "@jupyter-widgets/controls",
      "_model_module_version": "1.5.0",
      "_model_name": "HBoxModel",
      "_view_count": null,
      "_view_module": "@jupyter-widgets/controls",
      "_view_module_version": "1.5.0",
      "_view_name": "HBoxView",
      "box_style": "",
      "children": [
       "IPY_MODEL_a6eb5e80e1a14e539c9152bd53d41371",
       "IPY_MODEL_2e0ac1b50f974cc997e97e366ca4014f"
      ],
      "layout": "IPY_MODEL_6d60d30067874deea2e5280aa3118044"
     }
    },
    "3972394587f243fab8bc27ec3c13ad00": {
     "model_module": "@jupyter-widgets/base",
     "model_name": "LayoutModel",
     "state": {
      "_model_module": "@jupyter-widgets/base",
      "_model_module_version": "1.2.0",
      "_model_name": "LayoutModel",
      "_view_count": null,
      "_view_module": "@jupyter-widgets/base",
      "_view_module_version": "1.2.0",
      "_view_name": "LayoutView",
      "align_content": null,
      "align_items": null,
      "align_self": null,
      "border": null,
      "bottom": null,
      "display": null,
      "flex": null,
      "flex_flow": null,
      "grid_area": null,
      "grid_auto_columns": null,
      "grid_auto_flow": null,
      "grid_auto_rows": null,
      "grid_column": null,
      "grid_gap": null,
      "grid_row": null,
      "grid_template_areas": null,
      "grid_template_columns": null,
      "grid_template_rows": null,
      "height": null,
      "justify_content": null,
      "justify_items": null,
      "left": null,
      "margin": null,
      "max_height": null,
      "max_width": null,
      "min_height": null,
      "min_width": null,
      "object_fit": null,
      "object_position": null,
      "order": null,
      "overflow": null,
      "overflow_x": null,
      "overflow_y": null,
      "padding": null,
      "right": null,
      "top": null,
      "visibility": null,
      "width": null
     }
    },
    "3db5e477a0504b47bbe8c84dc8ebd969": {
     "model_module": "@jupyter-widgets/controls",
     "model_name": "FloatProgressModel",
     "state": {
      "_dom_classes": [],
      "_model_module": "@jupyter-widgets/controls",
      "_model_module_version": "1.5.0",
      "_model_name": "FloatProgressModel",
      "_view_count": null,
      "_view_module": "@jupyter-widgets/controls",
      "_view_module_version": "1.5.0",
      "_view_name": "ProgressView",
      "bar_style": "success",
      "description": "100%",
      "description_tooltip": null,
      "layout": "IPY_MODEL_dc043da0d8234ef7b0b048ec1b0187df",
      "max": 5,
      "min": 0,
      "orientation": "horizontal",
      "style": "IPY_MODEL_c3a3e6316f8a4c1f9e561d832d81978a",
      "value": 5
     }
    },
    "3dee94fe5fea4e62938c6caa96af6799": {
     "model_module": "@jupyter-widgets/base",
     "model_name": "LayoutModel",
     "state": {
      "_model_module": "@jupyter-widgets/base",
      "_model_module_version": "1.2.0",
      "_model_name": "LayoutModel",
      "_view_count": null,
      "_view_module": "@jupyter-widgets/base",
      "_view_module_version": "1.2.0",
      "_view_name": "LayoutView",
      "align_content": null,
      "align_items": null,
      "align_self": null,
      "border": null,
      "bottom": null,
      "display": null,
      "flex": null,
      "flex_flow": null,
      "grid_area": null,
      "grid_auto_columns": null,
      "grid_auto_flow": null,
      "grid_auto_rows": null,
      "grid_column": null,
      "grid_gap": null,
      "grid_row": null,
      "grid_template_areas": null,
      "grid_template_columns": null,
      "grid_template_rows": null,
      "height": null,
      "justify_content": null,
      "justify_items": null,
      "left": null,
      "margin": null,
      "max_height": null,
      "max_width": null,
      "min_height": null,
      "min_width": null,
      "object_fit": null,
      "object_position": null,
      "order": null,
      "overflow": null,
      "overflow_x": null,
      "overflow_y": null,
      "padding": null,
      "right": null,
      "top": null,
      "visibility": null,
      "width": null
     }
    },
    "3fccb0b80b7f4218804561882c00515f": {
     "model_module": "@jupyter-widgets/controls",
     "model_name": "ProgressStyleModel",
     "state": {
      "_model_module": "@jupyter-widgets/controls",
      "_model_module_version": "1.5.0",
      "_model_name": "ProgressStyleModel",
      "_view_count": null,
      "_view_module": "@jupyter-widgets/base",
      "_view_module_version": "1.2.0",
      "_view_name": "StyleView",
      "bar_color": null,
      "description_width": "initial"
     }
    },
    "4170752352464201a21b3987a906fe7c": {
     "model_module": "@jupyter-widgets/controls",
     "model_name": "HTMLModel",
     "state": {
      "_dom_classes": [],
      "_model_module": "@jupyter-widgets/controls",
      "_model_module_version": "1.5.0",
      "_model_name": "HTMLModel",
      "_view_count": null,
      "_view_module": "@jupyter-widgets/controls",
      "_view_module_version": "1.5.0",
      "_view_name": "HTMLView",
      "description": "",
      "description_tooltip": null,
      "layout": "IPY_MODEL_8e1aa29c65764559bd8113e158d0c07f",
      "placeholder": "​",
      "style": "IPY_MODEL_c5c5ec55c91447c98063e7ff85a8d8cf",
      "value": " 5/5 [02:17&lt;00:00, 27.56s/it]"
     }
    },
    "43ed5695a8e04f3bb7aa412e17690828": {
     "model_module": "@jupyter-widgets/controls",
     "model_name": "FloatProgressModel",
     "state": {
      "_dom_classes": [],
      "_model_module": "@jupyter-widgets/controls",
      "_model_module_version": "1.5.0",
      "_model_name": "FloatProgressModel",
      "_view_count": null,
      "_view_module": "@jupyter-widgets/controls",
      "_view_module_version": "1.5.0",
      "_view_name": "ProgressView",
      "bar_style": "success",
      "description": "100%",
      "description_tooltip": null,
      "layout": "IPY_MODEL_00e0df9191c54da9b2cb0c4ae6044158",
      "max": 5,
      "min": 0,
      "orientation": "horizontal",
      "style": "IPY_MODEL_de4958ff6a604c049ccb4d95ae26c3a0",
      "value": 5
     }
    },
    "455e735de05c411aa68c1c39d709fb3c": {
     "model_module": "@jupyter-widgets/base",
     "model_name": "LayoutModel",
     "state": {
      "_model_module": "@jupyter-widgets/base",
      "_model_module_version": "1.2.0",
      "_model_name": "LayoutModel",
      "_view_count": null,
      "_view_module": "@jupyter-widgets/base",
      "_view_module_version": "1.2.0",
      "_view_name": "LayoutView",
      "align_content": null,
      "align_items": null,
      "align_self": null,
      "border": null,
      "bottom": null,
      "display": null,
      "flex": null,
      "flex_flow": null,
      "grid_area": null,
      "grid_auto_columns": null,
      "grid_auto_flow": null,
      "grid_auto_rows": null,
      "grid_column": null,
      "grid_gap": null,
      "grid_row": null,
      "grid_template_areas": null,
      "grid_template_columns": null,
      "grid_template_rows": null,
      "height": null,
      "justify_content": null,
      "justify_items": null,
      "left": null,
      "margin": null,
      "max_height": null,
      "max_width": null,
      "min_height": null,
      "min_width": null,
      "object_fit": null,
      "object_position": null,
      "order": null,
      "overflow": null,
      "overflow_x": null,
      "overflow_y": null,
      "padding": null,
      "right": null,
      "top": null,
      "visibility": null,
      "width": null
     }
    },
    "464bd262f31942c4bca6e2b5597853f9": {
     "model_module": "@jupyter-widgets/base",
     "model_name": "LayoutModel",
     "state": {
      "_model_module": "@jupyter-widgets/base",
      "_model_module_version": "1.2.0",
      "_model_name": "LayoutModel",
      "_view_count": null,
      "_view_module": "@jupyter-widgets/base",
      "_view_module_version": "1.2.0",
      "_view_name": "LayoutView",
      "align_content": null,
      "align_items": null,
      "align_self": null,
      "border": null,
      "bottom": null,
      "display": null,
      "flex": null,
      "flex_flow": null,
      "grid_area": null,
      "grid_auto_columns": null,
      "grid_auto_flow": null,
      "grid_auto_rows": null,
      "grid_column": null,
      "grid_gap": null,
      "grid_row": null,
      "grid_template_areas": null,
      "grid_template_columns": null,
      "grid_template_rows": null,
      "height": null,
      "justify_content": null,
      "justify_items": null,
      "left": null,
      "margin": null,
      "max_height": null,
      "max_width": null,
      "min_height": null,
      "min_width": null,
      "object_fit": null,
      "object_position": null,
      "order": null,
      "overflow": null,
      "overflow_x": null,
      "overflow_y": null,
      "padding": null,
      "right": null,
      "top": null,
      "visibility": null,
      "width": null
     }
    },
    "4700bf71d222483d8f79e4a514bea7f3": {
     "model_module": "@jupyter-widgets/base",
     "model_name": "LayoutModel",
     "state": {
      "_model_module": "@jupyter-widgets/base",
      "_model_module_version": "1.2.0",
      "_model_name": "LayoutModel",
      "_view_count": null,
      "_view_module": "@jupyter-widgets/base",
      "_view_module_version": "1.2.0",
      "_view_name": "LayoutView",
      "align_content": null,
      "align_items": null,
      "align_self": null,
      "border": null,
      "bottom": null,
      "display": null,
      "flex": null,
      "flex_flow": null,
      "grid_area": null,
      "grid_auto_columns": null,
      "grid_auto_flow": null,
      "grid_auto_rows": null,
      "grid_column": null,
      "grid_gap": null,
      "grid_row": null,
      "grid_template_areas": null,
      "grid_template_columns": null,
      "grid_template_rows": null,
      "height": null,
      "justify_content": null,
      "justify_items": null,
      "left": null,
      "margin": null,
      "max_height": null,
      "max_width": null,
      "min_height": null,
      "min_width": null,
      "object_fit": null,
      "object_position": null,
      "order": null,
      "overflow": null,
      "overflow_x": null,
      "overflow_y": null,
      "padding": null,
      "right": null,
      "top": null,
      "visibility": null,
      "width": null
     }
    },
    "4760405b4cfd4db1a2071db41f6d5c4a": {
     "model_module": "@jupyter-widgets/base",
     "model_name": "LayoutModel",
     "state": {
      "_model_module": "@jupyter-widgets/base",
      "_model_module_version": "1.2.0",
      "_model_name": "LayoutModel",
      "_view_count": null,
      "_view_module": "@jupyter-widgets/base",
      "_view_module_version": "1.2.0",
      "_view_name": "LayoutView",
      "align_content": null,
      "align_items": null,
      "align_self": null,
      "border": null,
      "bottom": null,
      "display": null,
      "flex": null,
      "flex_flow": null,
      "grid_area": null,
      "grid_auto_columns": null,
      "grid_auto_flow": null,
      "grid_auto_rows": null,
      "grid_column": null,
      "grid_gap": null,
      "grid_row": null,
      "grid_template_areas": null,
      "grid_template_columns": null,
      "grid_template_rows": null,
      "height": null,
      "justify_content": null,
      "justify_items": null,
      "left": null,
      "margin": null,
      "max_height": null,
      "max_width": null,
      "min_height": null,
      "min_width": null,
      "object_fit": null,
      "object_position": null,
      "order": null,
      "overflow": null,
      "overflow_x": null,
      "overflow_y": null,
      "padding": null,
      "right": null,
      "top": null,
      "visibility": null,
      "width": null
     }
    },
    "47eec56e4492404198822cc8ed5139e8": {
     "model_module": "@jupyter-widgets/controls",
     "model_name": "DescriptionStyleModel",
     "state": {
      "_model_module": "@jupyter-widgets/controls",
      "_model_module_version": "1.5.0",
      "_model_name": "DescriptionStyleModel",
      "_view_count": null,
      "_view_module": "@jupyter-widgets/base",
      "_view_module_version": "1.2.0",
      "_view_name": "StyleView",
      "description_width": ""
     }
    },
    "49e3698da4dc42c59805440df8fee0e5": {
     "model_module": "@jupyter-widgets/controls",
     "model_name": "DescriptionStyleModel",
     "state": {
      "_model_module": "@jupyter-widgets/controls",
      "_model_module_version": "1.5.0",
      "_model_name": "DescriptionStyleModel",
      "_view_count": null,
      "_view_module": "@jupyter-widgets/base",
      "_view_module_version": "1.2.0",
      "_view_name": "StyleView",
      "description_width": ""
     }
    },
    "4ac9fe87749742d9b3f99312bd6432bb": {
     "model_module": "@jupyter-widgets/controls",
     "model_name": "FloatProgressModel",
     "state": {
      "_dom_classes": [],
      "_model_module": "@jupyter-widgets/controls",
      "_model_module_version": "1.5.0",
      "_model_name": "FloatProgressModel",
      "_view_count": null,
      "_view_module": "@jupyter-widgets/controls",
      "_view_module_version": "1.5.0",
      "_view_name": "ProgressView",
      "bar_style": "success",
      "description": "100%",
      "description_tooltip": null,
      "layout": "IPY_MODEL_d8451fe8251249e3a2a54ca298fb4553",
      "max": 5,
      "min": 0,
      "orientation": "horizontal",
      "style": "IPY_MODEL_d6a64e14009c462facda0d418e143b7b",
      "value": 5
     }
    },
    "4af5b737d867494785ef6ef12924068a": {
     "model_module": "@jupyter-widgets/controls",
     "model_name": "HTMLModel",
     "state": {
      "_dom_classes": [],
      "_model_module": "@jupyter-widgets/controls",
      "_model_module_version": "1.5.0",
      "_model_name": "HTMLModel",
      "_view_count": null,
      "_view_module": "@jupyter-widgets/controls",
      "_view_module_version": "1.5.0",
      "_view_name": "HTMLView",
      "description": "",
      "description_tooltip": null,
      "layout": "IPY_MODEL_d98220e895ed4cff84d330142177bcae",
      "placeholder": "​",
      "style": "IPY_MODEL_dce95202831c4a14beea2f252f082a9a",
      "value": " 5/5 [04:07&lt;00:00, 49.52s/it]"
     }
    },
    "4b04cbd2f5994ee985d66e3910fdfc2f": {
     "model_module": "@jupyter-widgets/controls",
     "model_name": "ProgressStyleModel",
     "state": {
      "_model_module": "@jupyter-widgets/controls",
      "_model_module_version": "1.5.0",
      "_model_name": "ProgressStyleModel",
      "_view_count": null,
      "_view_module": "@jupyter-widgets/base",
      "_view_module_version": "1.2.0",
      "_view_name": "StyleView",
      "bar_color": null,
      "description_width": "initial"
     }
    },
    "4c8c3e324af046b6a160f027e3265526": {
     "model_module": "@jupyter-widgets/base",
     "model_name": "LayoutModel",
     "state": {
      "_model_module": "@jupyter-widgets/base",
      "_model_module_version": "1.2.0",
      "_model_name": "LayoutModel",
      "_view_count": null,
      "_view_module": "@jupyter-widgets/base",
      "_view_module_version": "1.2.0",
      "_view_name": "LayoutView",
      "align_content": null,
      "align_items": null,
      "align_self": null,
      "border": null,
      "bottom": null,
      "display": null,
      "flex": null,
      "flex_flow": null,
      "grid_area": null,
      "grid_auto_columns": null,
      "grid_auto_flow": null,
      "grid_auto_rows": null,
      "grid_column": null,
      "grid_gap": null,
      "grid_row": null,
      "grid_template_areas": null,
      "grid_template_columns": null,
      "grid_template_rows": null,
      "height": null,
      "justify_content": null,
      "justify_items": null,
      "left": null,
      "margin": null,
      "max_height": null,
      "max_width": null,
      "min_height": null,
      "min_width": null,
      "object_fit": null,
      "object_position": null,
      "order": null,
      "overflow": null,
      "overflow_x": null,
      "overflow_y": null,
      "padding": null,
      "right": null,
      "top": null,
      "visibility": null,
      "width": null
     }
    },
    "4c957a079ca6488cb694fc45bf1e8f9c": {
     "model_module": "@jupyter-widgets/controls",
     "model_name": "HTMLModel",
     "state": {
      "_dom_classes": [],
      "_model_module": "@jupyter-widgets/controls",
      "_model_module_version": "1.5.0",
      "_model_name": "HTMLModel",
      "_view_count": null,
      "_view_module": "@jupyter-widgets/controls",
      "_view_module_version": "1.5.0",
      "_view_name": "HTMLView",
      "description": "",
      "description_tooltip": null,
      "layout": "IPY_MODEL_4c8c3e324af046b6a160f027e3265526",
      "placeholder": "​",
      "style": "IPY_MODEL_4ce1091e078444469322f723e4fd515d",
      "value": " 5/5 [04:13&lt;00:00, 50.68s/it]"
     }
    },
    "4cda6c9e2c0a4b3083bbee084ef3b093": {
     "model_module": "@jupyter-widgets/base",
     "model_name": "LayoutModel",
     "state": {
      "_model_module": "@jupyter-widgets/base",
      "_model_module_version": "1.2.0",
      "_model_name": "LayoutModel",
      "_view_count": null,
      "_view_module": "@jupyter-widgets/base",
      "_view_module_version": "1.2.0",
      "_view_name": "LayoutView",
      "align_content": null,
      "align_items": null,
      "align_self": null,
      "border": null,
      "bottom": null,
      "display": null,
      "flex": null,
      "flex_flow": null,
      "grid_area": null,
      "grid_auto_columns": null,
      "grid_auto_flow": null,
      "grid_auto_rows": null,
      "grid_column": null,
      "grid_gap": null,
      "grid_row": null,
      "grid_template_areas": null,
      "grid_template_columns": null,
      "grid_template_rows": null,
      "height": null,
      "justify_content": null,
      "justify_items": null,
      "left": null,
      "margin": null,
      "max_height": null,
      "max_width": null,
      "min_height": null,
      "min_width": null,
      "object_fit": null,
      "object_position": null,
      "order": null,
      "overflow": null,
      "overflow_x": null,
      "overflow_y": null,
      "padding": null,
      "right": null,
      "top": null,
      "visibility": null,
      "width": null
     }
    },
    "4ce1091e078444469322f723e4fd515d": {
     "model_module": "@jupyter-widgets/controls",
     "model_name": "DescriptionStyleModel",
     "state": {
      "_model_module": "@jupyter-widgets/controls",
      "_model_module_version": "1.5.0",
      "_model_name": "DescriptionStyleModel",
      "_view_count": null,
      "_view_module": "@jupyter-widgets/base",
      "_view_module_version": "1.2.0",
      "_view_name": "StyleView",
      "description_width": ""
     }
    },
    "4d1f1a66e55f485c8b119c75640d7d1b": {
     "model_module": "@jupyter-widgets/base",
     "model_name": "LayoutModel",
     "state": {
      "_model_module": "@jupyter-widgets/base",
      "_model_module_version": "1.2.0",
      "_model_name": "LayoutModel",
      "_view_count": null,
      "_view_module": "@jupyter-widgets/base",
      "_view_module_version": "1.2.0",
      "_view_name": "LayoutView",
      "align_content": null,
      "align_items": null,
      "align_self": null,
      "border": null,
      "bottom": null,
      "display": null,
      "flex": null,
      "flex_flow": null,
      "grid_area": null,
      "grid_auto_columns": null,
      "grid_auto_flow": null,
      "grid_auto_rows": null,
      "grid_column": null,
      "grid_gap": null,
      "grid_row": null,
      "grid_template_areas": null,
      "grid_template_columns": null,
      "grid_template_rows": null,
      "height": null,
      "justify_content": null,
      "justify_items": null,
      "left": null,
      "margin": null,
      "max_height": null,
      "max_width": null,
      "min_height": null,
      "min_width": null,
      "object_fit": null,
      "object_position": null,
      "order": null,
      "overflow": null,
      "overflow_x": null,
      "overflow_y": null,
      "padding": null,
      "right": null,
      "top": null,
      "visibility": null,
      "width": null
     }
    },
    "4f9882bf13c24dc4834c0cdf6d93df76": {
     "model_module": "@jupyter-widgets/controls",
     "model_name": "ProgressStyleModel",
     "state": {
      "_model_module": "@jupyter-widgets/controls",
      "_model_module_version": "1.5.0",
      "_model_name": "ProgressStyleModel",
      "_view_count": null,
      "_view_module": "@jupyter-widgets/base",
      "_view_module_version": "1.2.0",
      "_view_name": "StyleView",
      "bar_color": null,
      "description_width": "initial"
     }
    },
    "4fbd39b84afd4696b4ecb5a187aa3bd4": {
     "model_module": "@jupyter-widgets/base",
     "model_name": "LayoutModel",
     "state": {
      "_model_module": "@jupyter-widgets/base",
      "_model_module_version": "1.2.0",
      "_model_name": "LayoutModel",
      "_view_count": null,
      "_view_module": "@jupyter-widgets/base",
      "_view_module_version": "1.2.0",
      "_view_name": "LayoutView",
      "align_content": null,
      "align_items": null,
      "align_self": null,
      "border": null,
      "bottom": null,
      "display": null,
      "flex": null,
      "flex_flow": null,
      "grid_area": null,
      "grid_auto_columns": null,
      "grid_auto_flow": null,
      "grid_auto_rows": null,
      "grid_column": null,
      "grid_gap": null,
      "grid_row": null,
      "grid_template_areas": null,
      "grid_template_columns": null,
      "grid_template_rows": null,
      "height": null,
      "justify_content": null,
      "justify_items": null,
      "left": null,
      "margin": null,
      "max_height": null,
      "max_width": null,
      "min_height": null,
      "min_width": null,
      "object_fit": null,
      "object_position": null,
      "order": null,
      "overflow": null,
      "overflow_x": null,
      "overflow_y": null,
      "padding": null,
      "right": null,
      "top": null,
      "visibility": null,
      "width": null
     }
    },
    "50ea206290bb43069715ebd61aa8ce66": {
     "model_module": "@jupyter-widgets/controls",
     "model_name": "FloatProgressModel",
     "state": {
      "_dom_classes": [],
      "_model_module": "@jupyter-widgets/controls",
      "_model_module_version": "1.5.0",
      "_model_name": "FloatProgressModel",
      "_view_count": null,
      "_view_module": "@jupyter-widgets/controls",
      "_view_module_version": "1.5.0",
      "_view_name": "ProgressView",
      "bar_style": "success",
      "description": "100%",
      "description_tooltip": null,
      "layout": "IPY_MODEL_9c3aa58cc41b465ba295d71efbf5845b",
      "max": 5,
      "min": 0,
      "orientation": "horizontal",
      "style": "IPY_MODEL_5e2a7abcd2704592b6bbd32b1b967cdd",
      "value": 5
     }
    },
    "531f4427cffd4175a3b3b62de2f13a28": {
     "model_module": "@jupyter-widgets/controls",
     "model_name": "ProgressStyleModel",
     "state": {
      "_model_module": "@jupyter-widgets/controls",
      "_model_module_version": "1.5.0",
      "_model_name": "ProgressStyleModel",
      "_view_count": null,
      "_view_module": "@jupyter-widgets/base",
      "_view_module_version": "1.2.0",
      "_view_name": "StyleView",
      "bar_color": null,
      "description_width": "initial"
     }
    },
    "5585d048e468417585e82d9b2072583e": {
     "model_module": "@jupyter-widgets/base",
     "model_name": "LayoutModel",
     "state": {
      "_model_module": "@jupyter-widgets/base",
      "_model_module_version": "1.2.0",
      "_model_name": "LayoutModel",
      "_view_count": null,
      "_view_module": "@jupyter-widgets/base",
      "_view_module_version": "1.2.0",
      "_view_name": "LayoutView",
      "align_content": null,
      "align_items": null,
      "align_self": null,
      "border": null,
      "bottom": null,
      "display": null,
      "flex": null,
      "flex_flow": null,
      "grid_area": null,
      "grid_auto_columns": null,
      "grid_auto_flow": null,
      "grid_auto_rows": null,
      "grid_column": null,
      "grid_gap": null,
      "grid_row": null,
      "grid_template_areas": null,
      "grid_template_columns": null,
      "grid_template_rows": null,
      "height": null,
      "justify_content": null,
      "justify_items": null,
      "left": null,
      "margin": null,
      "max_height": null,
      "max_width": null,
      "min_height": null,
      "min_width": null,
      "object_fit": null,
      "object_position": null,
      "order": null,
      "overflow": null,
      "overflow_x": null,
      "overflow_y": null,
      "padding": null,
      "right": null,
      "top": null,
      "visibility": null,
      "width": null
     }
    },
    "5773901c2ec647bbaad5e8776d3af493": {
     "model_module": "@jupyter-widgets/controls",
     "model_name": "FloatProgressModel",
     "state": {
      "_dom_classes": [],
      "_model_module": "@jupyter-widgets/controls",
      "_model_module_version": "1.5.0",
      "_model_name": "FloatProgressModel",
      "_view_count": null,
      "_view_module": "@jupyter-widgets/controls",
      "_view_module_version": "1.5.0",
      "_view_name": "ProgressView",
      "bar_style": "success",
      "description": "100%",
      "description_tooltip": null,
      "layout": "IPY_MODEL_f5afced08058485bb916c878a37393db",
      "max": 5,
      "min": 0,
      "orientation": "horizontal",
      "style": "IPY_MODEL_4b04cbd2f5994ee985d66e3910fdfc2f",
      "value": 5
     }
    },
    "57ad75155db0406ba1b1b04f0873474b": {
     "model_module": "@jupyter-widgets/controls",
     "model_name": "ProgressStyleModel",
     "state": {
      "_model_module": "@jupyter-widgets/controls",
      "_model_module_version": "1.5.0",
      "_model_name": "ProgressStyleModel",
      "_view_count": null,
      "_view_module": "@jupyter-widgets/base",
      "_view_module_version": "1.2.0",
      "_view_name": "StyleView",
      "bar_color": null,
      "description_width": "initial"
     }
    },
    "58a65498c907429080249087f851e3ca": {
     "model_module": "@jupyter-widgets/controls",
     "model_name": "ProgressStyleModel",
     "state": {
      "_model_module": "@jupyter-widgets/controls",
      "_model_module_version": "1.5.0",
      "_model_name": "ProgressStyleModel",
      "_view_count": null,
      "_view_module": "@jupyter-widgets/base",
      "_view_module_version": "1.2.0",
      "_view_name": "StyleView",
      "bar_color": null,
      "description_width": "initial"
     }
    },
    "5935c2476bee4c08b981f09c4d52f6cf": {
     "model_module": "@jupyter-widgets/controls",
     "model_name": "FloatProgressModel",
     "state": {
      "_dom_classes": [],
      "_model_module": "@jupyter-widgets/controls",
      "_model_module_version": "1.5.0",
      "_model_name": "FloatProgressModel",
      "_view_count": null,
      "_view_module": "@jupyter-widgets/controls",
      "_view_module_version": "1.5.0",
      "_view_name": "ProgressView",
      "bar_style": "success",
      "description": "100%",
      "description_tooltip": null,
      "layout": "IPY_MODEL_cfec5c2ca7914538ba130412f74b0899",
      "max": 5,
      "min": 0,
      "orientation": "horizontal",
      "style": "IPY_MODEL_a1d9d12fe73d4e8ba4f6e33dcd6e51df",
      "value": 5
     }
    },
    "599867fd6f6b44b8b7649683ddd43b5b": {
     "model_module": "@jupyter-widgets/controls",
     "model_name": "FloatProgressModel",
     "state": {
      "_dom_classes": [],
      "_model_module": "@jupyter-widgets/controls",
      "_model_module_version": "1.5.0",
      "_model_name": "FloatProgressModel",
      "_view_count": null,
      "_view_module": "@jupyter-widgets/controls",
      "_view_module_version": "1.5.0",
      "_view_name": "ProgressView",
      "bar_style": "success",
      "description": "100%",
      "description_tooltip": null,
      "layout": "IPY_MODEL_9821042a3aac4311b2265b11fb68b518",
      "max": 5,
      "min": 0,
      "orientation": "horizontal",
      "style": "IPY_MODEL_4f9882bf13c24dc4834c0cdf6d93df76",
      "value": 5
     }
    },
    "59bf4995f7af488f981eb9e5e6fe8065": {
     "model_module": "@jupyter-widgets/controls",
     "model_name": "DescriptionStyleModel",
     "state": {
      "_model_module": "@jupyter-widgets/controls",
      "_model_module_version": "1.5.0",
      "_model_name": "DescriptionStyleModel",
      "_view_count": null,
      "_view_module": "@jupyter-widgets/base",
      "_view_module_version": "1.2.0",
      "_view_name": "StyleView",
      "description_width": ""
     }
    },
    "5e2a7abcd2704592b6bbd32b1b967cdd": {
     "model_module": "@jupyter-widgets/controls",
     "model_name": "ProgressStyleModel",
     "state": {
      "_model_module": "@jupyter-widgets/controls",
      "_model_module_version": "1.5.0",
      "_model_name": "ProgressStyleModel",
      "_view_count": null,
      "_view_module": "@jupyter-widgets/base",
      "_view_module_version": "1.2.0",
      "_view_name": "StyleView",
      "bar_color": null,
      "description_width": "initial"
     }
    },
    "60ee71af19124d4798f02d3601bb27f0": {
     "model_module": "@jupyter-widgets/controls",
     "model_name": "HBoxModel",
     "state": {
      "_dom_classes": [],
      "_model_module": "@jupyter-widgets/controls",
      "_model_module_version": "1.5.0",
      "_model_name": "HBoxModel",
      "_view_count": null,
      "_view_module": "@jupyter-widgets/controls",
      "_view_module_version": "1.5.0",
      "_view_name": "HBoxView",
      "box_style": "",
      "children": [
       "IPY_MODEL_61eb4854244a410fa022db2128f1293f",
       "IPY_MODEL_7d4d759da89c48158931f07983e9db62"
      ],
      "layout": "IPY_MODEL_a831f7aa202b4a1aab4b7ea4a88d3470"
     }
    },
    "61eb4854244a410fa022db2128f1293f": {
     "model_module": "@jupyter-widgets/controls",
     "model_name": "FloatProgressModel",
     "state": {
      "_dom_classes": [],
      "_model_module": "@jupyter-widgets/controls",
      "_model_module_version": "1.5.0",
      "_model_name": "FloatProgressModel",
      "_view_count": null,
      "_view_module": "@jupyter-widgets/controls",
      "_view_module_version": "1.5.0",
      "_view_name": "ProgressView",
      "bar_style": "success",
      "description": "100%",
      "description_tooltip": null,
      "layout": "IPY_MODEL_bc8d0cbd23664d668406931b181fcb64",
      "max": 5,
      "min": 0,
      "orientation": "horizontal",
      "style": "IPY_MODEL_a98b9727d68f4b1b90e89a7733a93228",
      "value": 5
     }
    },
    "6392610f67254a6e8c317c8ed5f24c55": {
     "model_module": "@jupyter-widgets/controls",
     "model_name": "HTMLModel",
     "state": {
      "_dom_classes": [],
      "_model_module": "@jupyter-widgets/controls",
      "_model_module_version": "1.5.0",
      "_model_name": "HTMLModel",
      "_view_count": null,
      "_view_module": "@jupyter-widgets/controls",
      "_view_module_version": "1.5.0",
      "_view_name": "HTMLView",
      "description": "",
      "description_tooltip": null,
      "layout": "IPY_MODEL_93d73ebac8ba4ac2a6c25ec27c400d4e",
      "placeholder": "​",
      "style": "IPY_MODEL_ca51fd33f8af4ab88f2292a2bf500bcc",
      "value": " 5/5 [02:46&lt;00:00, 33.35s/it]"
     }
    },
    "6427bd8885b844729af34917490c4bd4": {
     "model_module": "@jupyter-widgets/controls",
     "model_name": "DescriptionStyleModel",
     "state": {
      "_model_module": "@jupyter-widgets/controls",
      "_model_module_version": "1.5.0",
      "_model_name": "DescriptionStyleModel",
      "_view_count": null,
      "_view_module": "@jupyter-widgets/base",
      "_view_module_version": "1.2.0",
      "_view_name": "StyleView",
      "description_width": ""
     }
    },
    "6441238e96d8476eae4cee5a22c21724": {
     "model_module": "@jupyter-widgets/base",
     "model_name": "LayoutModel",
     "state": {
      "_model_module": "@jupyter-widgets/base",
      "_model_module_version": "1.2.0",
      "_model_name": "LayoutModel",
      "_view_count": null,
      "_view_module": "@jupyter-widgets/base",
      "_view_module_version": "1.2.0",
      "_view_name": "LayoutView",
      "align_content": null,
      "align_items": null,
      "align_self": null,
      "border": null,
      "bottom": null,
      "display": null,
      "flex": null,
      "flex_flow": null,
      "grid_area": null,
      "grid_auto_columns": null,
      "grid_auto_flow": null,
      "grid_auto_rows": null,
      "grid_column": null,
      "grid_gap": null,
      "grid_row": null,
      "grid_template_areas": null,
      "grid_template_columns": null,
      "grid_template_rows": null,
      "height": null,
      "justify_content": null,
      "justify_items": null,
      "left": null,
      "margin": null,
      "max_height": null,
      "max_width": null,
      "min_height": null,
      "min_width": null,
      "object_fit": null,
      "object_position": null,
      "order": null,
      "overflow": null,
      "overflow_x": null,
      "overflow_y": null,
      "padding": null,
      "right": null,
      "top": null,
      "visibility": null,
      "width": null
     }
    },
    "6535fbb7566a4a70aa8b9988958c48ab": {
     "model_module": "@jupyter-widgets/base",
     "model_name": "LayoutModel",
     "state": {
      "_model_module": "@jupyter-widgets/base",
      "_model_module_version": "1.2.0",
      "_model_name": "LayoutModel",
      "_view_count": null,
      "_view_module": "@jupyter-widgets/base",
      "_view_module_version": "1.2.0",
      "_view_name": "LayoutView",
      "align_content": null,
      "align_items": null,
      "align_self": null,
      "border": null,
      "bottom": null,
      "display": null,
      "flex": null,
      "flex_flow": null,
      "grid_area": null,
      "grid_auto_columns": null,
      "grid_auto_flow": null,
      "grid_auto_rows": null,
      "grid_column": null,
      "grid_gap": null,
      "grid_row": null,
      "grid_template_areas": null,
      "grid_template_columns": null,
      "grid_template_rows": null,
      "height": null,
      "justify_content": null,
      "justify_items": null,
      "left": null,
      "margin": null,
      "max_height": null,
      "max_width": null,
      "min_height": null,
      "min_width": null,
      "object_fit": null,
      "object_position": null,
      "order": null,
      "overflow": null,
      "overflow_x": null,
      "overflow_y": null,
      "padding": null,
      "right": null,
      "top": null,
      "visibility": null,
      "width": null
     }
    },
    "666506bbc00045a68f52493d4a31d992": {
     "model_module": "@jupyter-widgets/base",
     "model_name": "LayoutModel",
     "state": {
      "_model_module": "@jupyter-widgets/base",
      "_model_module_version": "1.2.0",
      "_model_name": "LayoutModel",
      "_view_count": null,
      "_view_module": "@jupyter-widgets/base",
      "_view_module_version": "1.2.0",
      "_view_name": "LayoutView",
      "align_content": null,
      "align_items": null,
      "align_self": null,
      "border": null,
      "bottom": null,
      "display": null,
      "flex": null,
      "flex_flow": null,
      "grid_area": null,
      "grid_auto_columns": null,
      "grid_auto_flow": null,
      "grid_auto_rows": null,
      "grid_column": null,
      "grid_gap": null,
      "grid_row": null,
      "grid_template_areas": null,
      "grid_template_columns": null,
      "grid_template_rows": null,
      "height": null,
      "justify_content": null,
      "justify_items": null,
      "left": null,
      "margin": null,
      "max_height": null,
      "max_width": null,
      "min_height": null,
      "min_width": null,
      "object_fit": null,
      "object_position": null,
      "order": null,
      "overflow": null,
      "overflow_x": null,
      "overflow_y": null,
      "padding": null,
      "right": null,
      "top": null,
      "visibility": null,
      "width": null
     }
    },
    "66870a3d5e614c97b76817d14bae78a0": {
     "model_module": "@jupyter-widgets/controls",
     "model_name": "HBoxModel",
     "state": {
      "_dom_classes": [],
      "_model_module": "@jupyter-widgets/controls",
      "_model_module_version": "1.5.0",
      "_model_name": "HBoxModel",
      "_view_count": null,
      "_view_module": "@jupyter-widgets/controls",
      "_view_module_version": "1.5.0",
      "_view_name": "HBoxView",
      "box_style": "",
      "children": [
       "IPY_MODEL_d0bc46d3efdb4900b37742a8df21cd94",
       "IPY_MODEL_a1dac20cbae1480e83efa65b2e5aeaf5"
      ],
      "layout": "IPY_MODEL_b759512c397d4bef9a6859e48fc72531"
     }
    },
    "67139ee69b5f4e2687459335451cbfea": {
     "model_module": "@jupyter-widgets/controls",
     "model_name": "FloatProgressModel",
     "state": {
      "_dom_classes": [],
      "_model_module": "@jupyter-widgets/controls",
      "_model_module_version": "1.5.0",
      "_model_name": "FloatProgressModel",
      "_view_count": null,
      "_view_module": "@jupyter-widgets/controls",
      "_view_module_version": "1.5.0",
      "_view_name": "ProgressView",
      "bar_style": "success",
      "description": "100%",
      "description_tooltip": null,
      "layout": "IPY_MODEL_2f1ef080bd6742f18a2366ff89d0d2df",
      "max": 5,
      "min": 0,
      "orientation": "horizontal",
      "style": "IPY_MODEL_e4a9c56f99264157946887426b1e7b4a",
      "value": 5
     }
    },
    "67bc91ed40044c6493e33e1ede136c1c": {
     "model_module": "@jupyter-widgets/controls",
     "model_name": "DescriptionStyleModel",
     "state": {
      "_model_module": "@jupyter-widgets/controls",
      "_model_module_version": "1.5.0",
      "_model_name": "DescriptionStyleModel",
      "_view_count": null,
      "_view_module": "@jupyter-widgets/base",
      "_view_module_version": "1.2.0",
      "_view_name": "StyleView",
      "description_width": ""
     }
    },
    "695db07e531f46c89b5676610e4cc9d2": {
     "model_module": "@jupyter-widgets/controls",
     "model_name": "HBoxModel",
     "state": {
      "_dom_classes": [],
      "_model_module": "@jupyter-widgets/controls",
      "_model_module_version": "1.5.0",
      "_model_name": "HBoxModel",
      "_view_count": null,
      "_view_module": "@jupyter-widgets/controls",
      "_view_module_version": "1.5.0",
      "_view_name": "HBoxView",
      "box_style": "",
      "children": [
       "IPY_MODEL_340f07f32e92473ab681223719ebb66a",
       "IPY_MODEL_35068a530f0345a7b61cad88c164c14c"
      ],
      "layout": "IPY_MODEL_4700bf71d222483d8f79e4a514bea7f3"
     }
    },
    "6b0f0de1689f432584c2aaf2dce824f0": {
     "model_module": "@jupyter-widgets/controls",
     "model_name": "FloatProgressModel",
     "state": {
      "_dom_classes": [],
      "_model_module": "@jupyter-widgets/controls",
      "_model_module_version": "1.5.0",
      "_model_name": "FloatProgressModel",
      "_view_count": null,
      "_view_module": "@jupyter-widgets/controls",
      "_view_module_version": "1.5.0",
      "_view_name": "ProgressView",
      "bar_style": "",
      "description": " 80%",
      "description_tooltip": null,
      "layout": "IPY_MODEL_96952d45e3dd4a70ae100a93d185f265",
      "max": 5,
      "min": 0,
      "orientation": "horizontal",
      "style": "IPY_MODEL_d029fbc0322641978c8d97181bc102ec",
      "value": 4
     }
    },
    "6d60d30067874deea2e5280aa3118044": {
     "model_module": "@jupyter-widgets/base",
     "model_name": "LayoutModel",
     "state": {
      "_model_module": "@jupyter-widgets/base",
      "_model_module_version": "1.2.0",
      "_model_name": "LayoutModel",
      "_view_count": null,
      "_view_module": "@jupyter-widgets/base",
      "_view_module_version": "1.2.0",
      "_view_name": "LayoutView",
      "align_content": null,
      "align_items": null,
      "align_self": null,
      "border": null,
      "bottom": null,
      "display": null,
      "flex": null,
      "flex_flow": null,
      "grid_area": null,
      "grid_auto_columns": null,
      "grid_auto_flow": null,
      "grid_auto_rows": null,
      "grid_column": null,
      "grid_gap": null,
      "grid_row": null,
      "grid_template_areas": null,
      "grid_template_columns": null,
      "grid_template_rows": null,
      "height": null,
      "justify_content": null,
      "justify_items": null,
      "left": null,
      "margin": null,
      "max_height": null,
      "max_width": null,
      "min_height": null,
      "min_width": null,
      "object_fit": null,
      "object_position": null,
      "order": null,
      "overflow": null,
      "overflow_x": null,
      "overflow_y": null,
      "padding": null,
      "right": null,
      "top": null,
      "visibility": null,
      "width": null
     }
    },
    "6f4d2041d9aa44d796155b322efb1048": {
     "model_module": "@jupyter-widgets/base",
     "model_name": "LayoutModel",
     "state": {
      "_model_module": "@jupyter-widgets/base",
      "_model_module_version": "1.2.0",
      "_model_name": "LayoutModel",
      "_view_count": null,
      "_view_module": "@jupyter-widgets/base",
      "_view_module_version": "1.2.0",
      "_view_name": "LayoutView",
      "align_content": null,
      "align_items": null,
      "align_self": null,
      "border": null,
      "bottom": null,
      "display": null,
      "flex": null,
      "flex_flow": null,
      "grid_area": null,
      "grid_auto_columns": null,
      "grid_auto_flow": null,
      "grid_auto_rows": null,
      "grid_column": null,
      "grid_gap": null,
      "grid_row": null,
      "grid_template_areas": null,
      "grid_template_columns": null,
      "grid_template_rows": null,
      "height": null,
      "justify_content": null,
      "justify_items": null,
      "left": null,
      "margin": null,
      "max_height": null,
      "max_width": null,
      "min_height": null,
      "min_width": null,
      "object_fit": null,
      "object_position": null,
      "order": null,
      "overflow": null,
      "overflow_x": null,
      "overflow_y": null,
      "padding": null,
      "right": null,
      "top": null,
      "visibility": null,
      "width": null
     }
    },
    "6fdadd86176c48e29e99ec7c479d70ed": {
     "model_module": "@jupyter-widgets/base",
     "model_name": "LayoutModel",
     "state": {
      "_model_module": "@jupyter-widgets/base",
      "_model_module_version": "1.2.0",
      "_model_name": "LayoutModel",
      "_view_count": null,
      "_view_module": "@jupyter-widgets/base",
      "_view_module_version": "1.2.0",
      "_view_name": "LayoutView",
      "align_content": null,
      "align_items": null,
      "align_self": null,
      "border": null,
      "bottom": null,
      "display": null,
      "flex": null,
      "flex_flow": null,
      "grid_area": null,
      "grid_auto_columns": null,
      "grid_auto_flow": null,
      "grid_auto_rows": null,
      "grid_column": null,
      "grid_gap": null,
      "grid_row": null,
      "grid_template_areas": null,
      "grid_template_columns": null,
      "grid_template_rows": null,
      "height": null,
      "justify_content": null,
      "justify_items": null,
      "left": null,
      "margin": null,
      "max_height": null,
      "max_width": null,
      "min_height": null,
      "min_width": null,
      "object_fit": null,
      "object_position": null,
      "order": null,
      "overflow": null,
      "overflow_x": null,
      "overflow_y": null,
      "padding": null,
      "right": null,
      "top": null,
      "visibility": null,
      "width": null
     }
    },
    "70414f730e4f46dba1d43bad7f310050": {
     "model_module": "@jupyter-widgets/controls",
     "model_name": "HBoxModel",
     "state": {
      "_dom_classes": [],
      "_model_module": "@jupyter-widgets/controls",
      "_model_module_version": "1.5.0",
      "_model_name": "HBoxModel",
      "_view_count": null,
      "_view_module": "@jupyter-widgets/controls",
      "_view_module_version": "1.5.0",
      "_view_name": "HBoxView",
      "box_style": "",
      "children": [
       "IPY_MODEL_43ed5695a8e04f3bb7aa412e17690828",
       "IPY_MODEL_2aebc87901fa4b07aa9852a3a66beef6"
      ],
      "layout": "IPY_MODEL_b4f9432eba0d4a4892e52c812c9c0fad"
     }
    },
    "718f84558b964c08bcb2d927400608e7": {
     "model_module": "@jupyter-widgets/controls",
     "model_name": "HBoxModel",
     "state": {
      "_dom_classes": [],
      "_model_module": "@jupyter-widgets/controls",
      "_model_module_version": "1.5.0",
      "_model_name": "HBoxModel",
      "_view_count": null,
      "_view_module": "@jupyter-widgets/controls",
      "_view_module_version": "1.5.0",
      "_view_name": "HBoxView",
      "box_style": "",
      "children": [
       "IPY_MODEL_599867fd6f6b44b8b7649683ddd43b5b",
       "IPY_MODEL_b86fb84075bf4d4e94785ce808a3e1fb"
      ],
      "layout": "IPY_MODEL_abe60bba69f6484f81eac293e61adedb"
     }
    },
    "75845cb634d1445c96c109e211f64ee9": {
     "model_module": "@jupyter-widgets/controls",
     "model_name": "HBoxModel",
     "state": {
      "_dom_classes": [],
      "_model_module": "@jupyter-widgets/controls",
      "_model_module_version": "1.5.0",
      "_model_name": "HBoxModel",
      "_view_count": null,
      "_view_module": "@jupyter-widgets/controls",
      "_view_module_version": "1.5.0",
      "_view_name": "HBoxView",
      "box_style": "",
      "children": [
       "IPY_MODEL_5773901c2ec647bbaad5e8776d3af493",
       "IPY_MODEL_149007f404fe4e77a69dacf40639c81c"
      ],
      "layout": "IPY_MODEL_0d7ad592648b4424bddcd83d70a842b5"
     }
    },
    "758f83345f814dde9af0bbfa19431cf7": {
     "model_module": "@jupyter-widgets/controls",
     "model_name": "FloatProgressModel",
     "state": {
      "_dom_classes": [],
      "_model_module": "@jupyter-widgets/controls",
      "_model_module_version": "1.5.0",
      "_model_name": "FloatProgressModel",
      "_view_count": null,
      "_view_module": "@jupyter-widgets/controls",
      "_view_module_version": "1.5.0",
      "_view_name": "ProgressView",
      "bar_style": "success",
      "description": "100%",
      "description_tooltip": null,
      "layout": "IPY_MODEL_1d647859d90c4c53a310311001050db4",
      "max": 5,
      "min": 0,
      "orientation": "horizontal",
      "style": "IPY_MODEL_1ca2100a20e140f1854c0cdb756078cd",
      "value": 5
     }
    },
    "765f27a7f9ac46808697184947b5fb4d": {
     "model_module": "@jupyter-widgets/controls",
     "model_name": "HTMLModel",
     "state": {
      "_dom_classes": [],
      "_model_module": "@jupyter-widgets/controls",
      "_model_module_version": "1.5.0",
      "_model_name": "HTMLModel",
      "_view_count": null,
      "_view_module": "@jupyter-widgets/controls",
      "_view_module_version": "1.5.0",
      "_view_name": "HTMLView",
      "description": "",
      "description_tooltip": null,
      "layout": "IPY_MODEL_b31033efd66a41788c498b946cfb4c2c",
      "placeholder": "​",
      "style": "IPY_MODEL_7ad9805573464a62985ad5e99b194b39",
      "value": " 5/5 [02:50&lt;00:00, 34.16s/it]"
     }
    },
    "796256fe49e84d51b9fe8c37f6818d03": {
     "model_module": "@jupyter-widgets/base",
     "model_name": "LayoutModel",
     "state": {
      "_model_module": "@jupyter-widgets/base",
      "_model_module_version": "1.2.0",
      "_model_name": "LayoutModel",
      "_view_count": null,
      "_view_module": "@jupyter-widgets/base",
      "_view_module_version": "1.2.0",
      "_view_name": "LayoutView",
      "align_content": null,
      "align_items": null,
      "align_self": null,
      "border": null,
      "bottom": null,
      "display": null,
      "flex": null,
      "flex_flow": null,
      "grid_area": null,
      "grid_auto_columns": null,
      "grid_auto_flow": null,
      "grid_auto_rows": null,
      "grid_column": null,
      "grid_gap": null,
      "grid_row": null,
      "grid_template_areas": null,
      "grid_template_columns": null,
      "grid_template_rows": null,
      "height": null,
      "justify_content": null,
      "justify_items": null,
      "left": null,
      "margin": null,
      "max_height": null,
      "max_width": null,
      "min_height": null,
      "min_width": null,
      "object_fit": null,
      "object_position": null,
      "order": null,
      "overflow": null,
      "overflow_x": null,
      "overflow_y": null,
      "padding": null,
      "right": null,
      "top": null,
      "visibility": null,
      "width": null
     }
    },
    "799f90eaa2a5464fa26df03cd8f8dd15": {
     "model_module": "@jupyter-widgets/base",
     "model_name": "LayoutModel",
     "state": {
      "_model_module": "@jupyter-widgets/base",
      "_model_module_version": "1.2.0",
      "_model_name": "LayoutModel",
      "_view_count": null,
      "_view_module": "@jupyter-widgets/base",
      "_view_module_version": "1.2.0",
      "_view_name": "LayoutView",
      "align_content": null,
      "align_items": null,
      "align_self": null,
      "border": null,
      "bottom": null,
      "display": null,
      "flex": null,
      "flex_flow": null,
      "grid_area": null,
      "grid_auto_columns": null,
      "grid_auto_flow": null,
      "grid_auto_rows": null,
      "grid_column": null,
      "grid_gap": null,
      "grid_row": null,
      "grid_template_areas": null,
      "grid_template_columns": null,
      "grid_template_rows": null,
      "height": null,
      "justify_content": null,
      "justify_items": null,
      "left": null,
      "margin": null,
      "max_height": null,
      "max_width": null,
      "min_height": null,
      "min_width": null,
      "object_fit": null,
      "object_position": null,
      "order": null,
      "overflow": null,
      "overflow_x": null,
      "overflow_y": null,
      "padding": null,
      "right": null,
      "top": null,
      "visibility": null,
      "width": null
     }
    },
    "79c09a43f5cc40b699232d4a5db6a4c0": {
     "model_module": "@jupyter-widgets/base",
     "model_name": "LayoutModel",
     "state": {
      "_model_module": "@jupyter-widgets/base",
      "_model_module_version": "1.2.0",
      "_model_name": "LayoutModel",
      "_view_count": null,
      "_view_module": "@jupyter-widgets/base",
      "_view_module_version": "1.2.0",
      "_view_name": "LayoutView",
      "align_content": null,
      "align_items": null,
      "align_self": null,
      "border": null,
      "bottom": null,
      "display": null,
      "flex": null,
      "flex_flow": null,
      "grid_area": null,
      "grid_auto_columns": null,
      "grid_auto_flow": null,
      "grid_auto_rows": null,
      "grid_column": null,
      "grid_gap": null,
      "grid_row": null,
      "grid_template_areas": null,
      "grid_template_columns": null,
      "grid_template_rows": null,
      "height": null,
      "justify_content": null,
      "justify_items": null,
      "left": null,
      "margin": null,
      "max_height": null,
      "max_width": null,
      "min_height": null,
      "min_width": null,
      "object_fit": null,
      "object_position": null,
      "order": null,
      "overflow": null,
      "overflow_x": null,
      "overflow_y": null,
      "padding": null,
      "right": null,
      "top": null,
      "visibility": null,
      "width": null
     }
    },
    "7ad9805573464a62985ad5e99b194b39": {
     "model_module": "@jupyter-widgets/controls",
     "model_name": "DescriptionStyleModel",
     "state": {
      "_model_module": "@jupyter-widgets/controls",
      "_model_module_version": "1.5.0",
      "_model_name": "DescriptionStyleModel",
      "_view_count": null,
      "_view_module": "@jupyter-widgets/base",
      "_view_module_version": "1.2.0",
      "_view_name": "StyleView",
      "description_width": ""
     }
    },
    "7b5e0508ff3842bc8b8792bd8b8e9da7": {
     "model_module": "@jupyter-widgets/base",
     "model_name": "LayoutModel",
     "state": {
      "_model_module": "@jupyter-widgets/base",
      "_model_module_version": "1.2.0",
      "_model_name": "LayoutModel",
      "_view_count": null,
      "_view_module": "@jupyter-widgets/base",
      "_view_module_version": "1.2.0",
      "_view_name": "LayoutView",
      "align_content": null,
      "align_items": null,
      "align_self": null,
      "border": null,
      "bottom": null,
      "display": null,
      "flex": null,
      "flex_flow": null,
      "grid_area": null,
      "grid_auto_columns": null,
      "grid_auto_flow": null,
      "grid_auto_rows": null,
      "grid_column": null,
      "grid_gap": null,
      "grid_row": null,
      "grid_template_areas": null,
      "grid_template_columns": null,
      "grid_template_rows": null,
      "height": null,
      "justify_content": null,
      "justify_items": null,
      "left": null,
      "margin": null,
      "max_height": null,
      "max_width": null,
      "min_height": null,
      "min_width": null,
      "object_fit": null,
      "object_position": null,
      "order": null,
      "overflow": null,
      "overflow_x": null,
      "overflow_y": null,
      "padding": null,
      "right": null,
      "top": null,
      "visibility": null,
      "width": null
     }
    },
    "7b6aeec6e5ec4f3c9db5ac1b9cee6ab8": {
     "model_module": "@jupyter-widgets/base",
     "model_name": "LayoutModel",
     "state": {
      "_model_module": "@jupyter-widgets/base",
      "_model_module_version": "1.2.0",
      "_model_name": "LayoutModel",
      "_view_count": null,
      "_view_module": "@jupyter-widgets/base",
      "_view_module_version": "1.2.0",
      "_view_name": "LayoutView",
      "align_content": null,
      "align_items": null,
      "align_self": null,
      "border": null,
      "bottom": null,
      "display": null,
      "flex": null,
      "flex_flow": null,
      "grid_area": null,
      "grid_auto_columns": null,
      "grid_auto_flow": null,
      "grid_auto_rows": null,
      "grid_column": null,
      "grid_gap": null,
      "grid_row": null,
      "grid_template_areas": null,
      "grid_template_columns": null,
      "grid_template_rows": null,
      "height": null,
      "justify_content": null,
      "justify_items": null,
      "left": null,
      "margin": null,
      "max_height": null,
      "max_width": null,
      "min_height": null,
      "min_width": null,
      "object_fit": null,
      "object_position": null,
      "order": null,
      "overflow": null,
      "overflow_x": null,
      "overflow_y": null,
      "padding": null,
      "right": null,
      "top": null,
      "visibility": null,
      "width": null
     }
    },
    "7c71bd96a79f4e718e42526e6ddeb101": {
     "model_module": "@jupyter-widgets/base",
     "model_name": "LayoutModel",
     "state": {
      "_model_module": "@jupyter-widgets/base",
      "_model_module_version": "1.2.0",
      "_model_name": "LayoutModel",
      "_view_count": null,
      "_view_module": "@jupyter-widgets/base",
      "_view_module_version": "1.2.0",
      "_view_name": "LayoutView",
      "align_content": null,
      "align_items": null,
      "align_self": null,
      "border": null,
      "bottom": null,
      "display": null,
      "flex": null,
      "flex_flow": null,
      "grid_area": null,
      "grid_auto_columns": null,
      "grid_auto_flow": null,
      "grid_auto_rows": null,
      "grid_column": null,
      "grid_gap": null,
      "grid_row": null,
      "grid_template_areas": null,
      "grid_template_columns": null,
      "grid_template_rows": null,
      "height": null,
      "justify_content": null,
      "justify_items": null,
      "left": null,
      "margin": null,
      "max_height": null,
      "max_width": null,
      "min_height": null,
      "min_width": null,
      "object_fit": null,
      "object_position": null,
      "order": null,
      "overflow": null,
      "overflow_x": null,
      "overflow_y": null,
      "padding": null,
      "right": null,
      "top": null,
      "visibility": null,
      "width": null
     }
    },
    "7cea1fac368f4beba44df3cda8ad1977": {
     "model_module": "@jupyter-widgets/controls",
     "model_name": "FloatProgressModel",
     "state": {
      "_dom_classes": [],
      "_model_module": "@jupyter-widgets/controls",
      "_model_module_version": "1.5.0",
      "_model_name": "FloatProgressModel",
      "_view_count": null,
      "_view_module": "@jupyter-widgets/controls",
      "_view_module_version": "1.5.0",
      "_view_name": "ProgressView",
      "bar_style": "success",
      "description": "100%",
      "description_tooltip": null,
      "layout": "IPY_MODEL_6535fbb7566a4a70aa8b9988958c48ab",
      "max": 5,
      "min": 0,
      "orientation": "horizontal",
      "style": "IPY_MODEL_9b46c4ab8e5e43f3ab476059d5c96051",
      "value": 5
     }
    },
    "7d4d759da89c48158931f07983e9db62": {
     "model_module": "@jupyter-widgets/controls",
     "model_name": "HTMLModel",
     "state": {
      "_dom_classes": [],
      "_model_module": "@jupyter-widgets/controls",
      "_model_module_version": "1.5.0",
      "_model_name": "HTMLModel",
      "_view_count": null,
      "_view_module": "@jupyter-widgets/controls",
      "_view_module_version": "1.5.0",
      "_view_name": "HTMLView",
      "description": "",
      "description_tooltip": null,
      "layout": "IPY_MODEL_7b5e0508ff3842bc8b8792bd8b8e9da7",
      "placeholder": "​",
      "style": "IPY_MODEL_a7d0f623d09f405ba233deb532a76c23",
      "value": " 5/5 [02:16&lt;00:00, 27.40s/it]"
     }
    },
    "7e156dfdf8a945bb8be3dcc01c6de8ef": {
     "model_module": "@jupyter-widgets/base",
     "model_name": "LayoutModel",
     "state": {
      "_model_module": "@jupyter-widgets/base",
      "_model_module_version": "1.2.0",
      "_model_name": "LayoutModel",
      "_view_count": null,
      "_view_module": "@jupyter-widgets/base",
      "_view_module_version": "1.2.0",
      "_view_name": "LayoutView",
      "align_content": null,
      "align_items": null,
      "align_self": null,
      "border": null,
      "bottom": null,
      "display": null,
      "flex": null,
      "flex_flow": null,
      "grid_area": null,
      "grid_auto_columns": null,
      "grid_auto_flow": null,
      "grid_auto_rows": null,
      "grid_column": null,
      "grid_gap": null,
      "grid_row": null,
      "grid_template_areas": null,
      "grid_template_columns": null,
      "grid_template_rows": null,
      "height": null,
      "justify_content": null,
      "justify_items": null,
      "left": null,
      "margin": null,
      "max_height": null,
      "max_width": null,
      "min_height": null,
      "min_width": null,
      "object_fit": null,
      "object_position": null,
      "order": null,
      "overflow": null,
      "overflow_x": null,
      "overflow_y": null,
      "padding": null,
      "right": null,
      "top": null,
      "visibility": null,
      "width": null
     }
    },
    "80f5fbb395e94ffc927bc4fcd82147bb": {
     "model_module": "@jupyter-widgets/base",
     "model_name": "LayoutModel",
     "state": {
      "_model_module": "@jupyter-widgets/base",
      "_model_module_version": "1.2.0",
      "_model_name": "LayoutModel",
      "_view_count": null,
      "_view_module": "@jupyter-widgets/base",
      "_view_module_version": "1.2.0",
      "_view_name": "LayoutView",
      "align_content": null,
      "align_items": null,
      "align_self": null,
      "border": null,
      "bottom": null,
      "display": null,
      "flex": null,
      "flex_flow": null,
      "grid_area": null,
      "grid_auto_columns": null,
      "grid_auto_flow": null,
      "grid_auto_rows": null,
      "grid_column": null,
      "grid_gap": null,
      "grid_row": null,
      "grid_template_areas": null,
      "grid_template_columns": null,
      "grid_template_rows": null,
      "height": null,
      "justify_content": null,
      "justify_items": null,
      "left": null,
      "margin": null,
      "max_height": null,
      "max_width": null,
      "min_height": null,
      "min_width": null,
      "object_fit": null,
      "object_position": null,
      "order": null,
      "overflow": null,
      "overflow_x": null,
      "overflow_y": null,
      "padding": null,
      "right": null,
      "top": null,
      "visibility": null,
      "width": null
     }
    },
    "815f1b7a011b4b0b9999e506ad078ef0": {
     "model_module": "@jupyter-widgets/controls",
     "model_name": "HTMLModel",
     "state": {
      "_dom_classes": [],
      "_model_module": "@jupyter-widgets/controls",
      "_model_module_version": "1.5.0",
      "_model_name": "HTMLModel",
      "_view_count": null,
      "_view_module": "@jupyter-widgets/controls",
      "_view_module_version": "1.5.0",
      "_view_name": "HTMLView",
      "description": "",
      "description_tooltip": null,
      "layout": "IPY_MODEL_4fbd39b84afd4696b4ecb5a187aa3bd4",
      "placeholder": "​",
      "style": "IPY_MODEL_cb9471babf8245999b87a7169bfc857c",
      "value": " 5/5 [02:47&lt;00:00, 33.55s/it]"
     }
    },
    "81c58018987d485a83f6213a3b1b0466": {
     "model_module": "@jupyter-widgets/controls",
     "model_name": "HBoxModel",
     "state": {
      "_dom_classes": [],
      "_model_module": "@jupyter-widgets/controls",
      "_model_module_version": "1.5.0",
      "_model_name": "HBoxModel",
      "_view_count": null,
      "_view_module": "@jupyter-widgets/controls",
      "_view_module_version": "1.5.0",
      "_view_name": "HBoxView",
      "box_style": "",
      "children": [
       "IPY_MODEL_4ac9fe87749742d9b3f99312bd6432bb",
       "IPY_MODEL_9e3a592aac5c44ff8c4553acf65b4a75"
      ],
      "layout": "IPY_MODEL_99ce9fbe08744e3aa9fb2f981e6882a2"
     }
    },
    "81f898ccd8e244f79be236e0cc3e939d": {
     "model_module": "@jupyter-widgets/base",
     "model_name": "LayoutModel",
     "state": {
      "_model_module": "@jupyter-widgets/base",
      "_model_module_version": "1.2.0",
      "_model_name": "LayoutModel",
      "_view_count": null,
      "_view_module": "@jupyter-widgets/base",
      "_view_module_version": "1.2.0",
      "_view_name": "LayoutView",
      "align_content": null,
      "align_items": null,
      "align_self": null,
      "border": null,
      "bottom": null,
      "display": null,
      "flex": null,
      "flex_flow": null,
      "grid_area": null,
      "grid_auto_columns": null,
      "grid_auto_flow": null,
      "grid_auto_rows": null,
      "grid_column": null,
      "grid_gap": null,
      "grid_row": null,
      "grid_template_areas": null,
      "grid_template_columns": null,
      "grid_template_rows": null,
      "height": null,
      "justify_content": null,
      "justify_items": null,
      "left": null,
      "margin": null,
      "max_height": null,
      "max_width": null,
      "min_height": null,
      "min_width": null,
      "object_fit": null,
      "object_position": null,
      "order": null,
      "overflow": null,
      "overflow_x": null,
      "overflow_y": null,
      "padding": null,
      "right": null,
      "top": null,
      "visibility": null,
      "width": null
     }
    },
    "8382cb136e714a27bab5c8cb91e9dd86": {
     "model_module": "@jupyter-widgets/controls",
     "model_name": "HTMLModel",
     "state": {
      "_dom_classes": [],
      "_model_module": "@jupyter-widgets/controls",
      "_model_module_version": "1.5.0",
      "_model_name": "HTMLModel",
      "_view_count": null,
      "_view_module": "@jupyter-widgets/controls",
      "_view_module_version": "1.5.0",
      "_view_name": "HTMLView",
      "description": "",
      "description_tooltip": null,
      "layout": "IPY_MODEL_796256fe49e84d51b9fe8c37f6818d03",
      "placeholder": "​",
      "style": "IPY_MODEL_ad98e2a02be04d6d8820bf84cc86fb6c",
      "value": " 5/5 [05:06&lt;00:00, 61.33s/it]"
     }
    },
    "844b7615e6784a2da32e6367ccc23783": {
     "model_module": "@jupyter-widgets/controls",
     "model_name": "HBoxModel",
     "state": {
      "_dom_classes": [],
      "_model_module": "@jupyter-widgets/controls",
      "_model_module_version": "1.5.0",
      "_model_name": "HBoxModel",
      "_view_count": null,
      "_view_module": "@jupyter-widgets/controls",
      "_view_module_version": "1.5.0",
      "_view_name": "HBoxView",
      "box_style": "",
      "children": [
       "IPY_MODEL_30dcce008dca4324875dbd5d14e91ae5",
       "IPY_MODEL_f4f4aa9d6fbe4362985f6cba78b4e394"
      ],
      "layout": "IPY_MODEL_1099863f0b2a4b2aab9a1467f5a6d3bc"
     }
    },
    "859ba52de29d4d81a821581d881491cd": {
     "model_module": "@jupyter-widgets/base",
     "model_name": "LayoutModel",
     "state": {
      "_model_module": "@jupyter-widgets/base",
      "_model_module_version": "1.2.0",
      "_model_name": "LayoutModel",
      "_view_count": null,
      "_view_module": "@jupyter-widgets/base",
      "_view_module_version": "1.2.0",
      "_view_name": "LayoutView",
      "align_content": null,
      "align_items": null,
      "align_self": null,
      "border": null,
      "bottom": null,
      "display": null,
      "flex": null,
      "flex_flow": null,
      "grid_area": null,
      "grid_auto_columns": null,
      "grid_auto_flow": null,
      "grid_auto_rows": null,
      "grid_column": null,
      "grid_gap": null,
      "grid_row": null,
      "grid_template_areas": null,
      "grid_template_columns": null,
      "grid_template_rows": null,
      "height": null,
      "justify_content": null,
      "justify_items": null,
      "left": null,
      "margin": null,
      "max_height": null,
      "max_width": null,
      "min_height": null,
      "min_width": null,
      "object_fit": null,
      "object_position": null,
      "order": null,
      "overflow": null,
      "overflow_x": null,
      "overflow_y": null,
      "padding": null,
      "right": null,
      "top": null,
      "visibility": null,
      "width": null
     }
    },
    "863c5d238ab7463fb11b758f6897231f": {
     "model_module": "@jupyter-widgets/base",
     "model_name": "LayoutModel",
     "state": {
      "_model_module": "@jupyter-widgets/base",
      "_model_module_version": "1.2.0",
      "_model_name": "LayoutModel",
      "_view_count": null,
      "_view_module": "@jupyter-widgets/base",
      "_view_module_version": "1.2.0",
      "_view_name": "LayoutView",
      "align_content": null,
      "align_items": null,
      "align_self": null,
      "border": null,
      "bottom": null,
      "display": null,
      "flex": null,
      "flex_flow": null,
      "grid_area": null,
      "grid_auto_columns": null,
      "grid_auto_flow": null,
      "grid_auto_rows": null,
      "grid_column": null,
      "grid_gap": null,
      "grid_row": null,
      "grid_template_areas": null,
      "grid_template_columns": null,
      "grid_template_rows": null,
      "height": null,
      "justify_content": null,
      "justify_items": null,
      "left": null,
      "margin": null,
      "max_height": null,
      "max_width": null,
      "min_height": null,
      "min_width": null,
      "object_fit": null,
      "object_position": null,
      "order": null,
      "overflow": null,
      "overflow_x": null,
      "overflow_y": null,
      "padding": null,
      "right": null,
      "top": null,
      "visibility": null,
      "width": null
     }
    },
    "868d4a5c7fd24939907318ba3e81d573": {
     "model_module": "@jupyter-widgets/controls",
     "model_name": "HBoxModel",
     "state": {
      "_dom_classes": [],
      "_model_module": "@jupyter-widgets/controls",
      "_model_module_version": "1.5.0",
      "_model_name": "HBoxModel",
      "_view_count": null,
      "_view_module": "@jupyter-widgets/controls",
      "_view_module_version": "1.5.0",
      "_view_name": "HBoxView",
      "box_style": "",
      "children": [
       "IPY_MODEL_7cea1fac368f4beba44df3cda8ad1977",
       "IPY_MODEL_9d0e18f9cc174bed94ae91523cd50b64"
      ],
      "layout": "IPY_MODEL_5585d048e468417585e82d9b2072583e"
     }
    },
    "87becdd85ba4414397d18bc25a630776": {
     "model_module": "@jupyter-widgets/base",
     "model_name": "LayoutModel",
     "state": {
      "_model_module": "@jupyter-widgets/base",
      "_model_module_version": "1.2.0",
      "_model_name": "LayoutModel",
      "_view_count": null,
      "_view_module": "@jupyter-widgets/base",
      "_view_module_version": "1.2.0",
      "_view_name": "LayoutView",
      "align_content": null,
      "align_items": null,
      "align_self": null,
      "border": null,
      "bottom": null,
      "display": null,
      "flex": null,
      "flex_flow": null,
      "grid_area": null,
      "grid_auto_columns": null,
      "grid_auto_flow": null,
      "grid_auto_rows": null,
      "grid_column": null,
      "grid_gap": null,
      "grid_row": null,
      "grid_template_areas": null,
      "grid_template_columns": null,
      "grid_template_rows": null,
      "height": null,
      "justify_content": null,
      "justify_items": null,
      "left": null,
      "margin": null,
      "max_height": null,
      "max_width": null,
      "min_height": null,
      "min_width": null,
      "object_fit": null,
      "object_position": null,
      "order": null,
      "overflow": null,
      "overflow_x": null,
      "overflow_y": null,
      "padding": null,
      "right": null,
      "top": null,
      "visibility": null,
      "width": null
     }
    },
    "8a4e563939104ec9b132540f25e26eb6": {
     "model_module": "@jupyter-widgets/controls",
     "model_name": "ProgressStyleModel",
     "state": {
      "_model_module": "@jupyter-widgets/controls",
      "_model_module_version": "1.5.0",
      "_model_name": "ProgressStyleModel",
      "_view_count": null,
      "_view_module": "@jupyter-widgets/base",
      "_view_module_version": "1.2.0",
      "_view_name": "StyleView",
      "bar_color": null,
      "description_width": "initial"
     }
    },
    "8ac60c0c45b84790be4281614fd2c7f4": {
     "model_module": "@jupyter-widgets/controls",
     "model_name": "HBoxModel",
     "state": {
      "_dom_classes": [],
      "_model_module": "@jupyter-widgets/controls",
      "_model_module_version": "1.5.0",
      "_model_name": "HBoxModel",
      "_view_count": null,
      "_view_module": "@jupyter-widgets/controls",
      "_view_module_version": "1.5.0",
      "_view_name": "HBoxView",
      "box_style": "",
      "children": [
       "IPY_MODEL_67139ee69b5f4e2687459335451cbfea",
       "IPY_MODEL_1d2274ec2b75408abf7a8c174a93c639"
      ],
      "layout": "IPY_MODEL_80f5fbb395e94ffc927bc4fcd82147bb"
     }
    },
    "8c5730a30c534e618fa2cdfe0a3976bc": {
     "model_module": "@jupyter-widgets/controls",
     "model_name": "HBoxModel",
     "state": {
      "_dom_classes": [],
      "_model_module": "@jupyter-widgets/controls",
      "_model_module_version": "1.5.0",
      "_model_name": "HBoxModel",
      "_view_count": null,
      "_view_module": "@jupyter-widgets/controls",
      "_view_module_version": "1.5.0",
      "_view_name": "HBoxView",
      "box_style": "",
      "children": [
       "IPY_MODEL_fccdfd9687644419b1e03c2761626fe2",
       "IPY_MODEL_8382cb136e714a27bab5c8cb91e9dd86"
      ],
      "layout": "IPY_MODEL_3972394587f243fab8bc27ec3c13ad00"
     }
    },
    "8e1aa29c65764559bd8113e158d0c07f": {
     "model_module": "@jupyter-widgets/base",
     "model_name": "LayoutModel",
     "state": {
      "_model_module": "@jupyter-widgets/base",
      "_model_module_version": "1.2.0",
      "_model_name": "LayoutModel",
      "_view_count": null,
      "_view_module": "@jupyter-widgets/base",
      "_view_module_version": "1.2.0",
      "_view_name": "LayoutView",
      "align_content": null,
      "align_items": null,
      "align_self": null,
      "border": null,
      "bottom": null,
      "display": null,
      "flex": null,
      "flex_flow": null,
      "grid_area": null,
      "grid_auto_columns": null,
      "grid_auto_flow": null,
      "grid_auto_rows": null,
      "grid_column": null,
      "grid_gap": null,
      "grid_row": null,
      "grid_template_areas": null,
      "grid_template_columns": null,
      "grid_template_rows": null,
      "height": null,
      "justify_content": null,
      "justify_items": null,
      "left": null,
      "margin": null,
      "max_height": null,
      "max_width": null,
      "min_height": null,
      "min_width": null,
      "object_fit": null,
      "object_position": null,
      "order": null,
      "overflow": null,
      "overflow_x": null,
      "overflow_y": null,
      "padding": null,
      "right": null,
      "top": null,
      "visibility": null,
      "width": null
     }
    },
    "93d73ebac8ba4ac2a6c25ec27c400d4e": {
     "model_module": "@jupyter-widgets/base",
     "model_name": "LayoutModel",
     "state": {
      "_model_module": "@jupyter-widgets/base",
      "_model_module_version": "1.2.0",
      "_model_name": "LayoutModel",
      "_view_count": null,
      "_view_module": "@jupyter-widgets/base",
      "_view_module_version": "1.2.0",
      "_view_name": "LayoutView",
      "align_content": null,
      "align_items": null,
      "align_self": null,
      "border": null,
      "bottom": null,
      "display": null,
      "flex": null,
      "flex_flow": null,
      "grid_area": null,
      "grid_auto_columns": null,
      "grid_auto_flow": null,
      "grid_auto_rows": null,
      "grid_column": null,
      "grid_gap": null,
      "grid_row": null,
      "grid_template_areas": null,
      "grid_template_columns": null,
      "grid_template_rows": null,
      "height": null,
      "justify_content": null,
      "justify_items": null,
      "left": null,
      "margin": null,
      "max_height": null,
      "max_width": null,
      "min_height": null,
      "min_width": null,
      "object_fit": null,
      "object_position": null,
      "order": null,
      "overflow": null,
      "overflow_x": null,
      "overflow_y": null,
      "padding": null,
      "right": null,
      "top": null,
      "visibility": null,
      "width": null
     }
    },
    "94664029c3f54a70b77551d9441656ce": {
     "model_module": "@jupyter-widgets/controls",
     "model_name": "FloatProgressModel",
     "state": {
      "_dom_classes": [],
      "_model_module": "@jupyter-widgets/controls",
      "_model_module_version": "1.5.0",
      "_model_name": "FloatProgressModel",
      "_view_count": null,
      "_view_module": "@jupyter-widgets/controls",
      "_view_module_version": "1.5.0",
      "_view_name": "ProgressView",
      "bar_style": "success",
      "description": "100%",
      "description_tooltip": null,
      "layout": "IPY_MODEL_994567c2dca049b2a9269a102bdbf73b",
      "max": 5,
      "min": 0,
      "orientation": "horizontal",
      "style": "IPY_MODEL_f2f607f3ce874d11872d146fb8c4b8ae",
      "value": 5
     }
    },
    "96952d45e3dd4a70ae100a93d185f265": {
     "model_module": "@jupyter-widgets/base",
     "model_name": "LayoutModel",
     "state": {
      "_model_module": "@jupyter-widgets/base",
      "_model_module_version": "1.2.0",
      "_model_name": "LayoutModel",
      "_view_count": null,
      "_view_module": "@jupyter-widgets/base",
      "_view_module_version": "1.2.0",
      "_view_name": "LayoutView",
      "align_content": null,
      "align_items": null,
      "align_self": null,
      "border": null,
      "bottom": null,
      "display": null,
      "flex": null,
      "flex_flow": null,
      "grid_area": null,
      "grid_auto_columns": null,
      "grid_auto_flow": null,
      "grid_auto_rows": null,
      "grid_column": null,
      "grid_gap": null,
      "grid_row": null,
      "grid_template_areas": null,
      "grid_template_columns": null,
      "grid_template_rows": null,
      "height": null,
      "justify_content": null,
      "justify_items": null,
      "left": null,
      "margin": null,
      "max_height": null,
      "max_width": null,
      "min_height": null,
      "min_width": null,
      "object_fit": null,
      "object_position": null,
      "order": null,
      "overflow": null,
      "overflow_x": null,
      "overflow_y": null,
      "padding": null,
      "right": null,
      "top": null,
      "visibility": null,
      "width": null
     }
    },
    "9821042a3aac4311b2265b11fb68b518": {
     "model_module": "@jupyter-widgets/base",
     "model_name": "LayoutModel",
     "state": {
      "_model_module": "@jupyter-widgets/base",
      "_model_module_version": "1.2.0",
      "_model_name": "LayoutModel",
      "_view_count": null,
      "_view_module": "@jupyter-widgets/base",
      "_view_module_version": "1.2.0",
      "_view_name": "LayoutView",
      "align_content": null,
      "align_items": null,
      "align_self": null,
      "border": null,
      "bottom": null,
      "display": null,
      "flex": null,
      "flex_flow": null,
      "grid_area": null,
      "grid_auto_columns": null,
      "grid_auto_flow": null,
      "grid_auto_rows": null,
      "grid_column": null,
      "grid_gap": null,
      "grid_row": null,
      "grid_template_areas": null,
      "grid_template_columns": null,
      "grid_template_rows": null,
      "height": null,
      "justify_content": null,
      "justify_items": null,
      "left": null,
      "margin": null,
      "max_height": null,
      "max_width": null,
      "min_height": null,
      "min_width": null,
      "object_fit": null,
      "object_position": null,
      "order": null,
      "overflow": null,
      "overflow_x": null,
      "overflow_y": null,
      "padding": null,
      "right": null,
      "top": null,
      "visibility": null,
      "width": null
     }
    },
    "994567c2dca049b2a9269a102bdbf73b": {
     "model_module": "@jupyter-widgets/base",
     "model_name": "LayoutModel",
     "state": {
      "_model_module": "@jupyter-widgets/base",
      "_model_module_version": "1.2.0",
      "_model_name": "LayoutModel",
      "_view_count": null,
      "_view_module": "@jupyter-widgets/base",
      "_view_module_version": "1.2.0",
      "_view_name": "LayoutView",
      "align_content": null,
      "align_items": null,
      "align_self": null,
      "border": null,
      "bottom": null,
      "display": null,
      "flex": null,
      "flex_flow": null,
      "grid_area": null,
      "grid_auto_columns": null,
      "grid_auto_flow": null,
      "grid_auto_rows": null,
      "grid_column": null,
      "grid_gap": null,
      "grid_row": null,
      "grid_template_areas": null,
      "grid_template_columns": null,
      "grid_template_rows": null,
      "height": null,
      "justify_content": null,
      "justify_items": null,
      "left": null,
      "margin": null,
      "max_height": null,
      "max_width": null,
      "min_height": null,
      "min_width": null,
      "object_fit": null,
      "object_position": null,
      "order": null,
      "overflow": null,
      "overflow_x": null,
      "overflow_y": null,
      "padding": null,
      "right": null,
      "top": null,
      "visibility": null,
      "width": null
     }
    },
    "999c5a8668cf4a939be84e738e4431ed": {
     "model_module": "@jupyter-widgets/controls",
     "model_name": "HTMLModel",
     "state": {
      "_dom_classes": [],
      "_model_module": "@jupyter-widgets/controls",
      "_model_module_version": "1.5.0",
      "_model_name": "HTMLModel",
      "_view_count": null,
      "_view_module": "@jupyter-widgets/controls",
      "_view_module_version": "1.5.0",
      "_view_name": "HTMLView",
      "description": "",
      "description_tooltip": null,
      "layout": "IPY_MODEL_464bd262f31942c4bca6e2b5597853f9",
      "placeholder": "​",
      "style": "IPY_MODEL_d1996480f6d3464d9c579eacb022775f",
      "value": " 5/5 [04:37&lt;00:00, 55.50s/it]"
     }
    },
    "99ce9fbe08744e3aa9fb2f981e6882a2": {
     "model_module": "@jupyter-widgets/base",
     "model_name": "LayoutModel",
     "state": {
      "_model_module": "@jupyter-widgets/base",
      "_model_module_version": "1.2.0",
      "_model_name": "LayoutModel",
      "_view_count": null,
      "_view_module": "@jupyter-widgets/base",
      "_view_module_version": "1.2.0",
      "_view_name": "LayoutView",
      "align_content": null,
      "align_items": null,
      "align_self": null,
      "border": null,
      "bottom": null,
      "display": null,
      "flex": null,
      "flex_flow": null,
      "grid_area": null,
      "grid_auto_columns": null,
      "grid_auto_flow": null,
      "grid_auto_rows": null,
      "grid_column": null,
      "grid_gap": null,
      "grid_row": null,
      "grid_template_areas": null,
      "grid_template_columns": null,
      "grid_template_rows": null,
      "height": null,
      "justify_content": null,
      "justify_items": null,
      "left": null,
      "margin": null,
      "max_height": null,
      "max_width": null,
      "min_height": null,
      "min_width": null,
      "object_fit": null,
      "object_position": null,
      "order": null,
      "overflow": null,
      "overflow_x": null,
      "overflow_y": null,
      "padding": null,
      "right": null,
      "top": null,
      "visibility": null,
      "width": null
     }
    },
    "9a59de4d35e34d8ab7ad65b365866878": {
     "model_module": "@jupyter-widgets/controls",
     "model_name": "HBoxModel",
     "state": {
      "_dom_classes": [],
      "_model_module": "@jupyter-widgets/controls",
      "_model_module_version": "1.5.0",
      "_model_name": "HBoxModel",
      "_view_count": null,
      "_view_module": "@jupyter-widgets/controls",
      "_view_module_version": "1.5.0",
      "_view_name": "HBoxView",
      "box_style": "",
      "children": [
       "IPY_MODEL_5935c2476bee4c08b981f09c4d52f6cf",
       "IPY_MODEL_815f1b7a011b4b0b9999e506ad078ef0"
      ],
      "layout": "IPY_MODEL_859ba52de29d4d81a821581d881491cd"
     }
    },
    "9b46c4ab8e5e43f3ab476059d5c96051": {
     "model_module": "@jupyter-widgets/controls",
     "model_name": "ProgressStyleModel",
     "state": {
      "_model_module": "@jupyter-widgets/controls",
      "_model_module_version": "1.5.0",
      "_model_name": "ProgressStyleModel",
      "_view_count": null,
      "_view_module": "@jupyter-widgets/base",
      "_view_module_version": "1.2.0",
      "_view_name": "StyleView",
      "bar_color": null,
      "description_width": "initial"
     }
    },
    "9c3aa58cc41b465ba295d71efbf5845b": {
     "model_module": "@jupyter-widgets/base",
     "model_name": "LayoutModel",
     "state": {
      "_model_module": "@jupyter-widgets/base",
      "_model_module_version": "1.2.0",
      "_model_name": "LayoutModel",
      "_view_count": null,
      "_view_module": "@jupyter-widgets/base",
      "_view_module_version": "1.2.0",
      "_view_name": "LayoutView",
      "align_content": null,
      "align_items": null,
      "align_self": null,
      "border": null,
      "bottom": null,
      "display": null,
      "flex": null,
      "flex_flow": null,
      "grid_area": null,
      "grid_auto_columns": null,
      "grid_auto_flow": null,
      "grid_auto_rows": null,
      "grid_column": null,
      "grid_gap": null,
      "grid_row": null,
      "grid_template_areas": null,
      "grid_template_columns": null,
      "grid_template_rows": null,
      "height": null,
      "justify_content": null,
      "justify_items": null,
      "left": null,
      "margin": null,
      "max_height": null,
      "max_width": null,
      "min_height": null,
      "min_width": null,
      "object_fit": null,
      "object_position": null,
      "order": null,
      "overflow": null,
      "overflow_x": null,
      "overflow_y": null,
      "padding": null,
      "right": null,
      "top": null,
      "visibility": null,
      "width": null
     }
    },
    "9d0e18f9cc174bed94ae91523cd50b64": {
     "model_module": "@jupyter-widgets/controls",
     "model_name": "HTMLModel",
     "state": {
      "_dom_classes": [],
      "_model_module": "@jupyter-widgets/controls",
      "_model_module_version": "1.5.0",
      "_model_name": "HTMLModel",
      "_view_count": null,
      "_view_module": "@jupyter-widgets/controls",
      "_view_module_version": "1.5.0",
      "_view_name": "HTMLView",
      "description": "",
      "description_tooltip": null,
      "layout": "IPY_MODEL_9fc8cc1ddb5741e0ab1b0f533df572cb",
      "placeholder": "​",
      "style": "IPY_MODEL_49e3698da4dc42c59805440df8fee0e5",
      "value": " 5/5 [03:38&lt;00:00, 43.73s/it]"
     }
    },
    "9e3a592aac5c44ff8c4553acf65b4a75": {
     "model_module": "@jupyter-widgets/controls",
     "model_name": "HTMLModel",
     "state": {
      "_dom_classes": [],
      "_model_module": "@jupyter-widgets/controls",
      "_model_module_version": "1.5.0",
      "_model_name": "HTMLModel",
      "_view_count": null,
      "_view_module": "@jupyter-widgets/controls",
      "_view_module_version": "1.5.0",
      "_view_name": "HTMLView",
      "description": "",
      "description_tooltip": null,
      "layout": "IPY_MODEL_c9b9026bdba749e38bbba8806952be2f",
      "placeholder": "​",
      "style": "IPY_MODEL_eea19f343fdd4d5ca836af39b8b041a7",
      "value": " 5/5 [04:06&lt;00:00, 49.36s/it]"
     }
    },
    "9f38cb19ad87463681a1d76afd0db51d": {
     "model_module": "@jupyter-widgets/base",
     "model_name": "LayoutModel",
     "state": {
      "_model_module": "@jupyter-widgets/base",
      "_model_module_version": "1.2.0",
      "_model_name": "LayoutModel",
      "_view_count": null,
      "_view_module": "@jupyter-widgets/base",
      "_view_module_version": "1.2.0",
      "_view_name": "LayoutView",
      "align_content": null,
      "align_items": null,
      "align_self": null,
      "border": null,
      "bottom": null,
      "display": null,
      "flex": null,
      "flex_flow": null,
      "grid_area": null,
      "grid_auto_columns": null,
      "grid_auto_flow": null,
      "grid_auto_rows": null,
      "grid_column": null,
      "grid_gap": null,
      "grid_row": null,
      "grid_template_areas": null,
      "grid_template_columns": null,
      "grid_template_rows": null,
      "height": null,
      "justify_content": null,
      "justify_items": null,
      "left": null,
      "margin": null,
      "max_height": null,
      "max_width": null,
      "min_height": null,
      "min_width": null,
      "object_fit": null,
      "object_position": null,
      "order": null,
      "overflow": null,
      "overflow_x": null,
      "overflow_y": null,
      "padding": null,
      "right": null,
      "top": null,
      "visibility": null,
      "width": null
     }
    },
    "9fc8cc1ddb5741e0ab1b0f533df572cb": {
     "model_module": "@jupyter-widgets/base",
     "model_name": "LayoutModel",
     "state": {
      "_model_module": "@jupyter-widgets/base",
      "_model_module_version": "1.2.0",
      "_model_name": "LayoutModel",
      "_view_count": null,
      "_view_module": "@jupyter-widgets/base",
      "_view_module_version": "1.2.0",
      "_view_name": "LayoutView",
      "align_content": null,
      "align_items": null,
      "align_self": null,
      "border": null,
      "bottom": null,
      "display": null,
      "flex": null,
      "flex_flow": null,
      "grid_area": null,
      "grid_auto_columns": null,
      "grid_auto_flow": null,
      "grid_auto_rows": null,
      "grid_column": null,
      "grid_gap": null,
      "grid_row": null,
      "grid_template_areas": null,
      "grid_template_columns": null,
      "grid_template_rows": null,
      "height": null,
      "justify_content": null,
      "justify_items": null,
      "left": null,
      "margin": null,
      "max_height": null,
      "max_width": null,
      "min_height": null,
      "min_width": null,
      "object_fit": null,
      "object_position": null,
      "order": null,
      "overflow": null,
      "overflow_x": null,
      "overflow_y": null,
      "padding": null,
      "right": null,
      "top": null,
      "visibility": null,
      "width": null
     }
    },
    "a072c05ffae3480193e3f4b1429cd3c8": {
     "model_module": "@jupyter-widgets/controls",
     "model_name": "HBoxModel",
     "state": {
      "_dom_classes": [],
      "_model_module": "@jupyter-widgets/controls",
      "_model_module_version": "1.5.0",
      "_model_name": "HBoxModel",
      "_view_count": null,
      "_view_module": "@jupyter-widgets/controls",
      "_view_module_version": "1.5.0",
      "_view_name": "HBoxView",
      "box_style": "",
      "children": [
       "IPY_MODEL_1c450332d03643b4bd93692bdc4633ae",
       "IPY_MODEL_01f303550f924aa9b11d8c99b56a00d8"
      ],
      "layout": "IPY_MODEL_7c71bd96a79f4e718e42526e6ddeb101"
     }
    },
    "a1a6fa291ca2494ba504a8a22e0df231": {
     "model_module": "@jupyter-widgets/base",
     "model_name": "LayoutModel",
     "state": {
      "_model_module": "@jupyter-widgets/base",
      "_model_module_version": "1.2.0",
      "_model_name": "LayoutModel",
      "_view_count": null,
      "_view_module": "@jupyter-widgets/base",
      "_view_module_version": "1.2.0",
      "_view_name": "LayoutView",
      "align_content": null,
      "align_items": null,
      "align_self": null,
      "border": null,
      "bottom": null,
      "display": null,
      "flex": null,
      "flex_flow": null,
      "grid_area": null,
      "grid_auto_columns": null,
      "grid_auto_flow": null,
      "grid_auto_rows": null,
      "grid_column": null,
      "grid_gap": null,
      "grid_row": null,
      "grid_template_areas": null,
      "grid_template_columns": null,
      "grid_template_rows": null,
      "height": null,
      "justify_content": null,
      "justify_items": null,
      "left": null,
      "margin": null,
      "max_height": null,
      "max_width": null,
      "min_height": null,
      "min_width": null,
      "object_fit": null,
      "object_position": null,
      "order": null,
      "overflow": null,
      "overflow_x": null,
      "overflow_y": null,
      "padding": null,
      "right": null,
      "top": null,
      "visibility": null,
      "width": null
     }
    },
    "a1d9d12fe73d4e8ba4f6e33dcd6e51df": {
     "model_module": "@jupyter-widgets/controls",
     "model_name": "ProgressStyleModel",
     "state": {
      "_model_module": "@jupyter-widgets/controls",
      "_model_module_version": "1.5.0",
      "_model_name": "ProgressStyleModel",
      "_view_count": null,
      "_view_module": "@jupyter-widgets/base",
      "_view_module_version": "1.2.0",
      "_view_name": "StyleView",
      "bar_color": null,
      "description_width": "initial"
     }
    },
    "a1dac20cbae1480e83efa65b2e5aeaf5": {
     "model_module": "@jupyter-widgets/controls",
     "model_name": "HTMLModel",
     "state": {
      "_dom_classes": [],
      "_model_module": "@jupyter-widgets/controls",
      "_model_module_version": "1.5.0",
      "_model_name": "HTMLModel",
      "_view_count": null,
      "_view_module": "@jupyter-widgets/controls",
      "_view_module_version": "1.5.0",
      "_view_name": "HTMLView",
      "description": "",
      "description_tooltip": null,
      "layout": "IPY_MODEL_11eb954fab934ecfa0c026645195d108",
      "placeholder": "​",
      "style": "IPY_MODEL_59bf4995f7af488f981eb9e5e6fe8065",
      "value": " 5/5 [04:34&lt;00:00, 54.99s/it]"
     }
    },
    "a2a81e3789ce4db2bf2f17f2114ee948": {
     "model_module": "@jupyter-widgets/base",
     "model_name": "LayoutModel",
     "state": {
      "_model_module": "@jupyter-widgets/base",
      "_model_module_version": "1.2.0",
      "_model_name": "LayoutModel",
      "_view_count": null,
      "_view_module": "@jupyter-widgets/base",
      "_view_module_version": "1.2.0",
      "_view_name": "LayoutView",
      "align_content": null,
      "align_items": null,
      "align_self": null,
      "border": null,
      "bottom": null,
      "display": null,
      "flex": null,
      "flex_flow": null,
      "grid_area": null,
      "grid_auto_columns": null,
      "grid_auto_flow": null,
      "grid_auto_rows": null,
      "grid_column": null,
      "grid_gap": null,
      "grid_row": null,
      "grid_template_areas": null,
      "grid_template_columns": null,
      "grid_template_rows": null,
      "height": null,
      "justify_content": null,
      "justify_items": null,
      "left": null,
      "margin": null,
      "max_height": null,
      "max_width": null,
      "min_height": null,
      "min_width": null,
      "object_fit": null,
      "object_position": null,
      "order": null,
      "overflow": null,
      "overflow_x": null,
      "overflow_y": null,
      "padding": null,
      "right": null,
      "top": null,
      "visibility": null,
      "width": null
     }
    },
    "a66d38f58b5b4b2698e91834ef428326": {
     "model_module": "@jupyter-widgets/controls",
     "model_name": "DescriptionStyleModel",
     "state": {
      "_model_module": "@jupyter-widgets/controls",
      "_model_module_version": "1.5.0",
      "_model_name": "DescriptionStyleModel",
      "_view_count": null,
      "_view_module": "@jupyter-widgets/base",
      "_view_module_version": "1.2.0",
      "_view_name": "StyleView",
      "description_width": ""
     }
    },
    "a6eb5e80e1a14e539c9152bd53d41371": {
     "model_module": "@jupyter-widgets/controls",
     "model_name": "FloatProgressModel",
     "state": {
      "_dom_classes": [],
      "_model_module": "@jupyter-widgets/controls",
      "_model_module_version": "1.5.0",
      "_model_name": "FloatProgressModel",
      "_view_count": null,
      "_view_module": "@jupyter-widgets/controls",
      "_view_module_version": "1.5.0",
      "_view_name": "ProgressView",
      "bar_style": "success",
      "description": "100%",
      "description_tooltip": null,
      "layout": "IPY_MODEL_322ab4561d08464ba8c6cc4f4e7beb5c",
      "max": 5,
      "min": 0,
      "orientation": "horizontal",
      "style": "IPY_MODEL_1a4569ba50eb42e7bd35be9d3d6b2e75",
      "value": 5
     }
    },
    "a6eff010d9a6476cb093849d1116b819": {
     "model_module": "@jupyter-widgets/controls",
     "model_name": "HBoxModel",
     "state": {
      "_dom_classes": [],
      "_model_module": "@jupyter-widgets/controls",
      "_model_module_version": "1.5.0",
      "_model_name": "HBoxModel",
      "_view_count": null,
      "_view_module": "@jupyter-widgets/controls",
      "_view_module_version": "1.5.0",
      "_view_name": "HBoxView",
      "box_style": "",
      "children": [
       "IPY_MODEL_aa83b870e7fb415f924eb9c1da955d8b",
       "IPY_MODEL_6392610f67254a6e8c317c8ed5f24c55"
      ],
      "layout": "IPY_MODEL_b6327c64e5e54e46ac6a935da7312399"
     }
    },
    "a79d7842d816479aafb12f3681dbc4c7": {
     "model_module": "@jupyter-widgets/controls",
     "model_name": "ProgressStyleModel",
     "state": {
      "_model_module": "@jupyter-widgets/controls",
      "_model_module_version": "1.5.0",
      "_model_name": "ProgressStyleModel",
      "_view_count": null,
      "_view_module": "@jupyter-widgets/base",
      "_view_module_version": "1.2.0",
      "_view_name": "StyleView",
      "bar_color": null,
      "description_width": "initial"
     }
    },
    "a7d0f623d09f405ba233deb532a76c23": {
     "model_module": "@jupyter-widgets/controls",
     "model_name": "DescriptionStyleModel",
     "state": {
      "_model_module": "@jupyter-widgets/controls",
      "_model_module_version": "1.5.0",
      "_model_name": "DescriptionStyleModel",
      "_view_count": null,
      "_view_module": "@jupyter-widgets/base",
      "_view_module_version": "1.2.0",
      "_view_name": "StyleView",
      "description_width": ""
     }
    },
    "a831f7aa202b4a1aab4b7ea4a88d3470": {
     "model_module": "@jupyter-widgets/base",
     "model_name": "LayoutModel",
     "state": {
      "_model_module": "@jupyter-widgets/base",
      "_model_module_version": "1.2.0",
      "_model_name": "LayoutModel",
      "_view_count": null,
      "_view_module": "@jupyter-widgets/base",
      "_view_module_version": "1.2.0",
      "_view_name": "LayoutView",
      "align_content": null,
      "align_items": null,
      "align_self": null,
      "border": null,
      "bottom": null,
      "display": null,
      "flex": null,
      "flex_flow": null,
      "grid_area": null,
      "grid_auto_columns": null,
      "grid_auto_flow": null,
      "grid_auto_rows": null,
      "grid_column": null,
      "grid_gap": null,
      "grid_row": null,
      "grid_template_areas": null,
      "grid_template_columns": null,
      "grid_template_rows": null,
      "height": null,
      "justify_content": null,
      "justify_items": null,
      "left": null,
      "margin": null,
      "max_height": null,
      "max_width": null,
      "min_height": null,
      "min_width": null,
      "object_fit": null,
      "object_position": null,
      "order": null,
      "overflow": null,
      "overflow_x": null,
      "overflow_y": null,
      "padding": null,
      "right": null,
      "top": null,
      "visibility": null,
      "width": null
     }
    },
    "a8cfa715e52646c088ef54cea70f19d9": {
     "model_module": "@jupyter-widgets/controls",
     "model_name": "HTMLModel",
     "state": {
      "_dom_classes": [],
      "_model_module": "@jupyter-widgets/controls",
      "_model_module_version": "1.5.0",
      "_model_name": "HTMLModel",
      "_view_count": null,
      "_view_module": "@jupyter-widgets/controls",
      "_view_module_version": "1.5.0",
      "_view_name": "HTMLView",
      "description": "",
      "description_tooltip": null,
      "layout": "IPY_MODEL_6f4d2041d9aa44d796155b322efb1048",
      "placeholder": "​",
      "style": "IPY_MODEL_1f72871a7f2648e59ca56fb089413ad3",
      "value": " 5/5 [02:21&lt;00:00, 28.28s/it]"
     }
    },
    "a906441009364859b1279ff005fd52c8": {
     "model_module": "@jupyter-widgets/controls",
     "model_name": "ProgressStyleModel",
     "state": {
      "_model_module": "@jupyter-widgets/controls",
      "_model_module_version": "1.5.0",
      "_model_name": "ProgressStyleModel",
      "_view_count": null,
      "_view_module": "@jupyter-widgets/base",
      "_view_module_version": "1.2.0",
      "_view_name": "StyleView",
      "bar_color": null,
      "description_width": "initial"
     }
    },
    "a98b9727d68f4b1b90e89a7733a93228": {
     "model_module": "@jupyter-widgets/controls",
     "model_name": "ProgressStyleModel",
     "state": {
      "_model_module": "@jupyter-widgets/controls",
      "_model_module_version": "1.5.0",
      "_model_name": "ProgressStyleModel",
      "_view_count": null,
      "_view_module": "@jupyter-widgets/base",
      "_view_module_version": "1.2.0",
      "_view_name": "StyleView",
      "bar_color": null,
      "description_width": "initial"
     }
    },
    "aa0a848d054f4a409bc95004190fba5c": {
     "model_module": "@jupyter-widgets/base",
     "model_name": "LayoutModel",
     "state": {
      "_model_module": "@jupyter-widgets/base",
      "_model_module_version": "1.2.0",
      "_model_name": "LayoutModel",
      "_view_count": null,
      "_view_module": "@jupyter-widgets/base",
      "_view_module_version": "1.2.0",
      "_view_name": "LayoutView",
      "align_content": null,
      "align_items": null,
      "align_self": null,
      "border": null,
      "bottom": null,
      "display": null,
      "flex": null,
      "flex_flow": null,
      "grid_area": null,
      "grid_auto_columns": null,
      "grid_auto_flow": null,
      "grid_auto_rows": null,
      "grid_column": null,
      "grid_gap": null,
      "grid_row": null,
      "grid_template_areas": null,
      "grid_template_columns": null,
      "grid_template_rows": null,
      "height": null,
      "justify_content": null,
      "justify_items": null,
      "left": null,
      "margin": null,
      "max_height": null,
      "max_width": null,
      "min_height": null,
      "min_width": null,
      "object_fit": null,
      "object_position": null,
      "order": null,
      "overflow": null,
      "overflow_x": null,
      "overflow_y": null,
      "padding": null,
      "right": null,
      "top": null,
      "visibility": null,
      "width": null
     }
    },
    "aa5ddc893fbc4c1f93204acdc791fc41": {
     "model_module": "@jupyter-widgets/controls",
     "model_name": "HBoxModel",
     "state": {
      "_dom_classes": [],
      "_model_module": "@jupyter-widgets/controls",
      "_model_module_version": "1.5.0",
      "_model_name": "HBoxModel",
      "_view_count": null,
      "_view_module": "@jupyter-widgets/controls",
      "_view_module_version": "1.5.0",
      "_view_name": "HBoxView",
      "box_style": "",
      "children": [
       "IPY_MODEL_b95a1348d4ab4622b783e5c655bb440d",
       "IPY_MODEL_4c957a079ca6488cb694fc45bf1e8f9c"
      ],
      "layout": "IPY_MODEL_2ac3b6438a6149cdb117c413a70620ce"
     }
    },
    "aa83b870e7fb415f924eb9c1da955d8b": {
     "model_module": "@jupyter-widgets/controls",
     "model_name": "FloatProgressModel",
     "state": {
      "_dom_classes": [],
      "_model_module": "@jupyter-widgets/controls",
      "_model_module_version": "1.5.0",
      "_model_name": "FloatProgressModel",
      "_view_count": null,
      "_view_module": "@jupyter-widgets/controls",
      "_view_module_version": "1.5.0",
      "_view_name": "ProgressView",
      "bar_style": "success",
      "description": "100%",
      "description_tooltip": null,
      "layout": "IPY_MODEL_4760405b4cfd4db1a2071db41f6d5c4a",
      "max": 5,
      "min": 0,
      "orientation": "horizontal",
      "style": "IPY_MODEL_a79d7842d816479aafb12f3681dbc4c7",
      "value": 5
     }
    },
    "abe60bba69f6484f81eac293e61adedb": {
     "model_module": "@jupyter-widgets/base",
     "model_name": "LayoutModel",
     "state": {
      "_model_module": "@jupyter-widgets/base",
      "_model_module_version": "1.2.0",
      "_model_name": "LayoutModel",
      "_view_count": null,
      "_view_module": "@jupyter-widgets/base",
      "_view_module_version": "1.2.0",
      "_view_name": "LayoutView",
      "align_content": null,
      "align_items": null,
      "align_self": null,
      "border": null,
      "bottom": null,
      "display": null,
      "flex": null,
      "flex_flow": null,
      "grid_area": null,
      "grid_auto_columns": null,
      "grid_auto_flow": null,
      "grid_auto_rows": null,
      "grid_column": null,
      "grid_gap": null,
      "grid_row": null,
      "grid_template_areas": null,
      "grid_template_columns": null,
      "grid_template_rows": null,
      "height": null,
      "justify_content": null,
      "justify_items": null,
      "left": null,
      "margin": null,
      "max_height": null,
      "max_width": null,
      "min_height": null,
      "min_width": null,
      "object_fit": null,
      "object_position": null,
      "order": null,
      "overflow": null,
      "overflow_x": null,
      "overflow_y": null,
      "padding": null,
      "right": null,
      "top": null,
      "visibility": null,
      "width": null
     }
    },
    "ac1e6a17a34f425ab98f990191211783": {
     "model_module": "@jupyter-widgets/controls",
     "model_name": "FloatProgressModel",
     "state": {
      "_dom_classes": [],
      "_model_module": "@jupyter-widgets/controls",
      "_model_module_version": "1.5.0",
      "_model_name": "FloatProgressModel",
      "_view_count": null,
      "_view_module": "@jupyter-widgets/controls",
      "_view_module_version": "1.5.0",
      "_view_name": "ProgressView",
      "bar_style": "success",
      "description": "100%",
      "description_tooltip": null,
      "layout": "IPY_MODEL_c6cf5590ce0e494a99b1d8e3e6ba25a2",
      "max": 5,
      "min": 0,
      "orientation": "horizontal",
      "style": "IPY_MODEL_57ad75155db0406ba1b1b04f0873474b",
      "value": 5
     }
    },
    "ac415d7fbf1042ca9b199b854e6106ac": {
     "model_module": "@jupyter-widgets/controls",
     "model_name": "HBoxModel",
     "state": {
      "_dom_classes": [],
      "_model_module": "@jupyter-widgets/controls",
      "_model_module_version": "1.5.0",
      "_model_name": "HBoxModel",
      "_view_count": null,
      "_view_module": "@jupyter-widgets/controls",
      "_view_module_version": "1.5.0",
      "_view_name": "HBoxView",
      "box_style": "",
      "children": [
       "IPY_MODEL_ac1e6a17a34f425ab98f990191211783",
       "IPY_MODEL_a8cfa715e52646c088ef54cea70f19d9"
      ],
      "layout": "IPY_MODEL_afe04340f2144b20afae89717dc6f356"
     }
    },
    "ac9640353088407bae39e65c95ba9707": {
     "model_module": "@jupyter-widgets/controls",
     "model_name": "DescriptionStyleModel",
     "state": {
      "_model_module": "@jupyter-widgets/controls",
      "_model_module_version": "1.5.0",
      "_model_name": "DescriptionStyleModel",
      "_view_count": null,
      "_view_module": "@jupyter-widgets/base",
      "_view_module_version": "1.2.0",
      "_view_name": "StyleView",
      "description_width": ""
     }
    },
    "ad98e2a02be04d6d8820bf84cc86fb6c": {
     "model_module": "@jupyter-widgets/controls",
     "model_name": "DescriptionStyleModel",
     "state": {
      "_model_module": "@jupyter-widgets/controls",
      "_model_module_version": "1.5.0",
      "_model_name": "DescriptionStyleModel",
      "_view_count": null,
      "_view_module": "@jupyter-widgets/base",
      "_view_module_version": "1.2.0",
      "_view_name": "StyleView",
      "description_width": ""
     }
    },
    "af0a784605034a13b731d7ae5475426d": {
     "model_module": "@jupyter-widgets/base",
     "model_name": "LayoutModel",
     "state": {
      "_model_module": "@jupyter-widgets/base",
      "_model_module_version": "1.2.0",
      "_model_name": "LayoutModel",
      "_view_count": null,
      "_view_module": "@jupyter-widgets/base",
      "_view_module_version": "1.2.0",
      "_view_name": "LayoutView",
      "align_content": null,
      "align_items": null,
      "align_self": null,
      "border": null,
      "bottom": null,
      "display": null,
      "flex": null,
      "flex_flow": null,
      "grid_area": null,
      "grid_auto_columns": null,
      "grid_auto_flow": null,
      "grid_auto_rows": null,
      "grid_column": null,
      "grid_gap": null,
      "grid_row": null,
      "grid_template_areas": null,
      "grid_template_columns": null,
      "grid_template_rows": null,
      "height": null,
      "justify_content": null,
      "justify_items": null,
      "left": null,
      "margin": null,
      "max_height": null,
      "max_width": null,
      "min_height": null,
      "min_width": null,
      "object_fit": null,
      "object_position": null,
      "order": null,
      "overflow": null,
      "overflow_x": null,
      "overflow_y": null,
      "padding": null,
      "right": null,
      "top": null,
      "visibility": null,
      "width": null
     }
    },
    "afe04340f2144b20afae89717dc6f356": {
     "model_module": "@jupyter-widgets/base",
     "model_name": "LayoutModel",
     "state": {
      "_model_module": "@jupyter-widgets/base",
      "_model_module_version": "1.2.0",
      "_model_name": "LayoutModel",
      "_view_count": null,
      "_view_module": "@jupyter-widgets/base",
      "_view_module_version": "1.2.0",
      "_view_name": "LayoutView",
      "align_content": null,
      "align_items": null,
      "align_self": null,
      "border": null,
      "bottom": null,
      "display": null,
      "flex": null,
      "flex_flow": null,
      "grid_area": null,
      "grid_auto_columns": null,
      "grid_auto_flow": null,
      "grid_auto_rows": null,
      "grid_column": null,
      "grid_gap": null,
      "grid_row": null,
      "grid_template_areas": null,
      "grid_template_columns": null,
      "grid_template_rows": null,
      "height": null,
      "justify_content": null,
      "justify_items": null,
      "left": null,
      "margin": null,
      "max_height": null,
      "max_width": null,
      "min_height": null,
      "min_width": null,
      "object_fit": null,
      "object_position": null,
      "order": null,
      "overflow": null,
      "overflow_x": null,
      "overflow_y": null,
      "padding": null,
      "right": null,
      "top": null,
      "visibility": null,
      "width": null
     }
    },
    "b31033efd66a41788c498b946cfb4c2c": {
     "model_module": "@jupyter-widgets/base",
     "model_name": "LayoutModel",
     "state": {
      "_model_module": "@jupyter-widgets/base",
      "_model_module_version": "1.2.0",
      "_model_name": "LayoutModel",
      "_view_count": null,
      "_view_module": "@jupyter-widgets/base",
      "_view_module_version": "1.2.0",
      "_view_name": "LayoutView",
      "align_content": null,
      "align_items": null,
      "align_self": null,
      "border": null,
      "bottom": null,
      "display": null,
      "flex": null,
      "flex_flow": null,
      "grid_area": null,
      "grid_auto_columns": null,
      "grid_auto_flow": null,
      "grid_auto_rows": null,
      "grid_column": null,
      "grid_gap": null,
      "grid_row": null,
      "grid_template_areas": null,
      "grid_template_columns": null,
      "grid_template_rows": null,
      "height": null,
      "justify_content": null,
      "justify_items": null,
      "left": null,
      "margin": null,
      "max_height": null,
      "max_width": null,
      "min_height": null,
      "min_width": null,
      "object_fit": null,
      "object_position": null,
      "order": null,
      "overflow": null,
      "overflow_x": null,
      "overflow_y": null,
      "padding": null,
      "right": null,
      "top": null,
      "visibility": null,
      "width": null
     }
    },
    "b4f9432eba0d4a4892e52c812c9c0fad": {
     "model_module": "@jupyter-widgets/base",
     "model_name": "LayoutModel",
     "state": {
      "_model_module": "@jupyter-widgets/base",
      "_model_module_version": "1.2.0",
      "_model_name": "LayoutModel",
      "_view_count": null,
      "_view_module": "@jupyter-widgets/base",
      "_view_module_version": "1.2.0",
      "_view_name": "LayoutView",
      "align_content": null,
      "align_items": null,
      "align_self": null,
      "border": null,
      "bottom": null,
      "display": null,
      "flex": null,
      "flex_flow": null,
      "grid_area": null,
      "grid_auto_columns": null,
      "grid_auto_flow": null,
      "grid_auto_rows": null,
      "grid_column": null,
      "grid_gap": null,
      "grid_row": null,
      "grid_template_areas": null,
      "grid_template_columns": null,
      "grid_template_rows": null,
      "height": null,
      "justify_content": null,
      "justify_items": null,
      "left": null,
      "margin": null,
      "max_height": null,
      "max_width": null,
      "min_height": null,
      "min_width": null,
      "object_fit": null,
      "object_position": null,
      "order": null,
      "overflow": null,
      "overflow_x": null,
      "overflow_y": null,
      "padding": null,
      "right": null,
      "top": null,
      "visibility": null,
      "width": null
     }
    },
    "b6327c64e5e54e46ac6a935da7312399": {
     "model_module": "@jupyter-widgets/base",
     "model_name": "LayoutModel",
     "state": {
      "_model_module": "@jupyter-widgets/base",
      "_model_module_version": "1.2.0",
      "_model_name": "LayoutModel",
      "_view_count": null,
      "_view_module": "@jupyter-widgets/base",
      "_view_module_version": "1.2.0",
      "_view_name": "LayoutView",
      "align_content": null,
      "align_items": null,
      "align_self": null,
      "border": null,
      "bottom": null,
      "display": null,
      "flex": null,
      "flex_flow": null,
      "grid_area": null,
      "grid_auto_columns": null,
      "grid_auto_flow": null,
      "grid_auto_rows": null,
      "grid_column": null,
      "grid_gap": null,
      "grid_row": null,
      "grid_template_areas": null,
      "grid_template_columns": null,
      "grid_template_rows": null,
      "height": null,
      "justify_content": null,
      "justify_items": null,
      "left": null,
      "margin": null,
      "max_height": null,
      "max_width": null,
      "min_height": null,
      "min_width": null,
      "object_fit": null,
      "object_position": null,
      "order": null,
      "overflow": null,
      "overflow_x": null,
      "overflow_y": null,
      "padding": null,
      "right": null,
      "top": null,
      "visibility": null,
      "width": null
     }
    },
    "b759512c397d4bef9a6859e48fc72531": {
     "model_module": "@jupyter-widgets/base",
     "model_name": "LayoutModel",
     "state": {
      "_model_module": "@jupyter-widgets/base",
      "_model_module_version": "1.2.0",
      "_model_name": "LayoutModel",
      "_view_count": null,
      "_view_module": "@jupyter-widgets/base",
      "_view_module_version": "1.2.0",
      "_view_name": "LayoutView",
      "align_content": null,
      "align_items": null,
      "align_self": null,
      "border": null,
      "bottom": null,
      "display": null,
      "flex": null,
      "flex_flow": null,
      "grid_area": null,
      "grid_auto_columns": null,
      "grid_auto_flow": null,
      "grid_auto_rows": null,
      "grid_column": null,
      "grid_gap": null,
      "grid_row": null,
      "grid_template_areas": null,
      "grid_template_columns": null,
      "grid_template_rows": null,
      "height": null,
      "justify_content": null,
      "justify_items": null,
      "left": null,
      "margin": null,
      "max_height": null,
      "max_width": null,
      "min_height": null,
      "min_width": null,
      "object_fit": null,
      "object_position": null,
      "order": null,
      "overflow": null,
      "overflow_x": null,
      "overflow_y": null,
      "padding": null,
      "right": null,
      "top": null,
      "visibility": null,
      "width": null
     }
    },
    "b86fb84075bf4d4e94785ce808a3e1fb": {
     "model_module": "@jupyter-widgets/controls",
     "model_name": "HTMLModel",
     "state": {
      "_dom_classes": [],
      "_model_module": "@jupyter-widgets/controls",
      "_model_module_version": "1.5.0",
      "_model_name": "HTMLModel",
      "_view_count": null,
      "_view_module": "@jupyter-widgets/controls",
      "_view_module_version": "1.5.0",
      "_view_name": "HTMLView",
      "description": "",
      "description_tooltip": null,
      "layout": "IPY_MODEL_0eb389c8577447dfa43778c01b7d8276",
      "placeholder": "​",
      "style": "IPY_MODEL_062b83f74eed48bd95b6731a6c623337",
      "value": " 5/5 [03:42&lt;00:00, 44.46s/it]"
     }
    },
    "b8fd2d590f494008aaa64d9714724670": {
     "model_module": "@jupyter-widgets/base",
     "model_name": "LayoutModel",
     "state": {
      "_model_module": "@jupyter-widgets/base",
      "_model_module_version": "1.2.0",
      "_model_name": "LayoutModel",
      "_view_count": null,
      "_view_module": "@jupyter-widgets/base",
      "_view_module_version": "1.2.0",
      "_view_name": "LayoutView",
      "align_content": null,
      "align_items": null,
      "align_self": null,
      "border": null,
      "bottom": null,
      "display": null,
      "flex": null,
      "flex_flow": null,
      "grid_area": null,
      "grid_auto_columns": null,
      "grid_auto_flow": null,
      "grid_auto_rows": null,
      "grid_column": null,
      "grid_gap": null,
      "grid_row": null,
      "grid_template_areas": null,
      "grid_template_columns": null,
      "grid_template_rows": null,
      "height": null,
      "justify_content": null,
      "justify_items": null,
      "left": null,
      "margin": null,
      "max_height": null,
      "max_width": null,
      "min_height": null,
      "min_width": null,
      "object_fit": null,
      "object_position": null,
      "order": null,
      "overflow": null,
      "overflow_x": null,
      "overflow_y": null,
      "padding": null,
      "right": null,
      "top": null,
      "visibility": null,
      "width": null
     }
    },
    "b95a1348d4ab4622b783e5c655bb440d": {
     "model_module": "@jupyter-widgets/controls",
     "model_name": "FloatProgressModel",
     "state": {
      "_dom_classes": [],
      "_model_module": "@jupyter-widgets/controls",
      "_model_module_version": "1.5.0",
      "_model_name": "FloatProgressModel",
      "_view_count": null,
      "_view_module": "@jupyter-widgets/controls",
      "_view_module_version": "1.5.0",
      "_view_name": "ProgressView",
      "bar_style": "success",
      "description": "100%",
      "description_tooltip": null,
      "layout": "IPY_MODEL_212c1894535b441a86811b5efc55df63",
      "max": 5,
      "min": 0,
      "orientation": "horizontal",
      "style": "IPY_MODEL_a906441009364859b1279ff005fd52c8",
      "value": 5
     }
    },
    "bc8d0cbd23664d668406931b181fcb64": {
     "model_module": "@jupyter-widgets/base",
     "model_name": "LayoutModel",
     "state": {
      "_model_module": "@jupyter-widgets/base",
      "_model_module_version": "1.2.0",
      "_model_name": "LayoutModel",
      "_view_count": null,
      "_view_module": "@jupyter-widgets/base",
      "_view_module_version": "1.2.0",
      "_view_name": "LayoutView",
      "align_content": null,
      "align_items": null,
      "align_self": null,
      "border": null,
      "bottom": null,
      "display": null,
      "flex": null,
      "flex_flow": null,
      "grid_area": null,
      "grid_auto_columns": null,
      "grid_auto_flow": null,
      "grid_auto_rows": null,
      "grid_column": null,
      "grid_gap": null,
      "grid_row": null,
      "grid_template_areas": null,
      "grid_template_columns": null,
      "grid_template_rows": null,
      "height": null,
      "justify_content": null,
      "justify_items": null,
      "left": null,
      "margin": null,
      "max_height": null,
      "max_width": null,
      "min_height": null,
      "min_width": null,
      "object_fit": null,
      "object_position": null,
      "order": null,
      "overflow": null,
      "overflow_x": null,
      "overflow_y": null,
      "padding": null,
      "right": null,
      "top": null,
      "visibility": null,
      "width": null
     }
    },
    "bce885834f6f49669dd655107c3d328d": {
     "model_module": "@jupyter-widgets/base",
     "model_name": "LayoutModel",
     "state": {
      "_model_module": "@jupyter-widgets/base",
      "_model_module_version": "1.2.0",
      "_model_name": "LayoutModel",
      "_view_count": null,
      "_view_module": "@jupyter-widgets/base",
      "_view_module_version": "1.2.0",
      "_view_name": "LayoutView",
      "align_content": null,
      "align_items": null,
      "align_self": null,
      "border": null,
      "bottom": null,
      "display": null,
      "flex": null,
      "flex_flow": null,
      "grid_area": null,
      "grid_auto_columns": null,
      "grid_auto_flow": null,
      "grid_auto_rows": null,
      "grid_column": null,
      "grid_gap": null,
      "grid_row": null,
      "grid_template_areas": null,
      "grid_template_columns": null,
      "grid_template_rows": null,
      "height": null,
      "justify_content": null,
      "justify_items": null,
      "left": null,
      "margin": null,
      "max_height": null,
      "max_width": null,
      "min_height": null,
      "min_width": null,
      "object_fit": null,
      "object_position": null,
      "order": null,
      "overflow": null,
      "overflow_x": null,
      "overflow_y": null,
      "padding": null,
      "right": null,
      "top": null,
      "visibility": null,
      "width": null
     }
    },
    "c28d2bee3ef44d24b659921402b59104": {
     "model_module": "@jupyter-widgets/controls",
     "model_name": "ProgressStyleModel",
     "state": {
      "_model_module": "@jupyter-widgets/controls",
      "_model_module_version": "1.5.0",
      "_model_name": "ProgressStyleModel",
      "_view_count": null,
      "_view_module": "@jupyter-widgets/base",
      "_view_module_version": "1.2.0",
      "_view_name": "StyleView",
      "bar_color": null,
      "description_width": "initial"
     }
    },
    "c3a3e6316f8a4c1f9e561d832d81978a": {
     "model_module": "@jupyter-widgets/controls",
     "model_name": "ProgressStyleModel",
     "state": {
      "_model_module": "@jupyter-widgets/controls",
      "_model_module_version": "1.5.0",
      "_model_name": "ProgressStyleModel",
      "_view_count": null,
      "_view_module": "@jupyter-widgets/base",
      "_view_module_version": "1.2.0",
      "_view_name": "StyleView",
      "bar_color": null,
      "description_width": "initial"
     }
    },
    "c4698a2173b3444cb7469ad716edccb2": {
     "model_module": "@jupyter-widgets/controls",
     "model_name": "HTMLModel",
     "state": {
      "_dom_classes": [],
      "_model_module": "@jupyter-widgets/controls",
      "_model_module_version": "1.5.0",
      "_model_name": "HTMLModel",
      "_view_count": null,
      "_view_module": "@jupyter-widgets/controls",
      "_view_module_version": "1.5.0",
      "_view_name": "HTMLView",
      "description": "",
      "description_tooltip": null,
      "layout": "IPY_MODEL_9f38cb19ad87463681a1d76afd0db51d",
      "placeholder": "​",
      "style": "IPY_MODEL_47eec56e4492404198822cc8ed5139e8",
      "value": " 5/5 [04:36&lt;00:00, 55.33s/it]"
     }
    },
    "c5c5ec55c91447c98063e7ff85a8d8cf": {
     "model_module": "@jupyter-widgets/controls",
     "model_name": "DescriptionStyleModel",
     "state": {
      "_model_module": "@jupyter-widgets/controls",
      "_model_module_version": "1.5.0",
      "_model_name": "DescriptionStyleModel",
      "_view_count": null,
      "_view_module": "@jupyter-widgets/base",
      "_view_module_version": "1.2.0",
      "_view_name": "StyleView",
      "description_width": ""
     }
    },
    "c6cf5590ce0e494a99b1d8e3e6ba25a2": {
     "model_module": "@jupyter-widgets/base",
     "model_name": "LayoutModel",
     "state": {
      "_model_module": "@jupyter-widgets/base",
      "_model_module_version": "1.2.0",
      "_model_name": "LayoutModel",
      "_view_count": null,
      "_view_module": "@jupyter-widgets/base",
      "_view_module_version": "1.2.0",
      "_view_name": "LayoutView",
      "align_content": null,
      "align_items": null,
      "align_self": null,
      "border": null,
      "bottom": null,
      "display": null,
      "flex": null,
      "flex_flow": null,
      "grid_area": null,
      "grid_auto_columns": null,
      "grid_auto_flow": null,
      "grid_auto_rows": null,
      "grid_column": null,
      "grid_gap": null,
      "grid_row": null,
      "grid_template_areas": null,
      "grid_template_columns": null,
      "grid_template_rows": null,
      "height": null,
      "justify_content": null,
      "justify_items": null,
      "left": null,
      "margin": null,
      "max_height": null,
      "max_width": null,
      "min_height": null,
      "min_width": null,
      "object_fit": null,
      "object_position": null,
      "order": null,
      "overflow": null,
      "overflow_x": null,
      "overflow_y": null,
      "padding": null,
      "right": null,
      "top": null,
      "visibility": null,
      "width": null
     }
    },
    "c71709baa9b04ef58c690ff3631488ae": {
     "model_module": "@jupyter-widgets/controls",
     "model_name": "HBoxModel",
     "state": {
      "_dom_classes": [],
      "_model_module": "@jupyter-widgets/controls",
      "_model_module_version": "1.5.0",
      "_model_name": "HBoxModel",
      "_view_count": null,
      "_view_module": "@jupyter-widgets/controls",
      "_view_module_version": "1.5.0",
      "_view_name": "HBoxView",
      "box_style": "",
      "children": [
       "IPY_MODEL_50ea206290bb43069715ebd61aa8ce66",
       "IPY_MODEL_c4698a2173b3444cb7469ad716edccb2"
      ],
      "layout": "IPY_MODEL_455e735de05c411aa68c1c39d709fb3c"
     }
    },
    "c9b9026bdba749e38bbba8806952be2f": {
     "model_module": "@jupyter-widgets/base",
     "model_name": "LayoutModel",
     "state": {
      "_model_module": "@jupyter-widgets/base",
      "_model_module_version": "1.2.0",
      "_model_name": "LayoutModel",
      "_view_count": null,
      "_view_module": "@jupyter-widgets/base",
      "_view_module_version": "1.2.0",
      "_view_name": "LayoutView",
      "align_content": null,
      "align_items": null,
      "align_self": null,
      "border": null,
      "bottom": null,
      "display": null,
      "flex": null,
      "flex_flow": null,
      "grid_area": null,
      "grid_auto_columns": null,
      "grid_auto_flow": null,
      "grid_auto_rows": null,
      "grid_column": null,
      "grid_gap": null,
      "grid_row": null,
      "grid_template_areas": null,
      "grid_template_columns": null,
      "grid_template_rows": null,
      "height": null,
      "justify_content": null,
      "justify_items": null,
      "left": null,
      "margin": null,
      "max_height": null,
      "max_width": null,
      "min_height": null,
      "min_width": null,
      "object_fit": null,
      "object_position": null,
      "order": null,
      "overflow": null,
      "overflow_x": null,
      "overflow_y": null,
      "padding": null,
      "right": null,
      "top": null,
      "visibility": null,
      "width": null
     }
    },
    "ca51fd33f8af4ab88f2292a2bf500bcc": {
     "model_module": "@jupyter-widgets/controls",
     "model_name": "DescriptionStyleModel",
     "state": {
      "_model_module": "@jupyter-widgets/controls",
      "_model_module_version": "1.5.0",
      "_model_name": "DescriptionStyleModel",
      "_view_count": null,
      "_view_module": "@jupyter-widgets/base",
      "_view_module_version": "1.2.0",
      "_view_name": "StyleView",
      "description_width": ""
     }
    },
    "cb9471babf8245999b87a7169bfc857c": {
     "model_module": "@jupyter-widgets/controls",
     "model_name": "DescriptionStyleModel",
     "state": {
      "_model_module": "@jupyter-widgets/controls",
      "_model_module_version": "1.5.0",
      "_model_name": "DescriptionStyleModel",
      "_view_count": null,
      "_view_module": "@jupyter-widgets/base",
      "_view_module_version": "1.2.0",
      "_view_name": "StyleView",
      "description_width": ""
     }
    },
    "ceaf4419e3c747b0991bd33e9935543d": {
     "model_module": "@jupyter-widgets/controls",
     "model_name": "ProgressStyleModel",
     "state": {
      "_model_module": "@jupyter-widgets/controls",
      "_model_module_version": "1.5.0",
      "_model_name": "ProgressStyleModel",
      "_view_count": null,
      "_view_module": "@jupyter-widgets/base",
      "_view_module_version": "1.2.0",
      "_view_name": "StyleView",
      "bar_color": null,
      "description_width": "initial"
     }
    },
    "cfec5c2ca7914538ba130412f74b0899": {
     "model_module": "@jupyter-widgets/base",
     "model_name": "LayoutModel",
     "state": {
      "_model_module": "@jupyter-widgets/base",
      "_model_module_version": "1.2.0",
      "_model_name": "LayoutModel",
      "_view_count": null,
      "_view_module": "@jupyter-widgets/base",
      "_view_module_version": "1.2.0",
      "_view_name": "LayoutView",
      "align_content": null,
      "align_items": null,
      "align_self": null,
      "border": null,
      "bottom": null,
      "display": null,
      "flex": null,
      "flex_flow": null,
      "grid_area": null,
      "grid_auto_columns": null,
      "grid_auto_flow": null,
      "grid_auto_rows": null,
      "grid_column": null,
      "grid_gap": null,
      "grid_row": null,
      "grid_template_areas": null,
      "grid_template_columns": null,
      "grid_template_rows": null,
      "height": null,
      "justify_content": null,
      "justify_items": null,
      "left": null,
      "margin": null,
      "max_height": null,
      "max_width": null,
      "min_height": null,
      "min_width": null,
      "object_fit": null,
      "object_position": null,
      "order": null,
      "overflow": null,
      "overflow_x": null,
      "overflow_y": null,
      "padding": null,
      "right": null,
      "top": null,
      "visibility": null,
      "width": null
     }
    },
    "d029fbc0322641978c8d97181bc102ec": {
     "model_module": "@jupyter-widgets/controls",
     "model_name": "ProgressStyleModel",
     "state": {
      "_model_module": "@jupyter-widgets/controls",
      "_model_module_version": "1.5.0",
      "_model_name": "ProgressStyleModel",
      "_view_count": null,
      "_view_module": "@jupyter-widgets/base",
      "_view_module_version": "1.2.0",
      "_view_name": "StyleView",
      "bar_color": null,
      "description_width": "initial"
     }
    },
    "d0bc46d3efdb4900b37742a8df21cd94": {
     "model_module": "@jupyter-widgets/controls",
     "model_name": "FloatProgressModel",
     "state": {
      "_dom_classes": [],
      "_model_module": "@jupyter-widgets/controls",
      "_model_module_version": "1.5.0",
      "_model_name": "FloatProgressModel",
      "_view_count": null,
      "_view_module": "@jupyter-widgets/controls",
      "_view_module_version": "1.5.0",
      "_view_name": "ProgressView",
      "bar_style": "success",
      "description": "100%",
      "description_tooltip": null,
      "layout": "IPY_MODEL_799f90eaa2a5464fa26df03cd8f8dd15",
      "max": 5,
      "min": 0,
      "orientation": "horizontal",
      "style": "IPY_MODEL_1cefec8d7a1e43ad938d58888d6089ea",
      "value": 5
     }
    },
    "d1996480f6d3464d9c579eacb022775f": {
     "model_module": "@jupyter-widgets/controls",
     "model_name": "DescriptionStyleModel",
     "state": {
      "_model_module": "@jupyter-widgets/controls",
      "_model_module_version": "1.5.0",
      "_model_name": "DescriptionStyleModel",
      "_view_count": null,
      "_view_module": "@jupyter-widgets/base",
      "_view_module_version": "1.2.0",
      "_view_name": "StyleView",
      "description_width": ""
     }
    },
    "d2a6161589d347e49d27a82a7641365c": {
     "model_module": "@jupyter-widgets/controls",
     "model_name": "FloatProgressModel",
     "state": {
      "_dom_classes": [],
      "_model_module": "@jupyter-widgets/controls",
      "_model_module_version": "1.5.0",
      "_model_name": "FloatProgressModel",
      "_view_count": null,
      "_view_module": "@jupyter-widgets/controls",
      "_view_module_version": "1.5.0",
      "_view_name": "ProgressView",
      "bar_style": "success",
      "description": "100%",
      "description_tooltip": null,
      "layout": "IPY_MODEL_03e942e58e5e42cab903257cd40d9c79",
      "max": 5,
      "min": 0,
      "orientation": "horizontal",
      "style": "IPY_MODEL_58a65498c907429080249087f851e3ca",
      "value": 5
     }
    },
    "d6a64e14009c462facda0d418e143b7b": {
     "model_module": "@jupyter-widgets/controls",
     "model_name": "ProgressStyleModel",
     "state": {
      "_model_module": "@jupyter-widgets/controls",
      "_model_module_version": "1.5.0",
      "_model_name": "ProgressStyleModel",
      "_view_count": null,
      "_view_module": "@jupyter-widgets/base",
      "_view_module_version": "1.2.0",
      "_view_name": "StyleView",
      "bar_color": null,
      "description_width": "initial"
     }
    },
    "d8451fe8251249e3a2a54ca298fb4553": {
     "model_module": "@jupyter-widgets/base",
     "model_name": "LayoutModel",
     "state": {
      "_model_module": "@jupyter-widgets/base",
      "_model_module_version": "1.2.0",
      "_model_name": "LayoutModel",
      "_view_count": null,
      "_view_module": "@jupyter-widgets/base",
      "_view_module_version": "1.2.0",
      "_view_name": "LayoutView",
      "align_content": null,
      "align_items": null,
      "align_self": null,
      "border": null,
      "bottom": null,
      "display": null,
      "flex": null,
      "flex_flow": null,
      "grid_area": null,
      "grid_auto_columns": null,
      "grid_auto_flow": null,
      "grid_auto_rows": null,
      "grid_column": null,
      "grid_gap": null,
      "grid_row": null,
      "grid_template_areas": null,
      "grid_template_columns": null,
      "grid_template_rows": null,
      "height": null,
      "justify_content": null,
      "justify_items": null,
      "left": null,
      "margin": null,
      "max_height": null,
      "max_width": null,
      "min_height": null,
      "min_width": null,
      "object_fit": null,
      "object_position": null,
      "order": null,
      "overflow": null,
      "overflow_x": null,
      "overflow_y": null,
      "padding": null,
      "right": null,
      "top": null,
      "visibility": null,
      "width": null
     }
    },
    "d98220e895ed4cff84d330142177bcae": {
     "model_module": "@jupyter-widgets/base",
     "model_name": "LayoutModel",
     "state": {
      "_model_module": "@jupyter-widgets/base",
      "_model_module_version": "1.2.0",
      "_model_name": "LayoutModel",
      "_view_count": null,
      "_view_module": "@jupyter-widgets/base",
      "_view_module_version": "1.2.0",
      "_view_name": "LayoutView",
      "align_content": null,
      "align_items": null,
      "align_self": null,
      "border": null,
      "bottom": null,
      "display": null,
      "flex": null,
      "flex_flow": null,
      "grid_area": null,
      "grid_auto_columns": null,
      "grid_auto_flow": null,
      "grid_auto_rows": null,
      "grid_column": null,
      "grid_gap": null,
      "grid_row": null,
      "grid_template_areas": null,
      "grid_template_columns": null,
      "grid_template_rows": null,
      "height": null,
      "justify_content": null,
      "justify_items": null,
      "left": null,
      "margin": null,
      "max_height": null,
      "max_width": null,
      "min_height": null,
      "min_width": null,
      "object_fit": null,
      "object_position": null,
      "order": null,
      "overflow": null,
      "overflow_x": null,
      "overflow_y": null,
      "padding": null,
      "right": null,
      "top": null,
      "visibility": null,
      "width": null
     }
    },
    "da131e358dfa4363a41a0029fd1bf799": {
     "model_module": "@jupyter-widgets/controls",
     "model_name": "ProgressStyleModel",
     "state": {
      "_model_module": "@jupyter-widgets/controls",
      "_model_module_version": "1.5.0",
      "_model_name": "ProgressStyleModel",
      "_view_count": null,
      "_view_module": "@jupyter-widgets/base",
      "_view_module_version": "1.2.0",
      "_view_name": "StyleView",
      "bar_color": null,
      "description_width": "initial"
     }
    },
    "dbdf4faa493b4b6ea3735573eda4f354": {
     "model_module": "@jupyter-widgets/controls",
     "model_name": "HBoxModel",
     "state": {
      "_dom_classes": [],
      "_model_module": "@jupyter-widgets/controls",
      "_model_module_version": "1.5.0",
      "_model_name": "HBoxModel",
      "_view_count": null,
      "_view_module": "@jupyter-widgets/controls",
      "_view_module_version": "1.5.0",
      "_view_name": "HBoxView",
      "box_style": "",
      "children": [
       "IPY_MODEL_3db5e477a0504b47bbe8c84dc8ebd969",
       "IPY_MODEL_765f27a7f9ac46808697184947b5fb4d"
      ],
      "layout": "IPY_MODEL_a1a6fa291ca2494ba504a8a22e0df231"
     }
    },
    "dc043da0d8234ef7b0b048ec1b0187df": {
     "model_module": "@jupyter-widgets/base",
     "model_name": "LayoutModel",
     "state": {
      "_model_module": "@jupyter-widgets/base",
      "_model_module_version": "1.2.0",
      "_model_name": "LayoutModel",
      "_view_count": null,
      "_view_module": "@jupyter-widgets/base",
      "_view_module_version": "1.2.0",
      "_view_name": "LayoutView",
      "align_content": null,
      "align_items": null,
      "align_self": null,
      "border": null,
      "bottom": null,
      "display": null,
      "flex": null,
      "flex_flow": null,
      "grid_area": null,
      "grid_auto_columns": null,
      "grid_auto_flow": null,
      "grid_auto_rows": null,
      "grid_column": null,
      "grid_gap": null,
      "grid_row": null,
      "grid_template_areas": null,
      "grid_template_columns": null,
      "grid_template_rows": null,
      "height": null,
      "justify_content": null,
      "justify_items": null,
      "left": null,
      "margin": null,
      "max_height": null,
      "max_width": null,
      "min_height": null,
      "min_width": null,
      "object_fit": null,
      "object_position": null,
      "order": null,
      "overflow": null,
      "overflow_x": null,
      "overflow_y": null,
      "padding": null,
      "right": null,
      "top": null,
      "visibility": null,
      "width": null
     }
    },
    "dce95202831c4a14beea2f252f082a9a": {
     "model_module": "@jupyter-widgets/controls",
     "model_name": "DescriptionStyleModel",
     "state": {
      "_model_module": "@jupyter-widgets/controls",
      "_model_module_version": "1.5.0",
      "_model_name": "DescriptionStyleModel",
      "_view_count": null,
      "_view_module": "@jupyter-widgets/base",
      "_view_module_version": "1.2.0",
      "_view_name": "StyleView",
      "description_width": ""
     }
    },
    "de4958ff6a604c049ccb4d95ae26c3a0": {
     "model_module": "@jupyter-widgets/controls",
     "model_name": "ProgressStyleModel",
     "state": {
      "_model_module": "@jupyter-widgets/controls",
      "_model_module_version": "1.5.0",
      "_model_name": "ProgressStyleModel",
      "_view_count": null,
      "_view_module": "@jupyter-widgets/base",
      "_view_module_version": "1.2.0",
      "_view_name": "StyleView",
      "bar_color": null,
      "description_width": "initial"
     }
    },
    "df77e94435ed4342b72f50c0138e1ea1": {
     "model_module": "@jupyter-widgets/controls",
     "model_name": "DescriptionStyleModel",
     "state": {
      "_model_module": "@jupyter-widgets/controls",
      "_model_module_version": "1.5.0",
      "_model_name": "DescriptionStyleModel",
      "_view_count": null,
      "_view_module": "@jupyter-widgets/base",
      "_view_module_version": "1.2.0",
      "_view_name": "StyleView",
      "description_width": ""
     }
    },
    "e0b5f26ded8b406ab71ab1c90c6320d4": {
     "model_module": "@jupyter-widgets/controls",
     "model_name": "DescriptionStyleModel",
     "state": {
      "_model_module": "@jupyter-widgets/controls",
      "_model_module_version": "1.5.0",
      "_model_name": "DescriptionStyleModel",
      "_view_count": null,
      "_view_module": "@jupyter-widgets/base",
      "_view_module_version": "1.2.0",
      "_view_name": "StyleView",
      "description_width": ""
     }
    },
    "e4a9c56f99264157946887426b1e7b4a": {
     "model_module": "@jupyter-widgets/controls",
     "model_name": "ProgressStyleModel",
     "state": {
      "_model_module": "@jupyter-widgets/controls",
      "_model_module_version": "1.5.0",
      "_model_name": "ProgressStyleModel",
      "_view_count": null,
      "_view_module": "@jupyter-widgets/base",
      "_view_module_version": "1.2.0",
      "_view_name": "StyleView",
      "bar_color": null,
      "description_width": "initial"
     }
    },
    "e4b4b5f2e4cf4f39bc954f8c511e0e4f": {
     "model_module": "@jupyter-widgets/controls",
     "model_name": "HBoxModel",
     "state": {
      "_dom_classes": [],
      "_model_module": "@jupyter-widgets/controls",
      "_model_module_version": "1.5.0",
      "_model_name": "HBoxModel",
      "_view_count": null,
      "_view_module": "@jupyter-widgets/controls",
      "_view_module_version": "1.5.0",
      "_view_name": "HBoxView",
      "box_style": "",
      "children": [
       "IPY_MODEL_6b0f0de1689f432584c2aaf2dce824f0",
       "IPY_MODEL_eb20c07284b444ce9eb51d9beb4a75bd"
      ],
      "layout": "IPY_MODEL_79c09a43f5cc40b699232d4a5db6a4c0"
     }
    },
    "e4c83de1d6074790b338402a21d8f503": {
     "model_module": "@jupyter-widgets/controls",
     "model_name": "HBoxModel",
     "state": {
      "_dom_classes": [],
      "_model_module": "@jupyter-widgets/controls",
      "_model_module_version": "1.5.0",
      "_model_name": "HBoxModel",
      "_view_count": null,
      "_view_module": "@jupyter-widgets/controls",
      "_view_module_version": "1.5.0",
      "_view_name": "HBoxView",
      "box_style": "",
      "children": [
       "IPY_MODEL_1d867217aa0543028d2fba8eb1acb38f",
       "IPY_MODEL_4170752352464201a21b3987a906fe7c"
      ],
      "layout": "IPY_MODEL_6fdadd86176c48e29e99ec7c479d70ed"
     }
    },
    "e82e2a2daf93481f802b3673f0420c5a": {
     "model_module": "@jupyter-widgets/base",
     "model_name": "LayoutModel",
     "state": {
      "_model_module": "@jupyter-widgets/base",
      "_model_module_version": "1.2.0",
      "_model_name": "LayoutModel",
      "_view_count": null,
      "_view_module": "@jupyter-widgets/base",
      "_view_module_version": "1.2.0",
      "_view_name": "LayoutView",
      "align_content": null,
      "align_items": null,
      "align_self": null,
      "border": null,
      "bottom": null,
      "display": null,
      "flex": null,
      "flex_flow": null,
      "grid_area": null,
      "grid_auto_columns": null,
      "grid_auto_flow": null,
      "grid_auto_rows": null,
      "grid_column": null,
      "grid_gap": null,
      "grid_row": null,
      "grid_template_areas": null,
      "grid_template_columns": null,
      "grid_template_rows": null,
      "height": null,
      "justify_content": null,
      "justify_items": null,
      "left": null,
      "margin": null,
      "max_height": null,
      "max_width": null,
      "min_height": null,
      "min_width": null,
      "object_fit": null,
      "object_position": null,
      "order": null,
      "overflow": null,
      "overflow_x": null,
      "overflow_y": null,
      "padding": null,
      "right": null,
      "top": null,
      "visibility": null,
      "width": null
     }
    },
    "eb20c07284b444ce9eb51d9beb4a75bd": {
     "model_module": "@jupyter-widgets/controls",
     "model_name": "HTMLModel",
     "state": {
      "_dom_classes": [],
      "_model_module": "@jupyter-widgets/controls",
      "_model_module_version": "1.5.0",
      "_model_name": "HTMLModel",
      "_view_count": null,
      "_view_module": "@jupyter-widgets/controls",
      "_view_module_version": "1.5.0",
      "_view_name": "HTMLView",
      "description": "",
      "description_tooltip": null,
      "layout": "IPY_MODEL_e82e2a2daf93481f802b3673f0420c5a",
      "placeholder": "​",
      "style": "IPY_MODEL_e0b5f26ded8b406ab71ab1c90c6320d4",
      "value": " 4/5 [01:47&lt;00:26, 26.96s/it]"
     }
    },
    "eea19f343fdd4d5ca836af39b8b041a7": {
     "model_module": "@jupyter-widgets/controls",
     "model_name": "DescriptionStyleModel",
     "state": {
      "_model_module": "@jupyter-widgets/controls",
      "_model_module_version": "1.5.0",
      "_model_name": "DescriptionStyleModel",
      "_view_count": null,
      "_view_module": "@jupyter-widgets/base",
      "_view_module_version": "1.2.0",
      "_view_name": "StyleView",
      "description_width": ""
     }
    },
    "ef239ab72974499e9757eb5f38693307": {
     "model_module": "@jupyter-widgets/controls",
     "model_name": "HBoxModel",
     "state": {
      "_dom_classes": [],
      "_model_module": "@jupyter-widgets/controls",
      "_model_module_version": "1.5.0",
      "_model_name": "HBoxModel",
      "_view_count": null,
      "_view_module": "@jupyter-widgets/controls",
      "_view_module_version": "1.5.0",
      "_view_name": "HBoxView",
      "box_style": "",
      "children": [
       "IPY_MODEL_d2a6161589d347e49d27a82a7641365c",
       "IPY_MODEL_4af5b737d867494785ef6ef12924068a"
      ],
      "layout": "IPY_MODEL_07abe9c66f9b4cde89b0683b9b4ad5de"
     }
    },
    "f2f607f3ce874d11872d146fb8c4b8ae": {
     "model_module": "@jupyter-widgets/controls",
     "model_name": "ProgressStyleModel",
     "state": {
      "_model_module": "@jupyter-widgets/controls",
      "_model_module_version": "1.5.0",
      "_model_name": "ProgressStyleModel",
      "_view_count": null,
      "_view_module": "@jupyter-widgets/base",
      "_view_module_version": "1.2.0",
      "_view_name": "StyleView",
      "bar_color": null,
      "description_width": "initial"
     }
    },
    "f307a7bee5d044b2918252ee679a8443": {
     "model_module": "@jupyter-widgets/controls",
     "model_name": "HTMLModel",
     "state": {
      "_dom_classes": [],
      "_model_module": "@jupyter-widgets/controls",
      "_model_module_version": "1.5.0",
      "_model_name": "HTMLModel",
      "_view_count": null,
      "_view_module": "@jupyter-widgets/controls",
      "_view_module_version": "1.5.0",
      "_view_name": "HTMLView",
      "description": "",
      "description_tooltip": null,
      "layout": "IPY_MODEL_aa0a848d054f4a409bc95004190fba5c",
      "placeholder": "​",
      "style": "IPY_MODEL_67bc91ed40044c6493e33e1ede136c1c",
      "value": " 5/5 [02:46&lt;00:00, 33.34s/it]"
     }
    },
    "f398613409e54c2a9141b7055a557080": {
     "model_module": "@jupyter-widgets/controls",
     "model_name": "HBoxModel",
     "state": {
      "_dom_classes": [],
      "_model_module": "@jupyter-widgets/controls",
      "_model_module_version": "1.5.0",
      "_model_name": "HBoxModel",
      "_view_count": null,
      "_view_module": "@jupyter-widgets/controls",
      "_view_module_version": "1.5.0",
      "_view_name": "HBoxView",
      "box_style": "",
      "children": [
       "IPY_MODEL_758f83345f814dde9af0bbfa19431cf7",
       "IPY_MODEL_999c5a8668cf4a939be84e738e4431ed"
      ],
      "layout": "IPY_MODEL_4d1f1a66e55f485c8b119c75640d7d1b"
     }
    },
    "f4f4aa9d6fbe4362985f6cba78b4e394": {
     "model_module": "@jupyter-widgets/controls",
     "model_name": "HTMLModel",
     "state": {
      "_dom_classes": [],
      "_model_module": "@jupyter-widgets/controls",
      "_model_module_version": "1.5.0",
      "_model_name": "HTMLModel",
      "_view_count": null,
      "_view_module": "@jupyter-widgets/controls",
      "_view_module_version": "1.5.0",
      "_view_name": "HTMLView",
      "description": "",
      "description_tooltip": null,
      "layout": "IPY_MODEL_af0a784605034a13b731d7ae5475426d",
      "placeholder": "​",
      "style": "IPY_MODEL_df77e94435ed4342b72f50c0138e1ea1",
      "value": " 5/5 [02:55&lt;00:00, 35.06s/it]"
     }
    },
    "f5afced08058485bb916c878a37393db": {
     "model_module": "@jupyter-widgets/base",
     "model_name": "LayoutModel",
     "state": {
      "_model_module": "@jupyter-widgets/base",
      "_model_module_version": "1.2.0",
      "_model_name": "LayoutModel",
      "_view_count": null,
      "_view_module": "@jupyter-widgets/base",
      "_view_module_version": "1.2.0",
      "_view_name": "LayoutView",
      "align_content": null,
      "align_items": null,
      "align_self": null,
      "border": null,
      "bottom": null,
      "display": null,
      "flex": null,
      "flex_flow": null,
      "grid_area": null,
      "grid_auto_columns": null,
      "grid_auto_flow": null,
      "grid_auto_rows": null,
      "grid_column": null,
      "grid_gap": null,
      "grid_row": null,
      "grid_template_areas": null,
      "grid_template_columns": null,
      "grid_template_rows": null,
      "height": null,
      "justify_content": null,
      "justify_items": null,
      "left": null,
      "margin": null,
      "max_height": null,
      "max_width": null,
      "min_height": null,
      "min_width": null,
      "object_fit": null,
      "object_position": null,
      "order": null,
      "overflow": null,
      "overflow_x": null,
      "overflow_y": null,
      "padding": null,
      "right": null,
      "top": null,
      "visibility": null,
      "width": null
     }
    },
    "fccdfd9687644419b1e03c2761626fe2": {
     "model_module": "@jupyter-widgets/controls",
     "model_name": "FloatProgressModel",
     "state": {
      "_dom_classes": [],
      "_model_module": "@jupyter-widgets/controls",
      "_model_module_version": "1.5.0",
      "_model_name": "FloatProgressModel",
      "_view_count": null,
      "_view_module": "@jupyter-widgets/controls",
      "_view_module_version": "1.5.0",
      "_view_name": "ProgressView",
      "bar_style": "success",
      "description": "100%",
      "description_tooltip": null,
      "layout": "IPY_MODEL_6441238e96d8476eae4cee5a22c21724",
      "max": 5,
      "min": 0,
      "orientation": "horizontal",
      "style": "IPY_MODEL_ceaf4419e3c747b0991bd33e9935543d",
      "value": 5
     }
    }
   }
  }
 },
 "nbformat": 4,
 "nbformat_minor": 2
}
